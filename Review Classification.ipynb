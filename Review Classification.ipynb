{
 "cells": [
  {
   "cell_type": "markdown",
   "metadata": {},
   "source": [
    "<center style=\"font-size: 1cm\"> Класификация на текст</center>\n"
   ]
  },
  {
   "cell_type": "markdown",
   "metadata": {},
   "source": [
    " Проблема, който ще разгледам се състой в това - за дадено CV(curriculum vitae) трябва да се предвиди класът към който то принадлежи - HR, Art ... като класовете са повече от 2, т.е multiclass и   съответното cv може да се  класифицира точно в един клас. Ще бъдат разгледани алгоритми за класификация, като Logistic Regression, SVM, како и ансамблови методи - bagging, boosting."
   ]
  },
  {
   "cell_type": "code",
   "execution_count": 2,
   "metadata": {},
   "outputs": [],
   "source": [
    "import pandas as pd\n",
    "import numpy as np\n",
    "import re\n",
    "import string\n",
    "import codecs\n",
    "from nltk.stem.wordnet import WordNetLemmatizer\n",
    "from sklearn.linear_model import LogisticRegression\n",
    "from nltk import pos_tag\n",
    "from nltk.corpus import wordnet \n",
    "from sklearn.feature_extraction.text import CountVectorizer, TfidfVectorizer, TfidfTransformer\n",
    "from sklearn.model_selection import train_test_split\n",
    "import pandas as pd\n",
    "from nltk.corpus import stopwords\n",
    "from sklearn.linear_model import LogisticRegression\n",
    "from sklearn.model_selection import GridSearchCV, RandomizedSearchCV\n",
    "from sklearn.pipeline import Pipeline\n",
    "from sklearn.ensemble import RandomForestClassifier\n",
    "from sklearn.metrics import classification_report, confusion_matrix\n",
    "import seaborn as sns\n",
    "import matplotlib.pyplot as plt\n",
    "from sklearn.svm import LinearSVC, SVC\n",
    "from sklearn.naive_bayes import MultinomialNB\n",
    "from xgboost import XGBClassifier\n",
    "from sklearn.externals import joblib\n",
    "from sklearn.metrics import accuracy_score\n",
    "from sklearn.dummy import DummyClassifier\n",
    "\n",
    "import os\n",
    "%matplotlib inline"
   ]
  },
  {
   "cell_type": "code",
   "execution_count": 3,
   "metadata": {},
   "outputs": [],
   "source": [
    "\n",
    "def load_grids():\n",
    "    path = \"./grids/Last/\"\n",
    "    grids = {}\n",
    "    filenames = os.listdir(path)\n",
    "    for filename in filenames:\n",
    "        print(filename)\n",
    "        grid_name = filename.split(\".\")[0]\n",
    "        clf_name, type_ = grid_name.split(\"_\")\n",
    "        if clf_name not in grids:\n",
    "            grids[clf_name] = {}\n",
    "        grids[clf_name][type_] = joblib.load(\"{}{}\".format(path,filename))\n",
    "    return grids"
   ]
  },
  {
   "cell_type": "code",
   "execution_count": 4,
   "metadata": {},
   "outputs": [],
   "source": [
    "clfs_defaults = {\n",
    "    \"LogisticRegression\": LogisticRegression(),\n",
    "    \"LinearSVC\": LinearSVC(),\n",
    "    \"SVC\": SVC(),\n",
    "    \"RandomForest\": RandomForestClassifier(),\n",
    "    \"MultinomialNB\": MultinomialNB(),\n",
    "    \"Xgboost\": XGBClassifier()\n",
    "}\n",
    "# classifiers_names = list(clfs_default.keys())"
   ]
  },
  {
   "cell_type": "code",
   "execution_count": 5,
   "metadata": {},
   "outputs": [],
   "source": [
    "def clf_default_fit(clfs_default):\n",
    "    # fit all classifiers from dict\n",
    "    fitted = {}\n",
    "    \n",
    "    for clf_name, clf in clfs_default.items():\n",
    "        pipe = Pipeline([\n",
    "            (\"vect\", CountVectorizer()),\n",
    "            (\"clf\", clf)\n",
    "        ])\n",
    "        pipe.fit(X_train, y_train)\n",
    "        predicted = pipe.predict(X_test)\n",
    "\n",
    "        fitted[clf_name] =  accuracy_score(y_test, predicted)\n",
    "\n",
    "    return fitted"
   ]
  },
  {
   "cell_type": "code",
   "execution_count": 6,
   "metadata": {},
   "outputs": [],
   "source": [
    "def select_best_clf_defaults(grids):\n",
    "    clfs = {}\n",
    "    \n",
    "    for clf, grid in grids.items():\n",
    "        if len(grid) == 2:\n",
    "            g1 = grid[\"word\"]\n",
    "            g2 = grid[\"char\"]\n",
    "            clfs[clf] = g1 if g1.best_score_ > g2.best_score_ else g2\n",
    "        else:\n",
    "            clfs[clf] = list(grid.values())[0]\n",
    "   \n",
    "    return clfs"
   ]
  },
  {
   "cell_type": "code",
   "execution_count": 7,
   "metadata": {},
   "outputs": [],
   "source": [
    "def process_clf_tuned_params(params_grid):\n",
    "    #return classifier params from pipeline grid \n",
    "    params = params_grid.items()\n",
    "    return {k.split(\"__\")[1]: v for k, v in params if k.startswith(\"clf\")}"
   ]
  },
  {
   "cell_type": "code",
   "execution_count": 8,
   "metadata": {},
   "outputs": [],
   "source": [
    "def extract_params(clf_tuned_params, clf_orig_params):\n",
    "    extracted_params = {}\n",
    "#     processed_tuned_params = process_clf_tuned_params(clf_tuned_params)\n",
    "    for k, v in clf_orig_params.items():\n",
    "        if k in clf_tuned_params:\n",
    "            extracted_params[k] = v\n",
    "    return extracted_params"
   ]
  },
  {
   "cell_type": "code",
   "execution_count": 9,
   "metadata": {},
   "outputs": [],
   "source": [
    "def init_table():\n",
    "    table = {}\n",
    "    table[\"clf_name\"] = []\n",
    "    table[\"clf_default_score\"] =  []\n",
    "    table[\"clf_tuned_score\"] =  []\n",
    "    return table"
   ]
  },
  {
   "cell_type": "code",
   "execution_count": 10,
   "metadata": {},
   "outputs": [],
   "source": [
    "def make_table(clfs_tuned, clfs_default):\n",
    "    table = init_table()\n",
    "    fitted_default = clf_default_fit(clfs_default)\n",
    "    clfs_names = clfs_tuned.keys()\n",
    "    for clf_name_ in clfs_names:\n",
    "        clf_tuned_params = process_clf_tuned_params(clfs_tuned[clf_name_].best_params_)\n",
    "        clf_default_params = extract_params(clf_tuned_params, clfs_default[clf_name_].get_params())\n",
    "        tuned_score = accuracy_score(y_test, clfs_tuned[clf_name_].predict(X_test))\n",
    "        table[\"clf_name\"].append(clf_name_)\n",
    "        table[\"clf_default_score\"].append(fitted_default[clf_name_])\n",
    "        table[\"clf_tuned_score\"].append(tuned_score)\n",
    "        print(\"Classifier {}\\n\\tParameters after hypertuning: {}\\n\\tDefault parameters: {}\\n\".format(clf_name_,\n",
    "                                              print_params(clf_tuned_params),\n",
    "                                              print_params(clf_default_params)))\n",
    "        \n",
    "    return pd.DataFrame(table)"
   ]
  },
  {
   "cell_type": "code",
   "execution_count": 77,
   "metadata": {},
   "outputs": [],
   "source": [
    "def print_params(d):\n",
    "    return \", \".join([\"{}: {}\".format(k, v) for k, v in d.items()])"
   ]
  },
  {
   "cell_type": "code",
   "execution_count": 2,
   "metadata": {},
   "outputs": [],
   "source": [
    "stop_words = stopwords.words(\"english\")"
   ]
  },
  {
   "cell_type": "code",
   "execution_count": 3,
   "metadata": {},
   "outputs": [],
   "source": [
    "punctuation = string.punctuation"
   ]
  },
  {
   "cell_type": "code",
   "execution_count": 5,
   "metadata": {},
   "outputs": [],
   "source": [
    "def differences(processed, lemmatized):\n",
    "    diffs = []\n",
    "    text = processed.split()\n",
    "    lemmatized = lemmatized.split()\n",
    "    for idx in range(len(text)):\n",
    "        if text[idx] != lemmatized[idx]:\n",
    "            diffs.append((text[idx] ,lemmatized[idx]))\n",
    "            \n",
    "    return diffs"
   ]
  },
  {
   "cell_type": "code",
   "execution_count": 6,
   "metadata": {},
   "outputs": [],
   "source": [
    "def get_wordnet_pos(treebank_tag):\n",
    "    treebank_tag = treebank_tag[0][1]\n",
    "    \n",
    "    if treebank_tag.startswith(\"J\"):\n",
    "        return wordnet.ADJ\n",
    "    elif treebank_tag.startswith(\"V\"):\n",
    "        return wordnet.VERB\n",
    "    elif treebank_tag.startswith(\"N\"):\n",
    "        return wordnet.NOUN\n",
    "    elif treebank_tag.startswith(\"R\"):\n",
    "        return wordnet.ADV\n",
    "    else:\n",
    "        return wordnet.NOUN"
   ]
  },
  {
   "cell_type": "code",
   "execution_count": 7,
   "metadata": {},
   "outputs": [],
   "source": [
    "def lemmatize_text(text):\n",
    "    lemmatizer = WordNetLemmatizer()\n",
    "    text = text.split()\n",
    "    text = \" \".join([lemmatizer.lemmatize(word, get_wordnet_pos(pos_tag([word]))) for word in text])\n",
    "    return text\n",
    "lemmatize_text = np.vectorize(lemmatize_text)"
   ]
  },
  {
   "cell_type": "code",
   "execution_count": 46,
   "metadata": {},
   "outputs": [],
   "source": [
    "def print_vocab(vectorizer):\n",
    "    print(vectorizer.__class__.__name__)\n",
    "    d = list(zip(*vectorizer.vocabulary_.items()))\n",
    "#     return d[0]\n",
    "    df = pd.DataFrame({\"word\": d[0], \"occurrences\": d[1]})\n",
    "    return df.sort_values(by='occurrences', ascending=False)\n",
    "    "
   ]
  },
  {
   "cell_type": "code",
   "execution_count": 16,
   "metadata": {},
   "outputs": [],
   "source": [
    "def make_vect_params(params_dict, params_vect_tfidt=None):\n",
    "    #Construct parameter grids for vectorizers\n",
    "    params_word = {**params_dict[\"params_vect\"], **params_dict[\"params_vect_word\"]}\n",
    "    params_char = {**params_dict[\"params_vect\"], **params_dict[\"params_vect_char\"]}\n",
    "    \n",
    "    if params_vect_tfidt != None:\n",
    "        params_word = {**params_word, **params_dict[\"params_vect_tfidt\"]}\n",
    "        params_char = {**params_char, **params_dict[\"params_vect_tfidt\"]}\n",
    "    \n",
    "    return params_word,params_char\n"
   ]
  },
  {
   "cell_type": "code",
   "execution_count": 18,
   "metadata": {},
   "outputs": [],
   "source": [
    "def combine_param_grids(params_vect, params_clf, vect=None):\n",
    "    params_word, params_char = make_vect_params(params_dict, vect)\n",
    "    \n",
    "    l = []\n",
    "    for name, clf_grid in params_clf.items():\n",
    "        params_clf_word = {**clf_grid, **params_word}\n",
    "        params_clf_char = {**clf_grid, **params_char}\n",
    "        l.append((name, params_clf_word,params_clf_char))\n",
    "    return l"
   ]
  },
  {
   "cell_type": "code",
   "execution_count": 30,
   "metadata": {},
   "outputs": [],
   "source": [
    "def train(clf_name):\n",
    "    grids[clf_name] = {}\n",
    "#     random_grid_search()\n",
    "    for k, v in pipelines[clf_name].items():\n",
    "        print(\"Hyperparameters tuning for {} on {} basis\\n\".format(clf_name, k))\n",
    "        gs = random_grid_search(*v)\n",
    "        grids[clf_name][k] = gs\n",
    "        joblib.dump(gs, \"./grids/Last/{}_{}.pkl\".format(clf_name, k), compress=1) "
   ]
  },
  {
   "cell_type": "code",
   "execution_count": 15,
   "metadata": {},
   "outputs": [],
   "source": [
    "def random_grid_search(pipeline, params, cv=3, n_iter=20):\n",
    "  \n",
    "  rgs = RandomizedSearchCV(pipeline, param_distributions=params, cv=cv, n_jobs=4, n_iter=n_iter, verbose=1, random_state=42)\n",
    "  rgs.fit(X_train, y_train)\n",
    "  \n",
    "  print(\"\\n\",rgs.best_estimator_.steps[1][1].__class__.__name__)\n",
    "  print(\"Best parameters\\n\")\n",
    "  print(rgs.best_params_,\"\\n\")\n",
    "  print(\"Best score {}\\n\".format(rgs.best_score_))\n",
    "  return rgs"
   ]
  },
  {
   "cell_type": "code",
   "execution_count": 17,
   "metadata": {},
   "outputs": [],
   "source": [
    "def make_pipeline(clf, vect=None):\n",
    "    vectorizer = TfidfVectorizer if vect else CountVectorizer\n",
    "    return Pipeline([\n",
    "        (\"vect\", vectorizer(stop_words=stop_words)),\n",
    "        (\"clf\", clf)\n",
    "    ])"
   ]
  },
  {
   "cell_type": "code",
   "execution_count": 8,
   "metadata": {
    "scrolled": false
   },
   "outputs": [],
   "source": [
    "BAD_SYMBOLS = re.compile(\"[{}{}]\".format(re.escape(punctuation),\"\\s\\n'\"))\n",
    "REMOVE_BAD_SYMBOLS = re.compile('[^a-zA-Z #+_]')\n",
    "REPLACE_UNKNOWN = re.compile(\"(\\uf0b7|)\")\n",
    "REMOVE_DIGITS = re.compile(\"[0-9]+\")\n",
    "words_for_remove = [\"name\", \"email\", \"e-mail\", \"address\", \"mobile\", \"phone\", \"surname\"]\n",
    "WORDS_REMOVE = re.compile(\"|\".join(words_for_remove), re.IGNORECASE)\n",
    "REMOVE_EMAIL = re.compile(r'([\\w!#.$%,&*\\s-]+@[\\w.\\s-]+)\\b' ,flags=re.IGNORECASE)\n",
    "REMOVE_URL = re.compile(r\"\\b((?:http://|www\\.?)[\\w/. #$@%&?=+\\-]+[\\w]/?)\", re.IGNORECASE)\n",
    "\n",
    "def clean_text(text):\n",
    "    text = codecs.escape_decode(text[2:-1])[0].decode('utf8')\n",
    "    \n",
    "    text = WORDS_REMOVE.sub(' ', text)\n",
    "    text = REMOVE_EMAIL.sub(' ', text)\n",
    "    text = REMOVE_URL.sub(' ', text)\n",
    "    text = BAD_SYMBOLS.sub(' ', text)\n",
    "    text = REMOVE_DIGITS.sub(' ', text)\n",
    "\n",
    "    return text\n",
    "clean_text = np.vectorize(clean_text)"
   ]
  },
  {
   "cell_type": "code",
   "execution_count": 9,
   "metadata": {},
   "outputs": [],
   "source": [
    "def check_symbles(text):\n",
    "    # find symbols different from a-zA-Z\n",
    "    non_asci = []\n",
    "    chars = [chr(c) for c in range(ord('a'), ord('z') +1)]\n",
    "    chars.extend([chr(c) for c in range(ord('A'), ord('Z') + 1)])\n",
    "    chars.append(\" \")\n",
    "    for char in list(text):\n",
    "        if char not in chars:\n",
    "            non_asci.append(char)\n",
    "    return list(non_asci)\n",
    "check_symbles = np.vectorize(check_symbles)"
   ]
  },
  {
   "cell_type": "code",
   "execution_count": 9,
   "metadata": {},
   "outputs": [],
   "source": [
    "data = pd.read_csv(\"dataset/resume_dataset.csv\")"
   ]
  },
  {
   "cell_type": "code",
   "execution_count": 10,
   "metadata": {
    "scrolled": true
   },
   "outputs": [],
   "source": [
    "data.drop(columns=[\"ID\"], inplace=True)"
   ]
  },
  {
   "cell_type": "code",
   "execution_count": 16,
   "metadata": {},
   "outputs": [],
   "source": [
    "data.loc[:,'char_num'] = data.Resume.apply(lambda x: len(list(x)))"
   ]
  },
  {
   "cell_type": "raw",
   "metadata": {},
   "source": [
    "Нека видим как изглеждат данните"
   ]
  },
  {
   "cell_type": "code",
   "execution_count": 20,
   "metadata": {
    "scrolled": true
   },
   "outputs": [
    {
     "data": {
      "text/html": [
       "<div>\n",
       "<style scoped>\n",
       "    .dataframe tbody tr th:only-of-type {\n",
       "        vertical-align: middle;\n",
       "    }\n",
       "\n",
       "    .dataframe tbody tr th {\n",
       "        vertical-align: top;\n",
       "    }\n",
       "\n",
       "    .dataframe thead th {\n",
       "        text-align: right;\n",
       "    }\n",
       "</style>\n",
       "<table border=\"1\" class=\"dataframe\">\n",
       "  <thead>\n",
       "    <tr style=\"text-align: right;\">\n",
       "      <th></th>\n",
       "      <th>Category</th>\n",
       "      <th>Resume</th>\n",
       "      <th>char_num</th>\n",
       "    </tr>\n",
       "  </thead>\n",
       "  <tbody>\n",
       "    <tr>\n",
       "      <th>0</th>\n",
       "      <td>HR</td>\n",
       "      <td>b'John H. Smith, P.H.R.\\n800-991-5187 | PO Box...</td>\n",
       "      <td>6681</td>\n",
       "    </tr>\n",
       "    <tr>\n",
       "      <th>1</th>\n",
       "      <td>HR</td>\n",
       "      <td>b'Name Surname\\nAddress\\nMobile No/Email\\nPERS...</td>\n",
       "      <td>1859</td>\n",
       "    </tr>\n",
       "    <tr>\n",
       "      <th>2</th>\n",
       "      <td>HR</td>\n",
       "      <td>b'Anthony Brown\\nHR Assistant\\nAREAS OF EXPERT...</td>\n",
       "      <td>7672</td>\n",
       "    </tr>\n",
       "    <tr>\n",
       "      <th>3</th>\n",
       "      <td>HR</td>\n",
       "      <td>b'www.downloadmela.com\\nSatheesh\\nEMAIL ID:\\nC...</td>\n",
       "      <td>9971</td>\n",
       "    </tr>\n",
       "    <tr>\n",
       "      <th>4</th>\n",
       "      <td>HR</td>\n",
       "      <td>b\"HUMAN RESOURCES DIRECTOR\\n\\xef\\x82\\xb7Expert...</td>\n",
       "      <td>6386</td>\n",
       "    </tr>\n",
       "    <tr>\n",
       "      <th>5</th>\n",
       "      <td>HR</td>\n",
       "      <td>b'John H. Smith, P.H.R.\\n800-991-5187 | PO Box...</td>\n",
       "      <td>6681</td>\n",
       "    </tr>\n",
       "    <tr>\n",
       "      <th>6</th>\n",
       "      <td>HR</td>\n",
       "      <td>b'Resume of Satheesh\\n\\nwww.downlo\\nSatheesh\\n...</td>\n",
       "      <td>8938</td>\n",
       "    </tr>\n",
       "    <tr>\n",
       "      <th>7</th>\n",
       "      <td>HR</td>\n",
       "      <td>b\"GM HR &amp; ADMINISTRATION Resume Sample www.tim...</td>\n",
       "      <td>10143</td>\n",
       "    </tr>\n",
       "    <tr>\n",
       "      <th>8</th>\n",
       "      <td>HR</td>\n",
       "      <td>b\"www.uaehrzone.com\\n\\nRobert Wales\\nDubai\\nUn...</td>\n",
       "      <td>10945</td>\n",
       "    </tr>\n",
       "    <tr>\n",
       "      <th>9</th>\n",
       "      <td>HR</td>\n",
       "      <td>b\"Human Resources Coordinator Resume\\nExample\\...</td>\n",
       "      <td>2680</td>\n",
       "    </tr>\n",
       "  </tbody>\n",
       "</table>\n",
       "</div>"
      ],
      "text/plain": [
       "  Category                                             Resume  char_num\n",
       "0       HR  b'John H. Smith, P.H.R.\\n800-991-5187 | PO Box...      6681\n",
       "1       HR  b'Name Surname\\nAddress\\nMobile No/Email\\nPERS...      1859\n",
       "2       HR  b'Anthony Brown\\nHR Assistant\\nAREAS OF EXPERT...      7672\n",
       "3       HR  b'www.downloadmela.com\\nSatheesh\\nEMAIL ID:\\nC...      9971\n",
       "4       HR  b\"HUMAN RESOURCES DIRECTOR\\n\\xef\\x82\\xb7Expert...      6386\n",
       "5       HR  b'John H. Smith, P.H.R.\\n800-991-5187 | PO Box...      6681\n",
       "6       HR  b'Resume of Satheesh\\n\\nwww.downlo\\nSatheesh\\n...      8938\n",
       "7       HR  b\"GM HR & ADMINISTRATION Resume Sample www.tim...     10143\n",
       "8       HR  b\"www.uaehrzone.com\\n\\nRobert Wales\\nDubai\\nUn...     10945\n",
       "9       HR  b\"Human Resources Coordinator Resume\\nExample\\...      2680"
      ]
     },
     "execution_count": 20,
     "metadata": {},
     "output_type": "execute_result"
    }
   ],
   "source": [
    "data.head(10)"
   ]
  },
  {
   "cell_type": "code",
   "execution_count": 18,
   "metadata": {},
   "outputs": [
    {
     "name": "stdout",
     "output_type": "stream",
     "text": [
      "1219 записа и 25 класа\n"
     ]
    }
   ],
   "source": [
    "print(\"{} записа и {} класа\".format(data.shape[0], len(data.Category.unique())))"
   ]
  },
  {
   "cell_type": "raw",
   "metadata": {},
   "source": [
    "Да видим как се разпределени класовете"
   ]
  },
  {
   "cell_type": "code",
   "execution_count": 12,
   "metadata": {},
   "outputs": [
    {
     "data": {
      "text/plain": [
       "<matplotlib.axes._subplots.AxesSubplot at 0x7f4a042cb828>"
      ]
     },
     "execution_count": 12,
     "metadata": {},
     "output_type": "execute_result"
    },
    {
     "data": {
      "image/png": "[encoded data removed]",
      "text/plain": [
       "<Figure size 720x576 with 1 Axes>"
      ]
     },
     "metadata": {
      "needs_background": "light"
     },
     "output_type": "display_data"
    }
   ],
   "source": [
    "plt.figure(figsize=(10,8))\n",
    "data.Category.value_counts().plot.bar()"
   ]
  },
  {
   "cell_type": "markdown",
   "metadata": {},
   "source": [
    "Да видим дали има празни резюмета"
   ]
  },
  {
   "cell_type": "code",
   "execution_count": 19,
   "metadata": {},
   "outputs": [
    {
     "data": {
      "text/html": [
       "<div>\n",
       "<style scoped>\n",
       "    .dataframe tbody tr th:only-of-type {\n",
       "        vertical-align: middle;\n",
       "    }\n",
       "\n",
       "    .dataframe tbody tr th {\n",
       "        vertical-align: top;\n",
       "    }\n",
       "\n",
       "    .dataframe thead th {\n",
       "        text-align: right;\n",
       "    }\n",
       "</style>\n",
       "<table border=\"1\" class=\"dataframe\">\n",
       "  <thead>\n",
       "    <tr style=\"text-align: right;\">\n",
       "      <th></th>\n",
       "      <th>Category</th>\n",
       "      <th>Resume</th>\n",
       "      <th>char_num</th>\n",
       "    </tr>\n",
       "  </thead>\n",
       "  <tbody>\n",
       "    <tr>\n",
       "      <th>487</th>\n",
       "      <td>Health &amp; Fitness</td>\n",
       "      <td>b''</td>\n",
       "      <td>3</td>\n",
       "    </tr>\n",
       "    <tr>\n",
       "      <th>716</th>\n",
       "      <td>Digital Media</td>\n",
       "      <td>b''</td>\n",
       "      <td>3</td>\n",
       "    </tr>\n",
       "    <tr>\n",
       "      <th>132</th>\n",
       "      <td>Managment</td>\n",
       "      <td>b''</td>\n",
       "      <td>3</td>\n",
       "    </tr>\n",
       "    <tr>\n",
       "      <th>629</th>\n",
       "      <td>Sales</td>\n",
       "      <td>b''</td>\n",
       "      <td>3</td>\n",
       "    </tr>\n",
       "    <tr>\n",
       "      <th>720</th>\n",
       "      <td>Digital Media</td>\n",
       "      <td>b''</td>\n",
       "      <td>3</td>\n",
       "    </tr>\n",
       "    <tr>\n",
       "      <th>146</th>\n",
       "      <td>Managment</td>\n",
       "      <td>b''</td>\n",
       "      <td>3</td>\n",
       "    </tr>\n",
       "    <tr>\n",
       "      <th>752</th>\n",
       "      <td>Automobile</td>\n",
       "      <td>b''</td>\n",
       "      <td>3</td>\n",
       "    </tr>\n",
       "    <tr>\n",
       "      <th>826</th>\n",
       "      <td>Finance</td>\n",
       "      <td>b''</td>\n",
       "      <td>3</td>\n",
       "    </tr>\n",
       "    <tr>\n",
       "      <th>977</th>\n",
       "      <td>Engineering</td>\n",
       "      <td>b''</td>\n",
       "      <td>3</td>\n",
       "    </tr>\n",
       "    <tr>\n",
       "      <th>402</th>\n",
       "      <td>Advocate</td>\n",
       "      <td>b''</td>\n",
       "      <td>3</td>\n",
       "    </tr>\n",
       "    <tr>\n",
       "      <th>1089</th>\n",
       "      <td>Building &amp; Construction</td>\n",
       "      <td>b''</td>\n",
       "      <td>3</td>\n",
       "    </tr>\n",
       "    <tr>\n",
       "      <th>888</th>\n",
       "      <td>Engineering</td>\n",
       "      <td>b''</td>\n",
       "      <td>3</td>\n",
       "    </tr>\n",
       "    <tr>\n",
       "      <th>802</th>\n",
       "      <td>Finance</td>\n",
       "      <td>b''</td>\n",
       "      <td>3</td>\n",
       "    </tr>\n",
       "    <tr>\n",
       "      <th>310</th>\n",
       "      <td>Education</td>\n",
       "      <td>b'Resume for Sample Purposes Only\\n\\nby \\xc3\\x...</td>\n",
       "      <td>82</td>\n",
       "    </tr>\n",
       "    <tr>\n",
       "      <th>949</th>\n",
       "      <td>Engineering</td>\n",
       "      <td>b'Engineering Fresher Resume\\n\\n\\x0c\\xef\\x82\\x...</td>\n",
       "      <td>209</td>\n",
       "    </tr>\n",
       "  </tbody>\n",
       "</table>\n",
       "</div>"
      ],
      "text/plain": [
       "                     Category  \\\n",
       "487          Health & Fitness   \n",
       "716             Digital Media   \n",
       "132                 Managment   \n",
       "629                     Sales   \n",
       "720             Digital Media   \n",
       "146                 Managment   \n",
       "752                Automobile   \n",
       "826                   Finance   \n",
       "977               Engineering   \n",
       "402                  Advocate   \n",
       "1089  Building & Construction   \n",
       "888               Engineering   \n",
       "802                   Finance   \n",
       "310                 Education   \n",
       "949               Engineering   \n",
       "\n",
       "                                                 Resume  char_num  \n",
       "487                                                 b''         3  \n",
       "716                                                 b''         3  \n",
       "132                                                 b''         3  \n",
       "629                                                 b''         3  \n",
       "720                                                 b''         3  \n",
       "146                                                 b''         3  \n",
       "752                                                 b''         3  \n",
       "826                                                 b''         3  \n",
       "977                                                 b''         3  \n",
       "402                                                 b''         3  \n",
       "1089                                                b''         3  \n",
       "888                                                 b''         3  \n",
       "802                                                 b''         3  \n",
       "310   b'Resume for Sample Purposes Only\\n\\nby \\xc3\\x...        82  \n",
       "949   b'Engineering Fresher Resume\\n\\n\\x0c\\xef\\x82\\x...       209  "
      ]
     },
     "execution_count": 19,
     "metadata": {},
     "output_type": "execute_result"
    }
   ],
   "source": [
    "data.loc[:,'char_num'] = data.Resume.apply(lambda x: len(list(x)))\n",
    "data.sort_values(by='char_num').head(15)"
   ]
  },
  {
   "cell_type": "markdown",
   "metadata": {},
   "source": [
    "Махаме празните резюмета"
   ]
  },
  {
   "cell_type": "code",
   "execution_count": 20,
   "metadata": {},
   "outputs": [],
   "source": [
    "data = data[data.Resume.apply(lambda x: len(list(x))) > 3]"
   ]
  },
  {
   "cell_type": "code",
   "execution_count": 21,
   "metadata": {},
   "outputs": [
    {
     "data": {
      "text/html": [
       "<div>\n",
       "<style scoped>\n",
       "    .dataframe tbody tr th:only-of-type {\n",
       "        vertical-align: middle;\n",
       "    }\n",
       "\n",
       "    .dataframe tbody tr th {\n",
       "        vertical-align: top;\n",
       "    }\n",
       "\n",
       "    .dataframe thead th {\n",
       "        text-align: right;\n",
       "    }\n",
       "</style>\n",
       "<table border=\"1\" class=\"dataframe\">\n",
       "  <thead>\n",
       "    <tr style=\"text-align: right;\">\n",
       "      <th></th>\n",
       "      <th>Category</th>\n",
       "      <th>Resume</th>\n",
       "      <th>char_num</th>\n",
       "    </tr>\n",
       "  </thead>\n",
       "  <tbody>\n",
       "    <tr>\n",
       "      <th>310</th>\n",
       "      <td>Education</td>\n",
       "      <td>b'Resume for Sample Purposes Only\\n\\nby \\xc3\\x...</td>\n",
       "      <td>82</td>\n",
       "    </tr>\n",
       "    <tr>\n",
       "      <th>949</th>\n",
       "      <td>Engineering</td>\n",
       "      <td>b'Engineering Fresher Resume\\n\\n\\x0c\\xef\\x82\\x...</td>\n",
       "      <td>209</td>\n",
       "    </tr>\n",
       "    <tr>\n",
       "      <th>972</th>\n",
       "      <td>Engineering</td>\n",
       "      <td>b'N\\n\\name\\n\\nName\\nAddress\\nPhone :\\nE-mail:\\...</td>\n",
       "      <td>500</td>\n",
       "    </tr>\n",
       "    <tr>\n",
       "      <th>1171</th>\n",
       "      <td>Arts</td>\n",
       "      <td>b'Mitch Myers\\nHeight:\\nWeight:\\nHair:\\nEyes:\\...</td>\n",
       "      <td>591</td>\n",
       "    </tr>\n",
       "    <tr>\n",
       "      <th>753</th>\n",
       "      <td>Automobile</td>\n",
       "      <td>b'\\xef\\x82\\xb7 Salesperson\\n\\xef\\x82\\xb7 Aircr...</td>\n",
       "      <td>598</td>\n",
       "    </tr>\n",
       "    <tr>\n",
       "      <th>851</th>\n",
       "      <td>Finance</td>\n",
       "      <td>b\"Assistant Finance Director Resume\\nWork Expe...</td>\n",
       "      <td>641</td>\n",
       "    </tr>\n",
       "    <tr>\n",
       "      <th>755</th>\n",
       "      <td>Automobile</td>\n",
       "      <td>b'Richard Bay\\nFrontier Road\\nGermany\\nPhone: ...</td>\n",
       "      <td>768</td>\n",
       "    </tr>\n",
       "    <tr>\n",
       "      <th>768</th>\n",
       "      <td>Automobile</td>\n",
       "      <td>b'Dean Perry\\nWork shire Road\\nLondon\\nPhone: ...</td>\n",
       "      <td>834</td>\n",
       "    </tr>\n",
       "    <tr>\n",
       "      <th>58</th>\n",
       "      <td>Designing</td>\n",
       "      <td>b'Hannah Oyler\\n21 Balsom St\\nVentura, CA 9412...</td>\n",
       "      <td>852</td>\n",
       "    </tr>\n",
       "    <tr>\n",
       "      <th>1129</th>\n",
       "      <td>Banking</td>\n",
       "      <td>b'Cashier Resume Templates\\n\\nMonica Gill\\nFro...</td>\n",
       "      <td>853</td>\n",
       "    </tr>\n",
       "    <tr>\n",
       "      <th>148</th>\n",
       "      <td>Managment</td>\n",
       "      <td>b\"Senior Marketing Manager Resume sample\\nWork...</td>\n",
       "      <td>881</td>\n",
       "    </tr>\n",
       "    <tr>\n",
       "      <th>1189</th>\n",
       "      <td>Arts</td>\n",
       "      <td>b'Joseph Andrade\\nACTOR\\nEmail: Jfandrade192@o...</td>\n",
       "      <td>900</td>\n",
       "    </tr>\n",
       "    <tr>\n",
       "      <th>712</th>\n",
       "      <td>Digital Media</td>\n",
       "      <td>b'Newsreader Resume Template\\nGary Stone\\nMelv...</td>\n",
       "      <td>954</td>\n",
       "    </tr>\n",
       "    <tr>\n",
       "      <th>1035</th>\n",
       "      <td>Accountant</td>\n",
       "      <td>b'Olivia Wilson\\n1 Main Street\\nNew Cityland, ...</td>\n",
       "      <td>958</td>\n",
       "    </tr>\n",
       "    <tr>\n",
       "      <th>477</th>\n",
       "      <td>Health &amp; Fitness</td>\n",
       "      <td>b'Doctor Assistant Resume Template\\nXXXXX\\nPho...</td>\n",
       "      <td>991</td>\n",
       "    </tr>\n",
       "  </tbody>\n",
       "</table>\n",
       "</div>"
      ],
      "text/plain": [
       "              Category                                             Resume  \\\n",
       "310          Education  b'Resume for Sample Purposes Only\\n\\nby \\xc3\\x...   \n",
       "949        Engineering  b'Engineering Fresher Resume\\n\\n\\x0c\\xef\\x82\\x...   \n",
       "972        Engineering  b'N\\n\\name\\n\\nName\\nAddress\\nPhone :\\nE-mail:\\...   \n",
       "1171              Arts  b'Mitch Myers\\nHeight:\\nWeight:\\nHair:\\nEyes:\\...   \n",
       "753         Automobile  b'\\xef\\x82\\xb7 Salesperson\\n\\xef\\x82\\xb7 Aircr...   \n",
       "851            Finance  b\"Assistant Finance Director Resume\\nWork Expe...   \n",
       "755         Automobile  b'Richard Bay\\nFrontier Road\\nGermany\\nPhone: ...   \n",
       "768         Automobile  b'Dean Perry\\nWork shire Road\\nLondon\\nPhone: ...   \n",
       "58           Designing  b'Hannah Oyler\\n21 Balsom St\\nVentura, CA 9412...   \n",
       "1129           Banking  b'Cashier Resume Templates\\n\\nMonica Gill\\nFro...   \n",
       "148          Managment  b\"Senior Marketing Manager Resume sample\\nWork...   \n",
       "1189              Arts  b'Joseph Andrade\\nACTOR\\nEmail: Jfandrade192@o...   \n",
       "712      Digital Media  b'Newsreader Resume Template\\nGary Stone\\nMelv...   \n",
       "1035        Accountant  b'Olivia Wilson\\n1 Main Street\\nNew Cityland, ...   \n",
       "477   Health & Fitness  b'Doctor Assistant Resume Template\\nXXXXX\\nPho...   \n",
       "\n",
       "      char_num  \n",
       "310         82  \n",
       "949        209  \n",
       "972        500  \n",
       "1171       591  \n",
       "753        598  \n",
       "851        641  \n",
       "755        768  \n",
       "768        834  \n",
       "58         852  \n",
       "1129       853  \n",
       "148        881  \n",
       "1189       900  \n",
       "712        954  \n",
       "1035       958  \n",
       "477        991  "
      ]
     },
     "execution_count": 21,
     "metadata": {},
     "output_type": "execute_result"
    }
   ],
   "source": [
    "data.sort_values(by='char_num').head(15)"
   ]
  },
  {
   "cell_type": "markdown",
   "metadata": {},
   "source": [
    "Сега ще премахнем препинателни знаци, телефони, имейли, линкови и числа"
   ]
  },
  {
   "cell_type": "code",
   "execution_count": 22,
   "metadata": {},
   "outputs": [],
   "source": [
    "data.loc[:,\"Cleaned\"] = data.Resume.apply(clean_text)\n"
   ]
  },
  {
   "cell_type": "markdown",
   "metadata": {},
   "source": [
    "Да видим дължината след почистването"
   ]
  },
  {
   "cell_type": "code",
   "execution_count": 23,
   "metadata": {
    "scrolled": true
   },
   "outputs": [],
   "source": [
    "data.loc[:, \"char_num_cleaned\"] = data.Cleaned.apply(lambda x: len(list(x)))"
   ]
  },
  {
   "cell_type": "code",
   "execution_count": 24,
   "metadata": {
    "scrolled": true
   },
   "outputs": [
    {
     "data": {
      "text/html": [
       "<div>\n",
       "<style scoped>\n",
       "    .dataframe tbody tr th:only-of-type {\n",
       "        vertical-align: middle;\n",
       "    }\n",
       "\n",
       "    .dataframe tbody tr th {\n",
       "        vertical-align: top;\n",
       "    }\n",
       "\n",
       "    .dataframe thead th {\n",
       "        text-align: right;\n",
       "    }\n",
       "</style>\n",
       "<table border=\"1\" class=\"dataframe\">\n",
       "  <thead>\n",
       "    <tr style=\"text-align: right;\">\n",
       "      <th></th>\n",
       "      <th>Category</th>\n",
       "      <th>Resume</th>\n",
       "      <th>char_num</th>\n",
       "      <th>Cleaned</th>\n",
       "      <th>char_num_cleaned</th>\n",
       "    </tr>\n",
       "  </thead>\n",
       "  <tbody>\n",
       "    <tr>\n",
       "      <th>0</th>\n",
       "      <td>HR</td>\n",
       "      <td>b'John H. Smith, P.H.R.\\n800-991-5187 | PO Box...</td>\n",
       "      <td>6681</td>\n",
       "      <td>John H  Smith  P H R          PO Box     Calla...</td>\n",
       "      <td>5624</td>\n",
       "    </tr>\n",
       "    <tr>\n",
       "      <th>1</th>\n",
       "      <td>HR</td>\n",
       "      <td>b'Name Surname\\nAddress\\nMobile No/Email\\nPERS...</td>\n",
       "      <td>1859</td>\n",
       "      <td>No   PERSONAL PROFILE I am a self moti...</td>\n",
       "      <td>1655</td>\n",
       "    </tr>\n",
       "    <tr>\n",
       "      <th>2</th>\n",
       "      <td>HR</td>\n",
       "      <td>b'Anthony Brown\\nHR Assistant\\nAREAS OF EXPERT...</td>\n",
       "      <td>7672</td>\n",
       "      <td>Anthony Brown HR Assistant AREAS OF EXPERTISE ...</td>\n",
       "      <td>6553</td>\n",
       "    </tr>\n",
       "    <tr>\n",
       "      <th>3</th>\n",
       "      <td>HR</td>\n",
       "      <td>b'www.downloadmela.com\\nSatheesh\\nEMAIL ID:\\nC...</td>\n",
       "      <td>9971</td>\n",
       "      <td>Satheesh   ID  Career Objective To pursue a ...</td>\n",
       "      <td>8683</td>\n",
       "    </tr>\n",
       "    <tr>\n",
       "      <th>4</th>\n",
       "      <td>HR</td>\n",
       "      <td>b\"HUMAN RESOURCES DIRECTOR\\n\\xef\\x82\\xb7Expert...</td>\n",
       "      <td>6386</td>\n",
       "      <td>HUMAN RESOURCES DIRECTOR Expert in organizati...</td>\n",
       "      <td>5975</td>\n",
       "    </tr>\n",
       "  </tbody>\n",
       "</table>\n",
       "</div>"
      ],
      "text/plain": [
       "  Category                                             Resume  char_num  \\\n",
       "0       HR  b'John H. Smith, P.H.R.\\n800-991-5187 | PO Box...      6681   \n",
       "1       HR  b'Name Surname\\nAddress\\nMobile No/Email\\nPERS...      1859   \n",
       "2       HR  b'Anthony Brown\\nHR Assistant\\nAREAS OF EXPERT...      7672   \n",
       "3       HR  b'www.downloadmela.com\\nSatheesh\\nEMAIL ID:\\nC...      9971   \n",
       "4       HR  b\"HUMAN RESOURCES DIRECTOR\\n\\xef\\x82\\xb7Expert...      6386   \n",
       "\n",
       "                                             Cleaned  char_num_cleaned  \n",
       "0  John H  Smith  P H R          PO Box     Calla...              5624  \n",
       "1          No   PERSONAL PROFILE I am a self moti...              1655  \n",
       "2  Anthony Brown HR Assistant AREAS OF EXPERTISE ...              6553  \n",
       "3    Satheesh   ID  Career Objective To pursue a ...              8683  \n",
       "4  HUMAN RESOURCES DIRECTOR Expert in organizati...              5975  "
      ]
     },
     "execution_count": 24,
     "metadata": {},
     "output_type": "execute_result"
    }
   ],
   "source": [
    "data.head()"
   ]
  },
  {
   "cell_type": "raw",
   "metadata": {},
   "source": [
    "и как изглеждат резюметата след почистването на текста и по точно това с index 4 защото изглежда са останали символи "
   ]
  },
  {
   "cell_type": "code",
   "execution_count": 25,
   "metadata": {},
   "outputs": [],
   "source": [
    "resume, cleaned_resume = data.loc[data.index == 4, [\"Resume\", \"Cleaned\"]].values[0]"
   ]
  },
  {
   "cell_type": "code",
   "execution_count": 26,
   "metadata": {},
   "outputs": [
    {
     "name": "stdout",
     "output_type": "stream",
     "text": [
      "b\"HUMAN RESOURCES DIRECTOR\\n\\xef\\x82\\xb7Expert in organizational effectiveness.\\n\\xef\\x82\\xb7Recognized consensus-builder among diverse groups.\\n\\xef\\x82\\xb7Innovative problem solver.\\n\\xef\\x82\\xb7Strategic partner.\\n\\xef\\x82\\xb7Effective executive coach.\\n\\xef\\x82\\xb7Facilitator of management/staff collaboration to achieve business goals.\\n\\xef\\x82\\xb7Watchdog against corporate legal liability and exposure.\\nVALUE PROPOSITION\\nBringing balance and simplicity to Human Resources processes, I create a competitive\\nadvantage for the business that is reflected in the bottom line.\\nProactive in anticipating problems and active in fixing things that break, I attract and retain a\\nhighly skilled and motivated workforce by implementing innovative and cost-saving programs.\\nLEADERSHIP\\nEmployee Relations: Balance the company's best interests with the employees' needs to\\nachieve business goals. Implement best management practices to maintain high morale in\\nmultinational and multisite businesse\n"
     ]
    }
   ],
   "source": [
    "print(resume[:1000])"
   ]
  },
  {
   "cell_type": "code",
   "execution_count": 27,
   "metadata": {
    "scrolled": true
   },
   "outputs": [
    {
     "name": "stdout",
     "output_type": "stream",
     "text": [
      "HUMAN RESOURCES DIRECTOR Expert in organizational effectiveness  Recognized consensus builder among diverse groups  Innovative problem solver  Strategic partner  Effective executive coach  Facilitator of management staff collaboration to achieve business goals  Watchdog against corporate legal liability and exposure  VALUE PROPOSITION Bringing balance and simplicity to Human Resources processes  I create a competitive advantage for the business that is reflected in the bottom line  Proactive in anticipating problems and active in fixing things that break  I attract and retain a highly skilled and motivated workforce by implementing innovative and cost saving programs  LEADERSHIP Employee Relations  Balance the company s best interests with the employees  needs to achieve business goals  Implement best management practices to maintain high morale in multinational and multisite businesses  Staffing  Identify and define high quality candidates in a tight job market and reduce cost \n"
     ]
    }
   ],
   "source": [
    "print(cleaned_resume[:1000])"
   ]
  },
  {
   "cell_type": "raw",
   "metadata": {},
   "source": [
    "Да видим дали се срещата и други символи различни от латински букви"
   ]
  },
  {
   "cell_type": "code",
   "execution_count": 28,
   "metadata": {},
   "outputs": [],
   "source": [
    "all_unknown = data.Cleaned.apply(check_symbles)"
   ]
  },
  {
   "cell_type": "code",
   "execution_count": 29,
   "metadata": {},
   "outputs": [],
   "source": [
    "all_unknown = np.unique(np.concatenate(all_unknown.values))"
   ]
  },
  {
   "cell_type": "code",
   "execution_count": 30,
   "metadata": {
    "scrolled": true
   },
   "outputs": [
    {
     "name": "stdout",
     "output_type": "stream",
     "text": [
      "['\\x01' '\\x02' '\\x03' '\\x04' '\\x05' '\\x06' '\\x07' '\\x08' '\\x0e' '\\x0f'\n",
      " '\\x10' '\\x11' '\\x12' '\\x13' '\\x14' '\\x15' '\\x16' '\\x17' '\\x18' '\\x19'\n",
      " '\\x1a' '\\x1b' '\\x80' '\\x83' '\\x89' '\\x8a' '\\x8f' '\\x90' '\\x93' '\\x95'\n",
      " '\\x97' '\\x98' '\\x99' '\\x9c' '\\x9d' '£' '¤' '§' '©' '«' '\\xad' '®' '°' '²'\n",
      " '´' '·' '»' '½' '¾' '¿' 'Â' 'Ä' 'Ç' 'È' 'É' 'Í' '×' 'Ø' 'Ü' 'ß' 'à' 'á'\n",
      " 'â' 'ä' 'æ' 'ç' 'è' 'é' 'ê' 'ë' 'í' 'î' 'ï' 'ñ' 'ò' 'ó' 'ô' 'ö' 'ú' 'û'\n",
      " 'ü' 'Ă' 'ć' 'ē' 'ğ' 'ı' 'ń' 'ō' 'Ś' 'š' 'ű' 'Ÿ' 'ƒ' 'ɡ' '˘' '˜' '́' '̈'\n",
      " '̊' '̌' '̒' ';' 'Α' 'Μ' 'Ω' 'α' 'ـ' 'Ⴙ' '\\u200b' '‐' '–' '—' '―' '‖' '‘'\n",
      " '’' '“' '”' '„' '‟' '•' '…' '\\u202a' '\\u202b' '\\u202c' '‰' '€' '™' '←'\n",
      " '⇛' '−' '∗' '∙' '√' '∼' '≈' '⎯' '│' '■' '▪' '▬' '●' '◦' '☏' '♦' '✔' '✥'\n",
      " '❖' '⫹' '。' 'き' 'し' 'そ' 'て' 'と' 'の' 'ォ' 'ギ' 'ク' 'ッ' 'ド' 'ビ' 'フ' 'マ' 'ー'\n",
      " '䡲' '上' '中' '九' '人' '代' '伊' '俗' '傳' '出' '勉' '化' '卷' '原' '啟' '嘉' '四' '回'\n",
      " '図' '国' '國' '墨' '妍' '孙' '季' '学' '宗' '家' '局' '庭' '弘' '徽' '房' '政' '文' '新'\n",
      " '明' '星' '時' '术' '梅' '残' '毕' '河' '治' '清' '照' '版' '珍' '画' '畢' '的' '社' '章'\n",
      " '統' '絵' '红' '美' '習' '與' '芸' '術' '誠' '輝' '那' '院' '\\ue039' '\\ue03c'\n",
      " '\\ue048' '\\ue049' '\\ue050' '\\ue051' '\\ue053' '\\ue055' '\\ue058' '\\ue059'\n",
      " '\\ue05b' '\\ue05c' '\\ue05e' '\\ue05f' '\\ue060' '\\ue062' '\\ue063' '\\ue064'\n",
      " '\\ue065' '\\ue067' '\\ue118' '\\ue119' '\\ue11a' '\\ue11b' '\\ue11c' '\\ue11d'\n",
      " '\\ue11e' '\\ue11f' '\\ue120' '\\ue121' '\\uf020' '\\uf028' '\\uf029' '\\uf02a'\n",
      " '\\uf02d' '\\uf031' '\\uf032' '\\uf033' '\\uf034' '\\uf04f' '\\uf05f' '\\uf069'\n",
      " '\\uf06c' '\\uf06e' '\\uf06f' '\\uf071' '\\uf073' '\\uf075' '\\uf076' '\\uf077'\n",
      " '\\uf07d' '\\uf095' '\\uf097' '\\uf098' '\\uf09f' '\\uf0a0' '\\uf0a1' '\\uf0a7'\n",
      " '\\uf0a8' '\\uf0a9' '\\uf0ad' '\\uf0ae' '\\uf0b7' '\\uf0bf' '\\uf0c8' '\\uf0d8'\n",
      " '\\uf0de' '\\uf0e0' '\\uf0e8' '\\uf0f0' '\\uf0f3' '\\uf0fc' '\\uf0fe' '\\uf8f4'\n",
      " '羅' '數' '輪' 'ﬀ' 'ﬁ' 'ﬃ' '（' '）' '－' '／' '：' '；' '￼' '�']\n"
     ]
    }
   ],
   "source": [
    "print(all_unknown)"
   ]
  },
  {
   "cell_type": "raw",
   "metadata": {},
   "source": [
    "Ще ги заменя с празни места"
   ]
  },
  {
   "cell_type": "code",
   "execution_count": 31,
   "metadata": {},
   "outputs": [],
   "source": [
    "REMOVE_INVALID = re.compile(\"|\".join(all_unknown))\n",
    "data[\"Cleaned\"] = data.Cleaned.str.replace(REMOVE_INVALID, \" \")"
   ]
  },
  {
   "cell_type": "markdown",
   "metadata": {},
   "source": [
    "Накрая да видим колко единични букви са останали в резюметата и да ги заменим с празно място, както и празните места с повече от един интервал ще бъдат заменени с едно празно място"
   ]
  },
  {
   "cell_type": "code",
   "execution_count": 32,
   "metadata": {},
   "outputs": [
    {
     "data": {
      "text/plain": [
       "501     1107\n",
       "287      970\n",
       "965      695\n",
       "489      509\n",
       "506      412\n",
       "893      374\n",
       "512      352\n",
       "347      337\n",
       "900      337\n",
       "34       296\n",
       "729      287\n",
       "515      280\n",
       "713      271\n",
       "189      265\n",
       "491      257\n",
       "742      256\n",
       "1208     245\n",
       "1078     236\n",
       "914      232\n",
       "992      232\n",
       "Name: Cleaned, dtype: int64"
      ]
     },
     "execution_count": 32,
     "metadata": {},
     "output_type": "execute_result"
    }
   ],
   "source": [
    "data.Cleaned.apply(lambda x: len([w for w in x.split(\" \") if len(w) == 1])).sort_values(ascending=False)[:20]"
   ]
  },
  {
   "cell_type": "code",
   "execution_count": 33,
   "metadata": {},
   "outputs": [],
   "source": [
    "data[\"Cleaned\"] = data.Cleaned.str.replace(r\"\\b\\w\\b\", ' ').values"
   ]
  },
  {
   "cell_type": "code",
   "execution_count": 30,
   "metadata": {},
   "outputs": [],
   "source": [
    "cp = data.copy()"
   ]
  },
  {
   "cell_type": "code",
   "execution_count": 31,
   "metadata": {},
   "outputs": [],
   "source": [
    "cp.loc[:, \"Cleaned\"] = cp.Cleaned.apply(lambda x: re.sub(r'\\s+', \" \", x))\n",
    "cp.loc[:, \"char_num_cleaned\"] = cp.Cleaned.apply(lambda x: len(list(x)))"
   ]
  },
  {
   "cell_type": "code",
   "execution_count": 32,
   "metadata": {
    "scrolled": true
   },
   "outputs": [],
   "source": [
    "lesst_than_50 = cp[cp.char_num_cleaned  <50]"
   ]
  },
  {
   "cell_type": "code",
   "execution_count": 33,
   "metadata": {},
   "outputs": [
    {
     "data": {
      "text/html": [
       "<div>\n",
       "<style scoped>\n",
       "    .dataframe tbody tr th:only-of-type {\n",
       "        vertical-align: middle;\n",
       "    }\n",
       "\n",
       "    .dataframe tbody tr th {\n",
       "        vertical-align: top;\n",
       "    }\n",
       "\n",
       "    .dataframe thead th {\n",
       "        text-align: right;\n",
       "    }\n",
       "</style>\n",
       "<table border=\"1\" class=\"dataframe\">\n",
       "  <thead>\n",
       "    <tr style=\"text-align: right;\">\n",
       "      <th></th>\n",
       "      <th>Category</th>\n",
       "      <th>Resume</th>\n",
       "      <th>char_num</th>\n",
       "      <th>Cleaned</th>\n",
       "      <th>char_num_cleaned</th>\n",
       "    </tr>\n",
       "  </thead>\n",
       "  <tbody>\n",
       "    <tr>\n",
       "      <th>797</th>\n",
       "      <td>Finance</td>\n",
       "      <td>b'\\x01\\x02\\x03\\x04\\x05\\x06\\x05\\x07\\x06\\x08\\t\\n...</td>\n",
       "      <td>18848</td>\n",
       "      <td></td>\n",
       "      <td>1</td>\n",
       "    </tr>\n",
       "    <tr>\n",
       "      <th>949</th>\n",
       "      <td>Engineering</td>\n",
       "      <td>b'Engineering Fresher Resume\\n\\n\\x0c\\xef\\x82\\x...</td>\n",
       "      <td>209</td>\n",
       "      <td>Engineering Fresher Resume</td>\n",
       "      <td>27</td>\n",
       "    </tr>\n",
       "    <tr>\n",
       "      <th>1187</th>\n",
       "      <td>Arts</td>\n",
       "      <td>b'! \"\\n$\\n\\n\"\\n%\\n\\n#\\n\\n&amp;\\n\\n!\\n\\'\\n\\'&amp; ( )\\n...</td>\n",
       "      <td>3807</td>\n",
       "      <td>IG</td>\n",
       "      <td>4</td>\n",
       "    </tr>\n",
       "  </tbody>\n",
       "</table>\n",
       "</div>"
      ],
      "text/plain": [
       "         Category                                             Resume  \\\n",
       "797       Finance  b'\\x01\\x02\\x03\\x04\\x05\\x06\\x05\\x07\\x06\\x08\\t\\n...   \n",
       "949   Engineering  b'Engineering Fresher Resume\\n\\n\\x0c\\xef\\x82\\x...   \n",
       "1187         Arts  b'! \"\\n$\\n\\n\"\\n%\\n\\n#\\n\\n&\\n\\n!\\n\\'\\n\\'& ( )\\n...   \n",
       "\n",
       "      char_num                      Cleaned  char_num_cleaned  \n",
       "797      18848                                              1  \n",
       "949        209  Engineering Fresher Resume                 27  \n",
       "1187      3807                          IG                  4  "
      ]
     },
     "execution_count": 33,
     "metadata": {},
     "output_type": "execute_result"
    }
   ],
   "source": [
    "lesst_than_50"
   ]
  },
  {
   "cell_type": "raw",
   "metadata": {},
   "source": [
    "След замяната на интервалите и буквите са останали празни или резюмета с няколко думи. Да видим защо 797 и 1187 са станали толкова къси"
   ]
  },
  {
   "cell_type": "code",
   "execution_count": 34,
   "metadata": {},
   "outputs": [],
   "source": [
    "id_797, id_1187 = lesst_than_50.iloc[[0,2]].Resume.values"
   ]
  },
  {
   "cell_type": "code",
   "execution_count": 35,
   "metadata": {},
   "outputs": [
    {
     "name": "stdout",
     "output_type": "stream",
     "text": [
      "b'\\x01\\x02\\x03\\x04\\x05\\x06\\x05\\x07\\x06\\x08\\t\\n\\n\\t\\x04\\x0b\\x0c\\r\\x0e\\x06\\x01\\x0f\\x03\\x06\\n\\x0c\\x10\\t\\x04\\x03\\x11\\x12\\x0c\\r\\x0b\\x06\\x0f\\x03\\r\\x03\\x13\\t\\x0f\\t\\r\\x11\\x06\\x14\\x06\\x0b\\x04\\x07\\x06\\n\\x12\\r\\x03\\r\\x01\\x12\\x03\\x02\\x06\\t\\x15\\t\\x01\\x16\\x11\\x12\\x17\\t\\x06\\x02\\t\\x03\\x18\\t\\x04\\x06\\n\\n\\x01\\x02\\x03\\x04\\x05\\x04\\x06\\x07\\x08\\t\\x04\\n\\x0b\\x0c\\r\\x0e\\x04\\x04\\n\\x0f\\x10\\x11\\x12\\x10\\x12\\x04\\x13\\x14\\x15\\x16\\x17\\x04\\x18\\x19\\x04\\x1a\\x1b\\x1b\\x01\\x02\\x04\\n\\x1c\\x1d\\t\\x11\\x07\\x1e\\x04\\x1f\\x1b\\x1b\\x0e \\x02\\x0e\\x1a\\x02\\x1f!\\x04\\n\"\\x1e\\x04#\\x0b\\x10\\x08$$%\\x07&&\\x07\\x08\\x12\\t\\x11\\'()\\x10\\x14\\x0b\\x0e#\\t)\\x04\\n\\n\\x01\\n\\n\\t\\x15\\t\\x01\\x16\\x11\\x12\\x17\\t\\x06\\x10\\x04\\x0c\\n\\x12\\x02\\t\\x06\\n\\x01\\n\\x01\\x02\\x03\\x04\\x02\\x05\\x06\\x07\\x08\\t\\n\\x0b\\x04\\x0c\\x0c\\x07\\x0c\\x06\\t\\n\\r\\x07\\x0c\\x04\\x0c\\x08\\x07\\x04\\x0b\\t\\x01\\x02\\x03\\x04\\x02\\x05\\x06\\x0e\\t\\x0f\\t\\n\\x10\\x11\\x12\\x06\\x05\\x02\\x04\\x03\\x0e\\t\\x13\\x14\\x05\\x03\\x15\\x07\\x06\\x16\\x02\\t\\n\\x17\\x03\\x18\\x15\\x15\\x19\\r\\x11\\x0c\\x08\\x02\\x07\\x18\\x0c\\x04\\x0b\\t\\x1a\\x05\\x04\\x1b\\t\\n\\x1c\\x05\\x04\\x12\\x05\\x03\\x15\\x16\\x07\\x1d\\t\\x0f\\t\\x01\\x11\\x1d\\x1d\\x18\\x03\\x02\\t\\n\\x17\\x18\\x15\\x02\\t\\x17\\x18\\x0c\\x02\\x03\\x18\\x0b\\t\\n\\x1e\\x1f \\x1f \\x1f\\n\\x1f\\t\\n\\x13\\x1d\\x05\\x03\\x04\\x02\\x07\\x18\\x0c\\x15\\t!\\x04\\x0c\\x04\\x06\\x05\\x1b\\x05\\x0c\\x02\\t\\n\\r\\x07\\x0c\\x04\\x0c\\x08\\x07\\x04\\x0b\\t\\r\\x18\\x03\\x05\\x08\\x04\\x15\\x02\\x07\\x0c\\x06\\t\\n\\x1a\\x04\"\\t\\x04\\x0c\\x12\\t \\x11\\x12\\x07\\x02\\t\\n#\\x0c\\x02\\x05\\x03\\x0c\\x04\\x02\\x07\\x18\\x0c\\x04\\x0b\\t\\x10\\x11\\x15\\x07\\x0c\\x05\\x15\\x15\\t\\n\\n\\x06\\n\\n\\xc3\\x82\\xe2\\x80\\xb0\\x01 \\x19\\x1a\\x1b\\x1c\\x1d\\x1e\\x06 \\x1f !\"#\\x1d\\x1a$\\x1c%&\\x06 \\x1f\\'&\\x06 (! )$%&\\x04 (\\x0b\\t*\\x10\\x0b\\x04 +\\x08\\x0e\\x04 ,\\x14\\x11\\x10\\x11#\\x14\\x10\\x0b\\x04 \"-\\x07#.\\x15\\x14\\x0c\\x07\\x04 /\\x14\\x15\\x1d\\x04 0\\x08\\t\\x0c\\x07\\x11\\x04\\n#\\t)0\\x07\\x15\\x07\\x11#\\x14\\x07\\x12\\x04 \\x14\\x11\\x04 \\x12\\x15\\x08\\x10\\x15\\x07(\\x14#\\x04 &\\x14\\x11\\x10\\x11#\\x14\\x10\\x0b\\x04 0\\x0b\\x10\\x11\\x11\\x14\\x11(\\x04 \\x10\\x11\\r\\x04 \\x07-0\\x07\\x08\\x15\\x14\\x12\\x07\\x04 \\x14\\x11\\x04 \\x190\\x07\\x08\\x10\\x15\\x14\\t\\x11\\x12\\x04 \\x18\\x10\\x11\\x10(\\x07)\\x07\\x11\\x15\\x0e\\x04\\n,\\t\\x12\\x15\\x07\\x08\\x12\\x04 0\\x08\\t\\r.#\\x15\\x14\\x0c\\x07\\x04 0\\x10\\x08\\x15\\x11\\x07\\x08\\x12\\x1d\\x140\\x12\\x04 /\\x14\\x15\\x1d\\x04 \\x14\\x11\\x15\\x07\\x08\\x11\\x10\\x0b\\x04 \\x12\\x15\\x10$\\x07\\x1d\\t\\x0b\\r\\x07\\x08\\x12\\x04 \\x10\\x11\\r\\x04 #\\x0b\\x14\\x07\\x11\\x15\\x12\\x17\\x04 \\x08\\x07\\x12.\\x0b\\x15\\x14\\x11(\\x04 \\x14\\x11\\x04 \\x15\\x1d\\x07\\x04\\n\\x10\\x15\\x15\\x10\\x14\\x11)\\x07\\x11\\x15\\x04\\t&\\x04#\\t\\x080\\t\\x08\\x10\\x15\\x07\\x04(\\t\\x10\\x0b\\x12\\x0e\\x04\\n\\xc3\\x82\\xe2\\x80\\xb0\\x01 \\r!*%&\\x06(!+\\x06$*+!\\'\\x1b\\x06\\x1d%\\x1f&%+$\\x1c\\x1a#\\x17\\x04\\x15\\x07\\x10)\\x04*.\\x14\\x0b\\r\\x14\\x11(\\x17\\x04\\x10\\x11\\r\\x04)\\t\\x15\\x14\\x0c\\x10\\x15\\x14\\t\\x11\\x10\\x0b\\x04\\x15\\x08\\x10\\x14\\x11\\x14\\x11(\\x04\\x10\\x11\\r\\x04#\\t\\x10#\\x1d\\x14\\x11(\\x0e\\x04\\n\\x1c\\x08\\t\\x10#\\x15\\x14\\x0c\\x07\\x04 /\\x14\\x15\\x1d\\x04 \\x10\\x04 \\x15\\t\\x15\\x10\\x0b\\x04 #\\t))\\x14\\x15)\\x07\\x11\\x15\\x04 \\x15\\t\\x04 \\x12\\x15\\x08\\x07\\x10)\\x0b\\x14\\x11\\x14\\x11(\\x04 \\t0\\x07\\x08\\x10\\x15\\x14\\t\\x11\\x12\\x04 \\x10\\x11\\r\\x04 #\\t\\x11\\x15\\x08\\t\\x0b\\x0b\\x14\\x11(\\x04 #\\t\\x12\\x15\\x12\\x0e\\x04\\n,\\t#.\\x12\\x07\\r\\x04 \\t\\x11\\x04 \\x0c\\x10\\x0b.\\x07\\x12\\x17\\x04 #\\t\\x080\\t\\x08\\x10\\x15\\x07\\x04 \\t*%\\x07#\\x15\\x14\\x0c\\x07\\x12\\x17\\x04 \\x10\\x11\\r\\x04 \\x12\\x15\\x08\\x10\\x15\\x07(\\x14#\\x04 0\\x0b\\x10\\x11\\x11\\x14\\x11(\\x04 \\x15\\t\\x04 \\r\\x14\\x08\\x07#\\x15\\x0b\\x16\\x04 \\x14)0\\x10#\\x15\\x04 \\x15\\x1d\\x07\\x04\\n\\x12.##\\x07\\x12\\x12\\x17\\x04(\\x08\\t/\\x15\\x1d\\x17\\x04\\x10\\x11\\r\\x040\\x08\\t&\\x14\\x15\\x12\\x04\\t&\\x04\\x10\\x04*.\\x12\\x14\\x11\\x07\\x12\\x12\\x0e\\x04\\n\\xc3\\x82\\xe2\\x80\\xb0\\x01 \\x04% !\\x1b\\'\\x1a,%&\\x06-\\x1e\\x06#%%+$\\x0e\\x06$)-!+&\\x1a\\'\\x1f*%$\\x0e\\x06\\x1f\\'&\\x06$%\\'\\x1a!+\\x06\\x1d%\\x1f&%+$\\x1c\\x1a#\\x04&\\t\\x08\\x04\\x15\\x07\\x11\\x10#\\x14\\x15\\x16\\x04\\x10\\x11\\r\\x04\\x15\\x1d\\x07\\x04\\n\\n\\x10*\\x14\\x0b\\x14\\x15\\x16\\x04\\x15\\t\\x04(\\x08\\x10#\\x07&.\\x0b\\x0b\\x16\\x04\\x1d\\x10\\x11\\r\\x0b\\x07\\x04\\x15\\x1d\\x07\\x04\\r\\x16\\x11\\x10)\\x14#\\x12\\x04\\t&\\x04\\x10\\x04\\x08\\x100\\x14\\r\\x0b\\x16\\x04#\\x1d\\x10\\x11(\\x14\\x11(\\x04\\x07\\x11\\x0c\\x14\\x08\\t\\x11)\\x07\\x11\\x15\\x0e\\x04+\\x07\\x08\\x0c\\x07\\x12\\x04\\x10\\x12\\x04\\x10\\x04\\n#\\t\\x0b\\x0b\\x10*\\t\\x08\\x10\\x15\\x14\\x0c\\x07\\x04 *.\\x12\\x14\\x11\\x07\\x12\\x12\\x04 0\\x10\\x08\\x15\\x11\\x07\\x081\\x04 \\x07-#\\x07\\x0b\\x0b\\x07\\x11\\x15\\x04 #\\t)).\\x11\\x14#\\x10\\x15\\t\\x08\\x04 /\\x14\\x15\\x1d\\x04 \\x15\\x1d\\x07\\x04 \\x10*\\x14\\x0b\\x14\\x15\\x16\\x04 \\x15\\t\\x04 0\\x08\\x07\\x12\\x07\\x11\\x15\\x04\\n&\\x14\\x11\\x10\\x11#\\x14\\x10\\x0b\\x04\\x08\\x070\\t\\x08\\x15\\x14\\x11(\\x04\\x15\\t\\x04\\x15\\x10\\x08(\\x07\\x15\\x04\\x10.\\r\\x14\\x07\\x11#\\x07\\x12\\x04\\x14\\x11\\x04\\x10\\x11\\x04\\x07\\x10\\x12\\x14\\x0b\\x162.\\x11\\r\\x07\\x08\\x12\\x15\\t\\t\\r\\x04&\\t\\x08)\\x10\\x15\\x0e\\x06\\x06\\n\\n\\x01\\n\\n\\x10\\x04\\x0c\\n\\t\\x0b\\x0b\\x12\\x0c\\r\\x03\\x02\\x06\\t\\x15\\x10\\t\\x04\\x12\\t\\r\\x01\\t\\x06\\n\\n\\x06\\n\\n\\x01\\n\\x10+!#\\x1d\\x1f\\'\\'%+\\x0e\\x06\\x12\\' \\x07\\x04\\x0f\\x10\\x11\\x12\\x10\\x12\\x04\\x13\\x14\\x15\\x16\\x17\\x04\\x18\\x19\\x04\\n\\x04\\n\\x04\\n\\x04\\n\\x04\\n\\x04\\n\\x04\\n\\x04\\n\\x04\\x01\\x1b\\x1b\\x03\\x043\\x04\\x1c\\x08\\x07\\x12\\x07\\x11\\x15\\x04\\x04\\n\\x01\\x02\\x03\\x04\\x05\\x06\\x07\\x04\\x08\\x02\\t\\x04\\n\\x0b\\x05\\x0c\\x02\\n\\r\\n\\x03\\x04\\x05\\x0e\\x05\\x0c\\x02\\n\\r\\n\\x03\\x04\\x05\\x0f\\x02\\x07\\x04\\x03\\x0b\\x10\\x07\\x04&\\t\\x08\\x044\\x02\\x1b2)\\x14\\x0b\\x0b\\x14\\t\\x11\\x04\\r\\t\\x0b\\x0b\\x10\\x08\\x04\\x14\\x11\\x15\\x07\\x08\\x10#\\x15\\x14\\x0c\\x07\\x04\\x12\\x15.\\r\\x14\\t\\x04\\n\\x18\\x10-\\x14)\\x145\\x07\\x04 \\x10##\\x07\\x12\\x12\\x17\\x04 \\x12\\x1d\\x10\\x08\\x07\\x17\\x04 \\x10\\x11\\r\\x04 0\\x08\\t&\\x14\\x15\\x10*\\x14\\x0b\\x14\\x15\\x16\\x04 /\\x14\\x15\\x1d\\x04 \\x12\\x15\\x08\\x14\\x11(\\x07\\x11\\x15\\x04 \\x14\\x11\\x15\\x07\\x08\\x11\\x10\\x0b\\x04 #\\t\\x11\\x15\\x08\\t\\x0b\\x12\\x04 \\x10\\x11\\r\\x04 &\\x14\\x11\\x10\\x11#\\x14\\x10\\x0b\\x04 \\x10\\x11\\x10\\x0b\\x16\\x12\\x14\\x12\\x0e\\x04 \\x1c\\x08\\t\\x10#\\x15\\x14\\x0c\\x07\\x0b\\x16\\x04 *.\\x14\\x0b\\r\\x17\\x04 \\x14\\x11\\x120\\x14\\x08\\x07\\x17\\x04\\n)\\t\\x15\\x14\\x0c\\x10\\x15\\x07\\x17\\x04 \\x10\\x11\\r\\x04 \\x11.\\x08\\x15.\\x08\\x07\\x04 \\x08\\x07\\x0b\\x10\\x15\\x14\\t\\x11\\x12\\x1d\\x140\\x12\\x04 /\\x14\\x15\\x1d\\x04 #\\x08\\t\\x12\\x122&.\\x11#\\x15\\x14\\t\\x11\\x10\\x0b\\x04 \\x15\\x07\\x10)\\x12\\x04 \\x10\\x11\\r\\x04 #.\\x12\\x15\\t)\\x07\\x08\\x12\\x0e\\x04 6\\x07\\x0c\\x07\\x0b\\t0\\x04 0\\x08\\t#\\x07\\x12\\x12\\x04 \\x14)0\\x08\\t\\x0c\\x07)\\x07\\x11\\x15\\x12\\x04 \\x15\\t\\x04 *\\x07\\x15\\x15\\x07\\x08\\x04\\n\\x10\\x12\\x12\\x14\\x12\\x15\\x04/\\x14\\x15\\x1d\\x040.\\x0b\\x0b2\\x15\\x1d\\x08\\t.(\\x1d\\x040\\x08\\t(\\x08\\x10)\\x12\\x0e\\x04\\x13\\t\\x11\\r.#\\x15\\x04\\x07&&\\x07#\\x15\\x14\\x0c\\x07\\x04&\\x14\\x11\\x10\\x11#\\x14\\x10\\x0b\\x04\\x10\\x11\\x10\\x0b\\x16\\x12\\x07\\x12\\x04\\x10\\x12\\x040\\x10\\x08\\x15\\x04\\t&\\x04\\x14\\r\\x07\\x11\\x15\\x14&\\x16\\x14\\x11(\\x04(\\x08\\t/\\x15\\x1d\\x04\\x10\\x11\\r\\x04\\x08\\x07\\x0c\\x07\\x11.\\x072(\\x07\\x11\\x07\\x08\\x10\\x15\\x14\\x11(\\x04\\n\\t00\\t\\x08\\x15.\\x11\\x14\\x15\\x14\\x07\\x12\\x0e\\x04\\n\\x0f\\x07\\x16\\x04\\x13\\t\\x11\\x15\\x08\\x14*.\\x15\\x14\\t\\x11\\x12\\x047\\x048\\x07\\x12.\\x0b\\x15\\x12\\x1e\\x04\\n\\xc3\\x82\\xc6\\x92\\x01\\n\\n\\x05%\\x1e\\x06$*+\\x1f*%\\x1b\\x1a$*\\x06\\x1a\\'\\x06&\\x14\\x11\\x10\\x11#\\x14\\x10\\x0b\\x04\\x08\\x070\\t\\x08\\x15\\x14\\x11(\\x17\\x04#\\t\\x12\\x15\\x04\\x10\\x11\\x10\\x0b\\x16\\x12\\x14\\x12\\x17\\x04\\x10\\x11\\r\\x049.\\x10\\x08\\x15\\x07\\x08\\x0b\\x16\\x04&\\t\\x08\\x07#\\x10\\x12\\x15\\x14\\x11(\\x0e\\x04\\x13\\x08\\x07\\x10\\x15\\x07\\r\\x04\"-#\\x07\\x0b2*\\x10\\x12\\x07\\r\\x04\\r\\x10\\x12\\x1d*\\t\\x10\\x08\\r\\x04*\\x10\\x12\\x07\\r\\x04\\t\\x11\\x04\\n$\\x07\\x16\\x04\\t0\\x07\\x08\\x10\\x15\\x14\\t\\x11\\x10\\x0b\\x04)\\x07\\x15\\x08\\x14#\\x12\\x04.\\x12\\x07\\r\\x04\\x15\\t\\x04\\r\\x08\\x14\\x0c\\x07\\x04*.\\x12\\x14\\x11\\x07\\x12\\x12\\x040\\x0b\\x10\\x11\\x11\\x14\\x11(\\x0e\\x04:\\x11\\x12\\x15\\x08.)\\x07\\x11\\x15\\x10\\x0b\\x04\\x14\\x11\\x04\\x14)0\\x0b\\x07)\\x07\\x11\\x15\\x14\\x11(\\x04+\\x10\\x08*\\x10\\x11\\x07\\x122\\x19-\\x0b\\x07\\x16\\x04#\\t)0\\x0b\\x14\\x10\\x11#\\x07\\x0e\\x04\\n\\n\\xc3\\x82\\xc6\\x92\\x01\\n\\n\\x04%$)\\x1d*$.\\x06 \\x1f\\'&\\x06 \\x1b+!/*\\x1c.!+\\x1a%\\'*%&\\x17\\x04 \\x10\\x11\\r\\x04 \\x07-#\\x07\\x0b\\x0b\\x07\\x11\\x15\\x04 #\\t)).\\x11\\x14#\\x10\\x15\\t\\x08\\x04 /\\x14\\x15\\x1d\\x04 \\x10\\x11\\x04 \\t.\\x15\\x12\\x15\\x10\\x11\\r\\x14\\x11(\\x04 \\x10*\\x14\\x0b\\x14\\x15\\x16\\x04 \\x15\\t\\x04 0\\x08\\x07\\x12\\x07\\x11\\x15\\x04 &\\x14\\x11\\x10\\x11#\\x14\\x10\\x0b\\x04\\n\\x14\\x11&\\t\\x08)\\x10\\x15\\x14\\t\\x11\\x04\\x14\\x11\\x04\\x07\\x10\\x12\\x14\\x0b\\x16\\x04.\\x11\\r\\x07\\x08\\x12\\x15\\t\\t\\r\\x04&\\t\\x08)\\x10\\x15\\x12\\x0e\\x04\\n\\n\\xc3\\x82\\xc6\\x92\\x01\\n\\n\\x18%\"!\\'$*+\\x1f*%&\\x06 !#%+\\x1f*\\x1a!\\'\\x1f\\x1d\\x06 %((\\x1a \\x1a%\\' \\x1e\\x06 \\x15\\x1d\\x08\\t.(\\x1d\\x06 0\\x08\\t#\\x07\\x12\\x12\\x04 \\x14)0\\x08\\t\\x0c\\x07)\\x07\\x11\\x15\\x04 \\x10\\x11\\r\\x04 \\x07)0\\x0b\\t\\x16\\x07\\x07\\x04 \\x15\\x08\\x10\\x14\\x11\\x14\\x11(\\x04 /\\x1d\\x14#\\x1d\\x04 \\x12\\x15\\x08\\x07\\x10)\\x0b\\x14\\x11\\x07\\r\\x04\\n0\\x08\\t%\\x07#\\x15\\x04\\x08\\x070\\t\\x08\\x15\\x14\\x11(\\x04\\x10\\x11\\r\\x04#.\\x12\\x15\\t)\\x07\\x08\\x04*\\x14\\x0b\\x0b\\x14\\x11(\\x17\\x04\\x08\\x07\\r.#\\x07\\r\\x04\\r\\x10\\x16;\\x12\\x04\\x12\\x10\\x0b\\x07\\x12\\x04\\t.\\x15\\x12\\x15\\x10\\x11\\r\\x14\\x11(\\x04&\\x08\\t)\\x04 \\x03\\x04\\x15\\t\\x04\\x1a\\x1f\\x17\\x04\\x10\\x11\\r\\x040\\x08\\t\\x0c\\x14\\r\\x07\\r\\x04\\x14)0\\x08\\t\\x0c\\x07\\r\\x040\\x08\\t%\\x07#\\x15\\x04\\n0\\x1d\\x10\\x12\\x14\\x11(\\x04\\x08\\x070\\t\\x08\\x15\\x12\\x04\\x15\\t\\x04$\\x07\\x16\\x04#\\x0b\\x14\\x07\\x11\\x15\\x12\\x0e\\x04\\n\\n\\x04\\n\\n\\x03&0\\x1f\\' %&\\x06\\x0f\\x1f*+\\x1a1\\x06\\x11% \\x1c\\'!\\x1d!\\x1b\\x1e\\x0e\\x06\\x12\\' \\x07\\x0e\\x04\\x0f\\x10\\x11\\x12\\x10\\x12\\x04\\x13\\x14\\x15\\x16\\x17\\x04\\x0f+\\x04\\x04\\n\\n\\x01\\x1b\\x1b\\x01\\x043\\x04\\x01\\x1b\\x1b\\x03\\x04\\x04\\n\\x01\\x02\\x03\\x04\\x05 \\x06\\x07\\x04\\x08\\x02\\t\\x04\\n\\x0b\\x05\\x0c\\x02\\n\\r\\n\\x03\\x04\\x05\\x0e\\x05\\x11\\x10\\x07\\x12\\x10\\x07\\r\\x0b\\x04\\x05 \\x11\\x10\\n\\x0b\\x07\\x10\\x13\\x13\\x04\\x07\\x05&\\t\\x08\\x04 4<\\x1b2)\\x14\\x0b\\x0b\\x14\\t\\x11\\x04 #\\t))\\x07\\x08#\\x14\\x10\\x0b\\x04 0\\x08\\x14\\x11\\x15\\x07\\x08\\x04 /\\x14\\x15\\x1d\\x04 \\x15\\x1d\\x08\\x07\\x07\\x04 0\\x08\\t\\r.#\\x15\\x14\\t\\x11\\x04 &\\x10#\\x14\\x0b\\x14\\x15\\x14\\x07\\x12\\x04\\x10\\x11\\r\\x04\\n\\x01\\x1a\\x1b\\x04\\x07)0\\x0b\\t\\x16\\x07\\x07\\x12\\x0e\\x04\\n+.##\\x07\\x12\\x12&.\\x0b\\x0b\\x16\\x04)\\x10\\x11\\x10(\\x07\\r\\x040\\x08\\t&\\x14\\x15\\x04\\x10\\x11\\r\\x04\\x0b\\t\\x12\\x12\\x04\\t*%\\x07#\\x15\\x14\\x0c\\x07\\x12\\x04&\\t\\x08\\x04\\x15\\x1d\\x07\\x04\\x07\\x11\\x15\\x14\\x08\\x07\\x04#\\t\\x080\\t\\x08\\x10\\x15\\x14\\t\\x11\\x0e\\x04\\x04\\n\\x0f\\x07\\x16\\x04\\x13\\t\\x11\\x15\\x08\\x14*.\\x15\\x14\\t\\x11\\x12\\x047\\x048\\x07\\x12.\\x0b\\x15\\x12\\x1e\\x04\\n\\xc3\\x82\\xc6\\x92\\x01 \\x0b*+\\x1f*%\\x1b\\x1a \\x06$%\\x1d% *\\x1a!\\'\\x06\\x1f\\'&\\x06\\x1a\"#\\x1d%\"%\\'*\\x1f*\\x1a!\\'\\x04\\t&\\x04\\x11\\x07/\\x04\\t0\\x07\\x08\\x10\\x15\\x14\\t\\x11\\x10\\x0b\\x04\\x10\\x11\\r\\x04&\\x14\\x11\\x10\\x11#\\x14\\x10\\x0b\\x04\\x12\\t&\\x15/\\x10\\x08\\x07\\x040\\x10#$\\x10(\\x07\\x04\\x10\\x11\\r\\x04\\x11\\x07/\\x04#\\t\\x12\\x15\\x04\\x10##\\t.\\x11\\x15\\x14\\x11(\\x04\\n\\x12\\x16\\x12\\x15\\x07)\\x04/\\x1d\\x14#\\x1d\\x04\\x14)0\\x08\\t\\x0c\\x07\\r\\x04\\t\\x0c\\x07\\x08\\x10\\x0b\\x0b\\x04&\\x14\\x11\\x10\\x11#\\x14\\x10\\x0b\\x04\\x08\\x070\\t\\x08\\x15\\x14\\x11(\\x04&.\\x11#\\x15\\x14\\t\\x11\\x12\\x04\\x10\\x11\\r\\x04#\\t\\x12\\x15\\x04#\\t\\x11\\x15\\x08\\t\\x0b\\x040\\x08\\t#\\x07\\x12\\x12\\x07\\x12\\x0e\\x04\\n\\xc3\\x82\\xc6\\x92\\x01 \\x0b% )+%&\\x06\\'%/\\x0623\\x0f\\x04\\x0b\\x14\\x11\\x07\\x04\\t&\\x04#\\x08\\x07\\r\\x14\\x15\\x04/\\x1d\\x14#\\x1d\\x04\\x10\\x0b\\x0b\\t/\\x07\\r\\x04&\\t\\x08\\x04#\\t\\x11\\x15\\x14\\x11.\\x07\\r\\x04#\\t)0\\x10\\x11\\x16\\x04(\\x08\\t/\\x15\\x1d\\x04\\x10\\x11\\r\\x04\\x14\\x11&\\x08\\x10\\x12\\x15\\x08.#\\x15.\\x08\\x07\\x04.0(\\x08\\x10\\r\\x07\\x0e\\x04\\n\\xc3\\x82\\xc6\\x92\\x01 \\x13\\x08\\x07\\x10\\x15\\x07\\r\\x04 \\x10\\x11\\r\\x04 \\x14)0\\x0b\\x07)\\x07\\x11\\x15\\x07\\r\\x04 \\x11\\x07/\\x04 *.\\r(\\x07\\x15\\x14\\x11(\\x04 )\\t\\r\\x07\\x0b\\x04 \\x10\\x11\\r\\x04 &\\x14\\x11\\x10\\x11#\\x14\\x10\\x0b\\x04 \\x08\\x070\\t\\x08\\x15\\x14\\x11(\\x04 0\\x10#$\\x10(\\x07\\x04 /\\x1d\\x14#\\x1d\\x04 $*+%\\x1f\"\\x1d\\x1a\\'%&\\x06 (\\x1a\\'\\x1f\\' \\x1a\\x1f\\x1d\\x06\\n+%#!+*\\x1a\\'\\x1b\\x0e\\x06 !$*\\x06 !\\'*+!\\x1d\\x17\\x04#\\x08\\x07\\r\\x14\\x15\\x04)\\x10\\x11\\x10(\\x07)\\x07\\x11\\x15\\x17\\x06\\x10\\x11\\r\\x04)\\x10\\x11\\x10(\\x07)\\x07\\x11\\x15\\x04\\t&\\x04&\\x14\\x11\\x10\\x11#\\x07\\x04\\x10\\x11\\r\\x04\\x10##\\t.\\x11\\x15\\x14\\x11(\\x04\\x12\\x15\\x10&&\\x04&\\t\\x08\\x04#\\t))\\x07\\x08#\\x14\\x10\\x0b\\x040\\x08\\x14\\x11\\x15\\x07\\x08\\x0e\\x04\\n\\t\\n$\\t\\x17\\x18\\x0c\\x02\\x07\\x0c\\x11\\x05\\x12\\t$\\t\\n\\t\\n\\n\\x0c\\x01\\x02\\x03\\x04\\x05\\x06\\x05\\x06\\x08\\t\\n\\n\\t\\x04\\x0b\\x0c\\r\\x0e\\x06\\x01\\x0f\\x03\\x064\\x06\\x10\\x03\\x13\\t\\x065\\x06\\n\\x06\\n\\n\\x1c\\x1d\\t\\x11\\x07\\x1e\\x04\\x1f\\x1b\\x1b\\x0e \\x02\\x0e\\x1a\\x02\\x1f!\\x04\\n\"\\x1e\\x04#\\x0b\\x10\\x08$$%\\x07&&\\x07\\x08\\x12\\t\\x11\\'()\\x10\\x14\\x0b\\x0e#\\t)\\x04\\n\\n\\x01\\n\\n\\x06\\n\\r\\x1f*)+\\x1f\\x1d\\x06\\t\\'0\\x1a+!\\'\"%\\'*\\x1f\\x1d\\x06\\x0b\\x1e$*%\"$\\x0e\\x06\\x02\\x02\\x01\\x07\\x0e\\x04\\x19\\x0c\\x07\\x08\\x0b\\x10\\x11\\r\\x04\\x1c\\x10\\x08$\\x17\\x04\\x0f+\\x04\\n\\n\\x01\\x1b\\x1b\\x02\\x04\\x04\\n\\n\\x11\\x10\\n\\x08\\x14\\x13\\x0b\\r\\n\\x0b\\x04&\\t\\x08\\x04=\\x0e+\\x0e\\x04\\r\\x14\\x12\\x15\\x08\\x14*.\\x15\\t\\x08\\x04\\t&\\x04/\\x10\\x15\\x07\\x08\\x04(\\x10\\x08\\r\\x07\\x11\\x14\\x11(\\x040\\x08\\t\\r.#\\x15\\x12\\x02\\x01\\n\\x1c\\x08\\t\\x0c\\x14\\r\\x07\\r\\x04#\\t\\x11\\x12.\\x0b\\x15\\x14\\x11(\\x04\\x10\\r\\x0c\\x14\\x12\\t\\x08\\x16\\x04\\x12\\x07\\x08\\x0c\\x14#\\x07\\x12\\x04\\x15\\t\\x04\\x12\\t\\x0b\\x14\\r\\x14&\\x16\\x04#\\x10\\x12\\x1d\\x04&\\x0b\\t/\\x0e\\x04\\x04\\x04\\n\\x0f\\x07\\x16\\x04\\x13\\t\\x11\\x15\\x08\\x14*.\\x15\\x14\\t\\x11\\x12\\x047\\x048\\x07\\x12.\\x0b\\x15\\x12\\x1e\\x04\\n\\xc3\\x82\\xc6\\x92\\x01\\n\\n\\x03 6)\\x1a+%&\\x06\\x1f\\'&\\x06$!\\x1d\\x1a&\\x1a(\\x1a%&\\x0627\\x078\\x0f\\x06\\x10\\r\\r\\x14\\x15\\x14\\t\\x11\\x10\\x0b\\x04>\\x13\\x04&\\x14\\x11\\x10\\x11#\\x14\\x11(\\x04\\x15\\t\\x04#\\t\\x11\\x15\\x14\\x11.\\x07\\x04/\\x14\\x15\\x1d\\x04#\\t)0\\x10\\x11\\x16;\\x12\\x04(\\x08\\t/\\x15\\x1d\\x04\\x10\\x11\\r\\x048\\x19:\\x04\\x14\\x11\\x14\\x15\\x14\\x10\\x15\\x14\\x0c\\x07\\x12\\x0e\\x04\\n\\n\\xc3\\x82\\xc6\\x92\\x01\\n\\n\\x12\\'*%+\\x1a\"\\x06\\x01\\n\\x0c\\x06(!+\\x06&\\x1a$*+\\x1a-)*!+\\x04\\x10\\x11\\r\\x04)\\x10\\x11\\x10(\\x07\\r\\x04&\\x14\\x0c\\x07\\x04=\\x0e+\\x0e\\x04\\x10\\x11\\r\\x04\\x13\\x10\\x11\\x10\\r\\x14\\x10\\x11\\x04\\r\\x14\\x12\\x15\\x08\\x14*.\\x15\\x14\\t\\x11\\x04#\\x07\\x11\\x15\\x07\\x08\\x12\\x0e\\x04\\n\\n\\x06\\n\\n\\x0f!\\'$*%+\\x07 !\"\\x0e\\x046\\x07\\x12\\x04\\x18\\t\\x14\\x11\\x07\\x12\\x17\\x04:?\\x04\\n\\x02 \\x1f\\x043\\x04\\x01\\x1b\\x1b\\x02\\x04\\x04\\n\\x15\\x07\\x10\\x14\\x12\\x05\\x01\\x02\\x03\\x04\\x05\\x06\\x07\\x04\\x08\\x02\\t\\x04\\n\\x0b\\x05%&\\'\\'\\'\\t(\\t&\\'\\')*\\t&\\t\\x08\\x044\\x1a\\x1b\\x04)\\x14\\x0b\\x0b\\x14\\t\\x11\\x04:@\\x04%\\t*\\x04\\x12\\x07\\x10\\x08#\\x1d\\x04A\\x07*\\x04\\x12\\x14\\x15\\x07\\x04/\\x14\\x15\\x1d\\x04\\x02\\x03\\x1b\\x04\\x07)0\\x0b\\t\\x16\\x07\\x07\\x12\\x0e\\x04\\x04\\n?\\x12\\x12.)\\x07\\r\\x040\\t\\x12\\x14\\x15\\x14\\t\\x11\\x12\\x04\\t&\\x04\\x14\\x11#\\x08\\x07\\x10\\x12\\x07\\r\\x04\\x0b\\x07\\x0c\\x07\\x0b\\x12\\x04\\t&\\x04\\x08\\x07\\x120\\t\\x11\\x12\\x14*\\x14\\x0b\\x14\\x15\\x16\\x04\\x15\\x1d\\x08\\t.(\\x1d\\t.\\x15\\x04\\x15\\x1d\\x08\\x07\\x072\\x16\\x07\\x10\\x08\\x04\\x15\\x07\\x11.\\x08\\x07\\x0e\\x04+\\x07\\x08\\x0c\\x07\\r\\x04\\x14\\x11\\x14\\x15\\x14\\x10\\x0b\\x0b\\x16\\x04\\x10\\x12\\x04\\x10\\x04,\\x14\\x11\\x10\\x11#\\x14\\x10\\x0b\\x04?\\r\\x0c\\x14\\x12\\t\\x08\\x04\\x14\\x11\\x04\\nB\\x02 \\x1f2\\x02 C\\x17\\x04/\\x10\\x12\\x040\\x08\\t)\\t\\x15\\x07\\r\\x04\\x15\\t\\x04>\\x14#\\x07\\x04\\x1c\\x08\\x07\\x12\\x14\\r\\x07\\x11\\x15\\x04\\t&\\x04,\\x14\\x11\\x10\\x11#\\x07\\x04B\\x02 2\\x01\\x1b\\x1b\\x1bC\\x04\\x10\\x11\\r\\x04\\x12.*\\x12\\x079.\\x07\\x11\\x15\\x0b\\x16\\x040\\x08\\t)\\t\\x15\\x07\\r\\x04\\x15\\t\\x04#.\\x08\\x08\\x07\\x11\\x15\\x04\\x15\\x14\\x0b\\x07\\x04\\x14\\x11\\x04\\x01\\x1b\\x1b\\x1b\\x0e\\x04\\n\\x18\\x10\\x11\\x10(\\x07\\r\\x04*\\t\\x15\\x15\\t)2\\x0b\\x14\\x11\\x07\\x04(\\x08\\t/\\x15\\x1d\\x04\\x10\\x11\\r\\x04\\x1d\\x07\\x10\\r\\x07\\r\\x040\\x08\\t\\r.#\\x15\\x04\\x15\\x07\\x10)\\x04\\x15\\t\\x04\\x08\\x07\\r\\x07\\x12\\x14(\\x11\\x04\\x10\\x11\\r\\x04\\x08\\x07\\r\\x07\\x0c\\x07\\x0b\\t0\\x04A\\x07*\\x04\\x12\\x14\\x15\\x07\\x0e\\x04\\n\\x0f\\x07\\x16\\x04\\x13\\t\\x11\\x15\\x08\\x14*.\\x15\\x14\\t\\x11\\x12\\x047\\x048\\x07\\x12.\\x0b\\x15\\x12\\x1e\\x04\\n\\xc3\\x82\\xc6\\x92\\x01\\n\\n\\x1c\\x08\\t\\x0c\\x14\\r\\x07\\r\\x04.\\x11\\x12.\\x080\\x10\\x12\\x12\\x07\\r\\x04\\x1a\\' +%\\x1f$%$\\x06\\x1a\\'\\x06+%0%\\')%\\x06!(\\x0679:;\\x17\\x04&\\x08\\t)\\x044\\x02\\x03\\x0e<\\x18\\x04\\x14\\x11\\x04,D\\x04\\x02\\n\\n\\x04\\x15\\t\\x042<=\\x07<\\x0f\\x06\\x1a\\'\\x06\\n>\\x065???\\x0e\\x04\\n\\n\\xc3\\x82\\xc6\\x92\\x01\\n\\n\\r%\\x1b!*\\x1a\\x1f*%&\\x062<:\\x0f\\x06$\\x1f\\x1d%\\x04\\x10\\x12\\x04/\\x07\\x0b\\x0b\\x04\\x10\\x12\\x04*.\\x14\\x0b\\x15\\x04\\x10\\x11\\r\\x04\\x12\\x15\\x08\\x07\\x10)\\x0b\\x14\\x11\\x07\\r\\x04&\\x14\\x11\\x10\\x11#\\x14\\x10\\x0b\\x04\\x12\\x16\\x12\\x15\\x07)\\x12\\x04\\x14\\x11\\x040\\x08\\x070\\x10\\x08\\x10\\x15\\x14\\t\\x11\\x04\\t&\\x04\\x18\\t\\x11\\x12\\x15\\x07\\x08\\x0e#\\t)\\x04\\x10#9.\\x14\\x12\\x14\\x15\\x14\\t\\x11\\x0e\\x04\\n\\n\\xc3\\x82\\xc6\\x92\\x01\\n\\n\\x0b)-$*\\x1f\\'*\\x1a\\x1f\\x1d\\x1d\\x1e\\x06\\x1a\\' +%\\x1f$%&\\x06\\x12\\x10\\x0b\\x07\\x12\\x04&\\t\\x08#\\x07\\x04&\\x08\\t)\\x04\\x02\\x03\\x04\\x15\\t\\x04<\\x1f\\x04\\x10\\x11\\r\\x04\\x07-0\\x10\\x11\\r\\x07\\r\\x04#.\\x12\\x15\\t)\\x07\\x08\\x04*\\x10\\x12\\x07\\x04&\\x08\\t)\\x04<\\x17 \\x1b\\x1b\\x04\\x15\\t\\x04)\\t\\x08\\x07\\x04\\x15\\x1d\\x10\\x11\\x04\\x1f\\x17\\x1b\\x1b\\x1b\\x0e\\x04\\n\\n\\x18%\\x1d\\x1a0%+%&\\x06257\\x07<\\x0f\\x04\\t\\x08\\x04E\\x03F\\x04\"\\n:@?\\x04\\x14\\x11\\x04,D\\x04\\x01\\x1b\\x1b\\x1b\\x04\\x10\\x11\\r\\x04\\x12.##\\x07\\x12\\x12&.\\x0b\\x0b\\x16\\x04\\x14)0\\x0b\\x07)\\x07\\x11\\x15\\x07\\r\\x04+\\x14\\x07*\\x07\\x0b\\x04\\x138\\x18\\x04\\x12\\x16\\x12\\x15\\x07)\\x04\\x10\\x11\\r\\x04<\\x08\\r2\\x1c\\x10\\x08\\x15\\x16\\x04@\\x07\\x0b\\x07\\x12\\x10\\x0b\\x07\\x12\\x04\\n\\x1c\\x08\\t(\\x08\\x10)\\x0e\\x04\\n\\x03\\x1d \\x1f*%\\x1d.\\x02) %\\'*\\x0e\\x06\\x0f\\x10\\x11\\x12\\x10\\x12\\x04\\x13\\x14\\x15\\x16\\x17\\x04\\x18\\x19\\x04\\n\\x16\\x17\\x04\\x03\\x14\\x0b\\x02\\x18\\x04\\x05 \\x01\\x02\\x03\\x04\\x05 \\x06\\x07\\x04\\x08\\x02\\t\\x04\\n\\x0b\\x0e\\x11\\x0c\\x19\\x0e\\x11\\x10\\x07\\x12\\x10\\x07\\r\\x0b\\x04\\x05 \\x11\\x10\\n\\x0b\\x07\\x10\\x13\\x13\\x04\\x07\\t %&\\t\\x08\\x04 4\\x01\\x1b2)\\x14\\x0b\\x0b\\x14\\t\\x11\\x04 (\\x0b\\t*\\x10\\x0b\\x04 \\t0\\x07\\x08\\x10\\x15\\x14\\x11(\\x04 \\x12\\x16\\x12\\x15\\x07)\\x04 \\x12\\t&\\x15/\\x10\\x08\\x07\\x04 #\\t)0\\x10\\x11\\x16\\x04 /\\x14\\x15\\x1d\\x04\\n\\x01\\x02\\x1a\\x04\\x07)0\\x0b\\t\\x16\\x07\\x07\\x12\\x0e\\x04\\n\\xc3\\x82\\xc6\\x92\\x01 \\x06\\x10\\x11\\r\\x0b\\x07\\r\\x01 &\\x14\\x11\\x10\\x11#\\x07\\x12\\x04 &\\t\\x08\\x04 =\\x0e+\\x0e\\x17\\x04 G\\x100\\x10\\x11\\x17\\x04 ,\\x08\\x10\\x11#\\x07\\x17\\x04 \"\\x11(\\x0b\\x10\\x11\\r\\x17\\x04 \\x10\\x11\\r\\x04 H\\x07\\x08)\\x10\\x11\\x16\\x04 \\t0\\x07\\x08\\x10\\x15\\x14\\t\\x11\\x12\\x02\\x01 ?#\\x15\\x14\\x0c\\x07\\x0b\\x16\\x01 0\\x10\\x08\\x15\\x14#\\x140\\x10\\x15\\x07\\r\\x04 \\x14\\x11\\x04 \\r\\x14\\x08\\x07#\\x15\\x14\\x11(\\x04 \\x10\\x11\\r\\x04\\n\\r\\x07\\x12\\x14(\\x11\\x14\\x11(\\x04(\\x08\\t/\\x15\\x1d\\x04\\x12\\x15\\x08\\x10\\x15\\x07(\\x14\\x07\\x12\\x04\\x10\\x11\\r\\x04#\\t\\x080\\t\\x08\\x10\\x15\\x07\\x04#\\t\\x11\\x12\\t\\x0b\\x14\\r\\x10\\x15\\x14\\t\\x11\\x12\\x0e\\x04\\n\\x12\\x11@\\x06\\x10\\x1f A\\x1f\\x1b\\x1a\\'\\x1b\\x06\\x0b!\\x1d)*\\x1a!\\'$\\x0e\\x06\\x06\\x13\\r\\n\\x0b\\x05\\x11\\x10\\n\\x0b\\x07\\x10\\x13\\x13\\x04\\x07\\x05\\x05\\n\\x01!\\'\\x06\\x13\\x1d!-\\x1f\\x1d\\x06\\x12\\'&)$*+\\x1a%$\\x0e\\x06\\x1a\\x08\\x08\\x02\\x08\\x0b\\r\\n\\x0b\\x05\\x06\\x13\\r\\n\\x0b\\x05\\x11\\x10\\n\\x0b\\x07\\x10\\x13\\x13\\x04\\x07\\x05\\n\\x03\"%+\\x1a \\x1f\\'\\x06B!&\\x1e\\x06\\x01!\"#\\x1f\\'\\x1e\\x0e\\x06\\x1a\\x08\\x08\\x02\\x08\\x0b\\r\\n\\x0b\\x05\\x11\\x10\\n\\x0b\\x07\\x10\\x13\\x13\\x04\\x07\\x0e\\x19\\x1b\\x1b\\x02\\x03\\x04\\x07\\x05\\x1c\\r\\n\\r\\x1d\\x04\\x07\\x05\\n\\x01\\x03\\x0f\\x03\\x01\\x06\\t\\'%+\\x1b\\x1e\\x0e\\x06\\x1e\\x04\\x18\\x04\\n\\x14\\x04\\x05\\x1f\\r\\x17\\x05\\x1a\\x03\\x03\\x10\\x14\\n\\x0b\\r\\n\\x0b\\x0e\\x1e\\x04\\x18\\x04\\n\\x14\\x04\\x05\\x1a\\x03\\x03\\x10\\x14\\n\\x0b\\x02\\n\\x1d\\x05\\x1f\\x04\\x03 \\n\\x02\\x03\\x02\\r\\n\\x05\\x05\\n\\x01\\n\\xc3\\x82\\xc6\\x92\\x01\\n\\n\\x06\\n\\n\\t\\x18\\x16\\x01\\x03\\x11\\x12\\x0c\\r\\x06C\\x06\\x03\\n\\n\\x12\\x02\\x12\\x03\\x11\\x12\\x0c\\r\\x0b\\x06\\n\\n\\x06\\n\\n\\x01\\nB\\x1f \\x1c%\\x1d!+\\x06!(\\x06B)$\\x1a\\'%$$\\x06\\x03&\"\\x1a\\'\\x1a$*+\\x1f*\\x1a!\\'\\x0e\\x06%\"#\\x1c\\x1f$\\x1a$\\x06\\x1a\\'\\x06\\x03 !)\\'*\\x1a\\'\\x1b\\x06\\n\\x03\\x04\\x05\\x06\\x07\\x08\\t\\x05\\n\\x0b\\x01\\x0c\\r\\x01\\x0e\\x05\\t\\t\\x0c\\x03\\x08\\x05\\x0f\\x01\\x10\\x11\\x12\\x13\\x11\\x13\\x01\\x14\\x15\\x16\\x17\\x0f\\x01\\x10\\t\\x01\\n\\x01\\n\\x18\\x15\\x12\\x19\\x1a\\x1b\\x05\\x12\\x1c\\x01\\x1d\\x16\\x16\\x1e\\x1c\\x1f\\x1f\\n\\x02!\\x15\\x12\\x19\\x1a\\x1b\\x15\\x12\\x02\"#$\\x1f\\x1e%&\\x1f\"!\\x11\\'\\x19(\\x1a))\\x1a\\'\\x13#\\x12\\x1f*+\\x1f,-,\\x1f.//\\x01\\n\\x01\\n\\x01\\x18+\\x02,\\x04\\x03\\x05\\x1c\\x04A\\x14\\x11\\r\\t/\\x12\\x17\\x04A\\t\\x08\\r\\x17\\x04\"-#\\x07\\x0b\\x17\\x04\\x1c\\t/\\x07\\x08\\x1c\\t\\x14\\x11\\x15\\x17\\x04?##\\x07\\x12\\x12\\x17\\x04>\\x14\\x12\\x14\\t\\x17\\x04H\\x08\\x07\\x10\\x15\\x04\\x1c\\x0b\\x10\\x14\\x11\\x12\\x04?##\\t.\\x11\\x15\\x14\\x11(\\x17\\x04+\\t\\x0b\\t)\\t\\x11\\x04:>\\x17\\x04\\x1c\\x07\\t0\\x0b\\x07+\\t&\\x15\\x17\\x04\\x06\\x160\\x07\\x08\\x14\\t\\x11\\x17\\x04\\n\\x13\\x08\\x16\\x12\\x15\\x10\\x0b\\x048\\x070\\t\\x08\\x15\\x12\\x04\\n\\x01\\n\\x04'\n"
     ]
    }
   ],
   "source": [
    "print(id_797)"
   ]
  },
  {
   "cell_type": "code",
   "execution_count": 36,
   "metadata": {},
   "outputs": [
    {
     "name": "stdout",
     "output_type": "stream",
     "text": [
      "b'! \"\\n$\\n\\n\"\\n%\\n\\n#\\n\\n&\\n\\n!\\n\\'\\n\\'& ( )\\n\\n$\\n#\\n\\n!\\n\"!\\n+\\n\\n!!\\n\"\\n\\n!\\n\\n$\\n\\n!*\\n\\n%\\n#\\n\\n\"\\n) \"\\n!\\n\\n& !\\n\\n(\\n\\n!\\n\\n$\\n\\n!\\n\\n&\\'\\n\\n) $ *\\n\\n+$\\n\\n)\\n\\n!\\n!\\n\\n!\\n\\n!\\n\\n* ,\\n\\n!\\n\\n,\\n1\\n\\n-../\\n+ 3\\n\\n2\\n\\n5 ,\\n\\n0\\n\\n6\\n1\\n\\n+# ,\\n\\n4\\n\\n+\\n\\n2\\n\\n7 7\\n\\n8\\n\\n9\\n\\n- ,\\n\\n9\\n+ 2\\n\\n9\\n5\\n5\\n\"\\n@,\\n-\\n\\n,\\n,\\n\\n: ;\\n\\n2 A1\\n+;\\n\\n8\\n5 ,\\n- ,\\n- ,\\n\\n9\\n\\nB\", B%\\n+\\n$\\n! 1\\n\\n4\\n&\\n\\n<\\n\\n1\\n;\\n\\n,\\n\\n#\\n\\n! 1\\n\"\\n\\n1\\n\\n+\\n\"\\n\\n\"\\n+\\n9\\n\\n;\\n\\n4\\n\\n(\\n2\\n\\n;\\n\\n#\\n\\n\\'\\'\\n++\\n++\\n++\\n++\\n#\\n\\n+\\n\\n7 7\\n\\n1\\n\\n$&\\n+\\n\\n8\\n\\n1\\n1\\n1\\n1\\n\\n2 <=\\n\\n?\\n, #\\n\\n9\\n\\n) %\\n\\n+ =\\n\\n#\\n\\n+\\n\\n+\\n\\n# <\\n$\\n\\n(\\n\\n2\\n\\n#\\n; 0\\n\\n#\\n\\n$\\n\\n) -!\\n!\\n!\\n!\\n!\\n\\n!\\n\\n3>.\\n2\\n\\n(\\n\\n#\\n,\\n\\n+\\n\\n1\\n\\n&\\n+ \" 0 2\\n&\\n&\\n;\\n\\nB7 7 ?\\n%\\n=\\n!, 6\\n\\n3 $\\n, 0\\n, 0 +\\n+\\n, C\\n$ 2! , 0\\n=7 7 , 0\\n! -. (\\n7\\n!\\n\\n4\\n-..:\\n\\n\"\\n\\n\\x0c%\\n\\n+\\n\\n!\\n\\n6\\n\"\\n\\n,\\n\\n+\\n6\\n! 1\\n\\n!&\\n\\n, C\\n#\\n#\\n\\n$\\n\\n;\\n\\n+\\n\\n+\\n\\n. $ -\\n\\n,\\n\\n, #\\n!\\n\\n++\\n\\n,\\n,\\n\\n! 1\\n1\\n\\n\"\\n\\n1\\n1\\n\\n%\\n\\n, #\\n#\\n0\\n+\\n\\n!+\\n\\n, #\\n\\n,\\nB\", B%\\n# 9 0\\n\\n#\\n\\n!$\\n+!\\n\\n) \"\\n\\n1\\n\\n!\\n\\n!\\n\\n\\'\\n\\n, C\\n\\n8 &B\\n+ (\\n(\\n%\\n\\n0\\n\\n+\\n\\n\"\\n\\n+\\n\\n,\\n\\n1\\nB\\n\\n(\\n! 9 0\\n\\nB\\n\\n(\\n\\n$\\n,\\n\\n4\\n\\n$ ;\\n\\n!<;\\n\\n+\\n\\n$\\n\\n!\\n\\n!\\n\\n$\\n\\n#\\n\\n& 1\\n#\\n\\n! 9\\n#\\n#\\n\\n$\\n4\\n\\n!\\n\\n1\\nB\\n\\n#\\n-../ ;\\n& 0 11\\n#\\nH..\\n7\\n#\\n#\\n%\\n#\\n\\n+\\n( 2D 0\\n\\n(\\n(\\n4\\n\\n!\\n/\\n1222 3 )\\n\\nF\\n9\\n%\\n6\\nF< (\\n9\\n% G5>\\n$\\n!\\n#\\n\\n;\\n\\n+\\n\\n1\\n\\n$\\n\\n\"\\n\\n(\\n\\n$\\n\\n1\\n\\n%\\n\\n!\\n\\n$&\\n\\n$& ,\\n\"\\nB\", B% ) & *\\n\\n&&%\\n\\n++\\n!\\n\\n$\\n\\n1\\n, 1\\n1\\n1\\n\\n#\\n\\n(\\n;\\n\\n$0\\nB\", B%\\n\\n#\\n;\\nE\\n\\n\"\\n\\n#\\n\\n, 1\\n\\n$\\n\\n1\\n(\\n\\n0\\n\\n9 ! 1\\nB\\n\\n\"\\n7 7\\n\\n\"\\n&&%\\nB\", B%\\n!B\\n!\\n0\\n,\\nB\\n!\\n4\\n\\n8 &B\\n,\\n\\n+\\n+# ! 1\\n1\\n\\n++\\n4\\n\\n,\\n1\\n\\nB#\\n\\n&\\n\\nB\\nB\\n\\n#!\\n\\n/\\n\\n8\\n+\\n, #\\n\\n\"\\n\"\\n\\n!\\n\\n\"+\\n\\n!\\n!\\n,\\n\\n+#\\n\\n8\\n\\n4\\n! $\\n\\n# !\\n\\n!\\n\\n4\\n+\\n\\n4\\n;\\n2\\n$\\n\\n!\\n\\n7\\n\\n4\\n4\\n\\n4\\n\\n\\x0c8\\n\\n1\\n\\n@\\n\\n;\\n\\n2A 8\\n$\\n!\\n9\\n2\\n;\\n+\\n4\\n++\\n!\\n9\\n2\\n\\n! 1\\n, 0 !+\\n\\n+<\\n$\\n\\n! F\\nF 9\\n\\n#\\n#\\n6\\n\\n;\\n(\\n!\\n\\n=\\n\\n, 0\\n7\\n\\n,\\n\\n#\\n+\\n9\\n\\n!\\n\\n&\\n\\n+\\n,\\n\\n#\\n\\n+\\n(\\n#\\n\\n7\\n\\n++\\n\\n!\\n\\n!\\n\\n, #\\n\\n#\\n! 1\\n\\n8\\n$\\n!\\n! % +\\n\"\\n\\n2\\n\\n!\\n$\\n\\n8\\n$\\n\\n2\\n\\n, 09\\n\\n+\\n\\n1\\n9 6 #\\n%\\n\\n4\\n\\n#\\n\\n8\\n\\n!\\n\\n4\\n\\n4\\n9\\n\\n+ 1\\n\\n, 0 \" +\\n\\n,\\n;\\n\\n4\\n\\n9\\n\\n#\\n\\n$\\n8\\n\\n(\\n$\\n\\n#\\n\\n(\\n\\n#\\n\\n(\\n\\n! 9\\n\\n2\\n\\n4552\\n(\\n\\n+\\n+ 9\\n! ( 2\\n9\\n$\\n!\\n#\\n4\\n7\\n+\\n! $\\n2\\n\"\\n<\\n, A\\n+\\n4\\n+\\n+\\n6\\n9\\n#\\n(\\n2$\\n!\\n#\\n$\\n! &\\n& ,\\n# (\\n$\\n! $\\n#\\n4\\n+ 9\\n#\\n(\\n$\\n! 9\\n2\\n\"\\n# 1\\n9\\n+#\\n2\\n\"\\n% ?\\n# 1F\\n+#\\n! 9\\n#\\n\"\\n<\\n+\\n9\\n2\\n,\\n1\\n+\\n+\\n(\\n$\\n! 2\\n2 (\\n(\\n+\\n#\\n<\\n\" ##! 1 IG. (7\\n7\\n\"\\n%\\n! 9\\n&\\n#\\n,\\n$\\n! % ?\\n9\\n2\\n?\\n4\\n,\\n1\\n$\\n!\\n<\\n+\\n(\\n\\n<$\\n=\\n\\n!\\n+\\n\\n++\\n+#\\n0\\n;\\n\\n&#C\\n\\n$\\n\\nB\\n\\n!\\n+\\n+#\\n2\\n&((\\n?\\n1\\n\\n9\\n,\\n\\n+ 1\\n$\\n\\n#\\n\\n7 7\\n\\n9\\n\\n#\\n\\n$\\n7\\n\\n2\\n! 9\\n1\\n9\\n\\n#\\n\\n66\\n\\n#\\n\\n+ ,\\n\"\\n\\n#\\n\\n\"\\n\\n!\\n\\n(\\n\\n(\\n\\n4\\n$\\n9\\n\\n(\\n\\n! (\\n#\\n\\n(\\n\\n4\\n#\\n\\n4\\n\\n(\\n\\n4562\\n+\\n\\n(\\n\\n!\\n\\n(\\n\\n\\x0c#!\\n\\n;\\n\\nG\\n\\n\"\\n\\n0\\n\\n$\\n+\\n!\\n\\n$\\n\\n2\\n\\n, +\\n66\\n\\n9\\n2\\n5-\\n\\n3\\n\\n$\\n( 2; 6\\n0\\n\\n6\\n\\n(\\n#!\\n\\n,\\n\\n2 9\\n$\\n9\\n!\\n\\n$\\n\\n+ 9\\n#\\n\\n!\\n!\\n\\n\"\\n+#\\n, +\\n\\n#\\n\\n+\\n\\n\"\\n\\n\"\\n\\n#\\n\\n$\\n\\n66\\n\\n!,\\n\\n\"\\n\\n# 1\\n3\\n\\n!\\n8\\n,\\n\\n9\\n!+\\n\\n?\\n\\n\"!\\n!\\n\\n8\\n\\n#\\n\\n\"\\n\\n!\\n\\n,\\n\\n!\\n\\n) -!\\n%\\n\\n%\\n,\\n\\n,\\n,\\n\\n4\\n( 2\\n6\\n\\n+\\n\\n@$\\n\\n#\\n\\n!\\n\\nA\\n\\n6\\n\\n\"\\n6\\n\\n7 7\\n\"\\n\"\\n\\n3\\n< +\\n( 2\\n+\\n$\\n!$\\n(D\\n(\\n$\\nB\\n6\\n(\\n;\\n!\\n6\\n=\\n!;\\n( 2\\n\" +\\n%\\n\"\\n<,\\n\" +\\n( 2 \" +\\n\\n+\\n\\n\"\\n6\\n+ 1 +\\n=\\n\\n\"\\n\\n!\\n\\n7 7\\n\\n4\\n4\\n\\n4\\n\\n-:\\n%\\n5.\\n-H\\n\\n7 7\\n\\n4\\n\" +\\n\\n( 2\\n\\n+\\n(\\n( 2\\n( 2\\n\\n(\\n\\n\"\\n\\n\"\\n55\\n\\n\"\\n\\n4\\n+\\n\\n4\\n\\n!!\\n\\n! 1\\n! 1\\n! 1\\n,\\n\\n1\\n66\\n\\n+ ,\\n\\nB7 7 ?\\n# <$\\n\\n7\\n\\n+ 1\\n!\\n\"\\n\\n\"\\n\\n0%\\n+\\n\\n\"\\n!\\n\\n+#\\n\\n&;\\n\\n+\\n\\n;!\\n\\n\"\\n\"\\n\\n; 0\\n\\n+ ,\\n\"\\n\\n9\\n\\n\\x0c,\\n\\n\"\\n\"\\n\\n<%\\n\\n2\\n\" !&\\n! 1\\n$\\n,\\n\\n\\'-\\n\\n+\\n6\\n$\\n\\n\"\\n+#\\n!\\n(\\n(\\n\\n\"\\n(\\n(\\n\\n0\\n\\n?\\n7\\n\\n4\\n\\n$\\n\\n\"\\n\\n(\\n\\n!\\n\\n8\\n=\\n= +#\\n\\n!\\n\\n7\\n+ 1\\n+\\n\\n1\\n+\\n\\n7\\n\\n!'\n"
     ]
    }
   ],
   "source": [
    "print(id_1187)"
   ]
  },
  {
   "cell_type": "raw",
   "metadata": {},
   "source": [
    "Явно при извличането нещо се е объркало и съдържат произволни символи и ще премахна тези две резюмета"
   ]
  },
  {
   "cell_type": "code",
   "execution_count": 37,
   "metadata": {},
   "outputs": [],
   "source": [
    "data = cp.drop([797 , 1187],axis=0)"
   ]
  },
  {
   "cell_type": "raw",
   "metadata": {},
   "source": [
    "Последно да видм дължините на резюметата след почистването"
   ]
  },
  {
   "cell_type": "code",
   "execution_count": 38,
   "metadata": {},
   "outputs": [
    {
     "data": {
      "text/html": [
       "<div>\n",
       "<style scoped>\n",
       "    .dataframe tbody tr th:only-of-type {\n",
       "        vertical-align: middle;\n",
       "    }\n",
       "\n",
       "    .dataframe tbody tr th {\n",
       "        vertical-align: top;\n",
       "    }\n",
       "\n",
       "    .dataframe thead th {\n",
       "        text-align: right;\n",
       "    }\n",
       "</style>\n",
       "<table border=\"1\" class=\"dataframe\">\n",
       "  <thead>\n",
       "    <tr style=\"text-align: right;\">\n",
       "      <th></th>\n",
       "      <th>Category</th>\n",
       "      <th>Resume</th>\n",
       "      <th>char_num</th>\n",
       "      <th>Cleaned</th>\n",
       "      <th>char_num_cleaned</th>\n",
       "    </tr>\n",
       "  </thead>\n",
       "  <tbody>\n",
       "    <tr>\n",
       "      <th>949</th>\n",
       "      <td>Engineering</td>\n",
       "      <td>b'Engineering Fresher Resume\\n\\n\\x0c\\xef\\x82\\x...</td>\n",
       "      <td>209</td>\n",
       "      <td>Engineering Fresher Resume</td>\n",
       "      <td>27</td>\n",
       "    </tr>\n",
       "    <tr>\n",
       "      <th>310</th>\n",
       "      <td>Education</td>\n",
       "      <td>b'Resume for Sample Purposes Only\\n\\nby \\xc3\\x...</td>\n",
       "      <td>82</td>\n",
       "      <td>Resume for Sample Purposes Only by Resumes For...</td>\n",
       "      <td>55</td>\n",
       "    </tr>\n",
       "    <tr>\n",
       "      <th>972</th>\n",
       "      <td>Engineering</td>\n",
       "      <td>b'N\\n\\name\\n\\nName\\nAddress\\nPhone :\\nE-mail:\\...</td>\n",
       "      <td>500</td>\n",
       "      <td>ame Objectives To pursue challenging career i...</td>\n",
       "      <td>357</td>\n",
       "    </tr>\n",
       "    <tr>\n",
       "      <th>753</th>\n",
       "      <td>Automobile</td>\n",
       "      <td>b'\\xef\\x82\\xb7 Salesperson\\n\\xef\\x82\\xb7 Aircr...</td>\n",
       "      <td>598</td>\n",
       "      <td>Salesperson Aircraft Mechanic Satellite TV In...</td>\n",
       "      <td>383</td>\n",
       "    </tr>\n",
       "    <tr>\n",
       "      <th>1171</th>\n",
       "      <td>Arts</td>\n",
       "      <td>b'Mitch Myers\\nHeight:\\nWeight:\\nHair:\\nEyes:\\...</td>\n",
       "      <td>591</td>\n",
       "      <td>Mitch Myers Height Weight Hair Eyes lbs Brown ...</td>\n",
       "      <td>413</td>\n",
       "    </tr>\n",
       "    <tr>\n",
       "      <th>851</th>\n",
       "      <td>Finance</td>\n",
       "      <td>b\"Assistant Finance Director Resume\\nWork Expe...</td>\n",
       "      <td>641</td>\n",
       "      <td>Assistant Finance Director Resume Work Experie...</td>\n",
       "      <td>434</td>\n",
       "    </tr>\n",
       "    <tr>\n",
       "      <th>755</th>\n",
       "      <td>Automobile</td>\n",
       "      <td>b'Richard Bay\\nFrontier Road\\nGermany\\nPhone: ...</td>\n",
       "      <td>768</td>\n",
       "      <td>Richard Bay Frontier Road Germany Possess skil...</td>\n",
       "      <td>450</td>\n",
       "    </tr>\n",
       "    <tr>\n",
       "      <th>1129</th>\n",
       "      <td>Banking</td>\n",
       "      <td>b'Cashier Resume Templates\\n\\nMonica Gill\\nFro...</td>\n",
       "      <td>853</td>\n",
       "      <td>Cashier Resume Templates Monica Gill Frost Roa...</td>\n",
       "      <td>533</td>\n",
       "    </tr>\n",
       "    <tr>\n",
       "      <th>768</th>\n",
       "      <td>Automobile</td>\n",
       "      <td>b'Dean Perry\\nWork shire Road\\nLondon\\nPhone: ...</td>\n",
       "      <td>834</td>\n",
       "      <td>Dean Perry Work shire Road London Efficient wo...</td>\n",
       "      <td>538</td>\n",
       "    </tr>\n",
       "    <tr>\n",
       "      <th>601</th>\n",
       "      <td>BPO</td>\n",
       "      <td>b'Call Center Manager Resume Template\\nGary Hi...</td>\n",
       "      <td>996</td>\n",
       "      <td>Call Center Manager Resume Template Gary Hicks...</td>\n",
       "      <td>620</td>\n",
       "    </tr>\n",
       "    <tr>\n",
       "      <th>148</th>\n",
       "      <td>Managment</td>\n",
       "      <td>b\"Senior Marketing Manager Resume sample\\nWork...</td>\n",
       "      <td>881</td>\n",
       "      <td>Senior Marketing Manager Resume sample Work Ex...</td>\n",
       "      <td>629</td>\n",
       "    </tr>\n",
       "    <tr>\n",
       "      <th>712</th>\n",
       "      <td>Digital Media</td>\n",
       "      <td>b'Newsreader Resume Template\\nGary Stone\\nMelv...</td>\n",
       "      <td>954</td>\n",
       "      <td>Newsreader Resume Template Gary Stone Melvin S...</td>\n",
       "      <td>639</td>\n",
       "    </tr>\n",
       "    <tr>\n",
       "      <th>756</th>\n",
       "      <td>Automobile</td>\n",
       "      <td>b'Edward Joseph\\nMarksyor Road\\nDenmark\\nPhone...</td>\n",
       "      <td>1066</td>\n",
       "      <td>Edward Joseph Marksyor Road Denmark Skilled in...</td>\n",
       "      <td>648</td>\n",
       "    </tr>\n",
       "    <tr>\n",
       "      <th>1189</th>\n",
       "      <td>Arts</td>\n",
       "      <td>b'Joseph Andrade\\nACTOR\\nEmail: Jfandrade192@o...</td>\n",
       "      <td>900</td>\n",
       "      <td>Joseph Andrade ACTOR Eyes Dark Brown Hazel Hei...</td>\n",
       "      <td>664</td>\n",
       "    </tr>\n",
       "    <tr>\n",
       "      <th>1035</th>\n",
       "      <td>Accountant</td>\n",
       "      <td>b'Olivia Wilson\\n1 Main Street\\nNew Cityland, ...</td>\n",
       "      <td>958</td>\n",
       "      <td>Olivia Wilson Main Street New Cityland CA Cell...</td>\n",
       "      <td>693</td>\n",
       "    </tr>\n",
       "    <tr>\n",
       "      <th>58</th>\n",
       "      <td>Designing</td>\n",
       "      <td>b'Hannah Oyler\\n21 Balsom St\\nVentura, CA 9412...</td>\n",
       "      <td>852</td>\n",
       "      <td>Hannah Oyler Balsom St Ventura CA Objective to...</td>\n",
       "      <td>696</td>\n",
       "    </tr>\n",
       "    <tr>\n",
       "      <th>706</th>\n",
       "      <td>Digital Media</td>\n",
       "      <td>b'Editor Resume Template\\nDebby Dell\\nFrancis ...</td>\n",
       "      <td>1075</td>\n",
       "      <td>Editor Resume Template Debby Dell Francis Road...</td>\n",
       "      <td>721</td>\n",
       "    </tr>\n",
       "    <tr>\n",
       "      <th>726</th>\n",
       "      <td>Digital Media</td>\n",
       "      <td>b'Advertiser Resume Template\\nJoe Rooney\\nJust...</td>\n",
       "      <td>1114</td>\n",
       "      <td>Advertiser Resume Template Joe Rooney Justin S...</td>\n",
       "      <td>759</td>\n",
       "    </tr>\n",
       "    <tr>\n",
       "      <th>751</th>\n",
       "      <td>Automobile</td>\n",
       "      <td>b'Melvin Clarke\\nReverie Road\\nLondon\\nPhone: ...</td>\n",
       "      <td>1176</td>\n",
       "      <td>Melvin Clarke Reverie Road London Kept good co...</td>\n",
       "      <td>778</td>\n",
       "    </tr>\n",
       "    <tr>\n",
       "      <th>477</th>\n",
       "      <td>Health &amp; Fitness</td>\n",
       "      <td>b'Doctor Assistant Resume Template\\nXXXXX\\nPho...</td>\n",
       "      <td>991</td>\n",
       "      <td>Doctor Assistant Resume Template XXXXX Career ...</td>\n",
       "      <td>799</td>\n",
       "    </tr>\n",
       "    <tr>\n",
       "      <th>595</th>\n",
       "      <td>BPO</td>\n",
       "      <td>b'Joe Fawn\\nWall Street\\nFinland\\nPhone: 28-64...</td>\n",
       "      <td>997</td>\n",
       "      <td>Joe Fawn Wall Street Finland efficient and wor...</td>\n",
       "      <td>803</td>\n",
       "    </tr>\n",
       "    <tr>\n",
       "      <th>774</th>\n",
       "      <td>Food &amp; Beverages</td>\n",
       "      <td>b'Resume\\n\\nJanice Nguyen\\nRathausstra\\xc3\\x9f...</td>\n",
       "      <td>1439</td>\n",
       "      <td>Campingplatz Wetzlar Seasonal Receptionist We...</td>\n",
       "      <td>805</td>\n",
       "    </tr>\n",
       "    <tr>\n",
       "      <th>1023</th>\n",
       "      <td>Accountant</td>\n",
       "      <td>b\"Clinical Account Manager \\xe2\\x80\\x93 Canada...</td>\n",
       "      <td>1018</td>\n",
       "      <td>Clinical Account Manager Canada Primary Respon...</td>\n",
       "      <td>824</td>\n",
       "    </tr>\n",
       "    <tr>\n",
       "      <th>257</th>\n",
       "      <td>Information Technology</td>\n",
       "      <td>b'SAS Programmer\\n\\nTo provide technical suppo...</td>\n",
       "      <td>1202</td>\n",
       "      <td>SAS Programmer To provide technical support fo...</td>\n",
       "      <td>851</td>\n",
       "    </tr>\n",
       "    <tr>\n",
       "      <th>261</th>\n",
       "      <td>Information Technology</td>\n",
       "      <td>b'Harold Hotelling\\nUniversity of North Caroli...</td>\n",
       "      <td>1244</td>\n",
       "      <td>Harold Hotelling University of North Carolina ...</td>\n",
       "      <td>856</td>\n",
       "    </tr>\n",
       "    <tr>\n",
       "      <th>1068</th>\n",
       "      <td>Building &amp; Construction</td>\n",
       "      <td>b'John Applicant\\n1 23 Main Street\\nAlbany, NY...</td>\n",
       "      <td>1074</td>\n",
       "      <td>John Applicant Main Street Albany NY Albany Co...</td>\n",
       "      <td>869</td>\n",
       "    </tr>\n",
       "    <tr>\n",
       "      <th>592</th>\n",
       "      <td>BPO</td>\n",
       "      <td>b'Sample BPO CV Template\\n\\nVikas Singh\\n#210,...</td>\n",
       "      <td>1233</td>\n",
       "      <td>Sample BPO CV Template Vikas Singh cross rd Bl...</td>\n",
       "      <td>882</td>\n",
       "    </tr>\n",
       "    <tr>\n",
       "      <th>1177</th>\n",
       "      <td>Arts</td>\n",
       "      <td>b\"John D. Newton\\n4101 Hickman Street\\nChicago...</td>\n",
       "      <td>1142</td>\n",
       "      <td>John Newton Hickman Street Chicago IL Height W...</td>\n",
       "      <td>888</td>\n",
       "    </tr>\n",
       "    <tr>\n",
       "      <th>242</th>\n",
       "      <td>Information Technology</td>\n",
       "      <td>b'Your Name\\nCurriculum Vitae\\n\\nPERSONAL DETA...</td>\n",
       "      <td>1269</td>\n",
       "      <td>Your Curriculum Vitae PERSONAL DETAILS Birth M...</td>\n",
       "      <td>906</td>\n",
       "    </tr>\n",
       "    <tr>\n",
       "      <th>661</th>\n",
       "      <td>Sales</td>\n",
       "      <td>b'SAMPLE RESUME FOR A\\nRETAIL SALES ASSOCIATE ...</td>\n",
       "      <td>1320</td>\n",
       "      <td>present Lead Teller Provide training and empl...</td>\n",
       "      <td>922</td>\n",
       "    </tr>\n",
       "    <tr>\n",
       "      <th>...</th>\n",
       "      <td>...</td>\n",
       "      <td>...</td>\n",
       "      <td>...</td>\n",
       "      <td>...</td>\n",
       "      <td>...</td>\n",
       "    </tr>\n",
       "    <tr>\n",
       "      <th>909</th>\n",
       "      <td>Engineering</td>\n",
       "      <td>b\"Resumes\\n\\nfor Engineers\\n\\nWhat is a resume...</td>\n",
       "      <td>38588</td>\n",
       "      <td>Resumes for Engineers What is resume resume is...</td>\n",
       "      <td>31939</td>\n",
       "    </tr>\n",
       "    <tr>\n",
       "      <th>677</th>\n",
       "      <td>Consultant</td>\n",
       "      <td>b'EUGEN SPIVAK, MBA, PMP, CISA, CGEIT, CRISC, ...</td>\n",
       "      <td>35139</td>\n",
       "      <td>EUGEN SPIVAK MBA PMP CISA CGEIT CRISC BSc Prog...</td>\n",
       "      <td>32010</td>\n",
       "    </tr>\n",
       "    <tr>\n",
       "      <th>1166</th>\n",
       "      <td>Arts</td>\n",
       "      <td>b'Creator of Unique, Hand Stitched Artworks\\nT...</td>\n",
       "      <td>44317</td>\n",
       "      <td>Creator of Unique Hand Stitched Artworks Texti...</td>\n",
       "      <td>32374</td>\n",
       "    </tr>\n",
       "    <tr>\n",
       "      <th>1208</th>\n",
       "      <td>Aviation</td>\n",
       "      <td>b'Flight Attendant Resumes\\nFlight-Attendant-C...</td>\n",
       "      <td>42006</td>\n",
       "      <td>Flight Attendant Resumes Flight Attendant Care...</td>\n",
       "      <td>32750</td>\n",
       "    </tr>\n",
       "    <tr>\n",
       "      <th>910</th>\n",
       "      <td>Engineering</td>\n",
       "      <td>b'HOW TO WRITE A PROFESSIONAL RESUME\\n\\n\\x0c\\x...</td>\n",
       "      <td>39980</td>\n",
       "      <td>HOW TO WRITE PROFESSIONAL RESUME RESUME TIPS T...</td>\n",
       "      <td>33551</td>\n",
       "    </tr>\n",
       "    <tr>\n",
       "      <th>28</th>\n",
       "      <td>HR</td>\n",
       "      <td>b'HOW TO WRITE A PROFESSIONAL RESUME\\n\\n\\x0c\\x...</td>\n",
       "      <td>39980</td>\n",
       "      <td>HOW TO WRITE PROFESSIONAL RESUME RESUME TIPS T...</td>\n",
       "      <td>33551</td>\n",
       "    </tr>\n",
       "    <tr>\n",
       "      <th>515</th>\n",
       "      <td>Health &amp; Fitness</td>\n",
       "      <td>b'Farokh J Master\\nMobile: +91 98210 69197 ~ T...</td>\n",
       "      <td>44616</td>\n",
       "      <td>Farokh Master Tel Web site DISTINGUISHED PROFE...</td>\n",
       "      <td>34037</td>\n",
       "    </tr>\n",
       "    <tr>\n",
       "      <th>488</th>\n",
       "      <td>Health &amp; Fitness</td>\n",
       "      <td>b'Aldo Leopardi, BDS, DDS, MS\\nCurriculum Vita...</td>\n",
       "      <td>42922</td>\n",
       "      <td>Aldo Leopardi BDS DDS MS Curriculum Vitae OFFI...</td>\n",
       "      <td>36698</td>\n",
       "    </tr>\n",
       "    <tr>\n",
       "      <th>189</th>\n",
       "      <td>Information Technology</td>\n",
       "      <td>b'Resume\\nGuide\\nBOSTON UNIVERSITY\\nCOLLEGE OF...</td>\n",
       "      <td>48789</td>\n",
       "      <td>Resume Guide BOSTON UNIVERSITY COLLEGE OF ENGI...</td>\n",
       "      <td>37627</td>\n",
       "    </tr>\n",
       "    <tr>\n",
       "      <th>512</th>\n",
       "      <td>Health &amp; Fitness</td>\n",
       "      <td>b\"CURRICULUM VITAE\\nNAME:\\n\\nJeffrey A. Dean\\n...</td>\n",
       "      <td>48981</td>\n",
       "      <td>CURRICULUM VITAE Jeffrey Dean EDUCATION Underg...</td>\n",
       "      <td>38396</td>\n",
       "    </tr>\n",
       "    <tr>\n",
       "      <th>324</th>\n",
       "      <td>Education</td>\n",
       "      <td>b'Job &amp; Internship Guide \\xe2\\x80\\xa2 16-17\\n\\...</td>\n",
       "      <td>48774</td>\n",
       "      <td>Job Internship Guide Resume Cover Letters well...</td>\n",
       "      <td>38814</td>\n",
       "    </tr>\n",
       "    <tr>\n",
       "      <th>671</th>\n",
       "      <td>Consultant</td>\n",
       "      <td>b\"OFFICE OF CAREER DEVELOPMENT\\nRESUME SAMPLES...</td>\n",
       "      <td>53135</td>\n",
       "      <td>OFFICE OF CAREER DEVELOPMENT RESUME SAMPLES TA...</td>\n",
       "      <td>39161</td>\n",
       "    </tr>\n",
       "    <tr>\n",
       "      <th>404</th>\n",
       "      <td>Advocate</td>\n",
       "      <td>b'CURRICULUM VITAE\\nHillel Rapoport, February ...</td>\n",
       "      <td>51859</td>\n",
       "      <td>CURRICULUM VITAE Hillel Rapoport February RAPO...</td>\n",
       "      <td>39764</td>\n",
       "    </tr>\n",
       "    <tr>\n",
       "      <th>287</th>\n",
       "      <td>Education</td>\n",
       "      <td>b'VITA\\nI.\\n\\nNAME AND TITLE\\n\\nThomas J. Simm...</td>\n",
       "      <td>48694</td>\n",
       "      <td>VITA AND TITLE Thomas Simmons Ph CRC Associate...</td>\n",
       "      <td>40123</td>\n",
       "    </tr>\n",
       "    <tr>\n",
       "      <th>921</th>\n",
       "      <td>Engineering</td>\n",
       "      <td>b'RESUME WRITING\\nTips for resume formatting a...</td>\n",
       "      <td>51760</td>\n",
       "      <td>RESUME WRITING Tips for resume formatting and ...</td>\n",
       "      <td>43255</td>\n",
       "    </tr>\n",
       "    <tr>\n",
       "      <th>947</th>\n",
       "      <td>Engineering</td>\n",
       "      <td>b'RESUME WRITING\\nTips for resume formatting a...</td>\n",
       "      <td>51760</td>\n",
       "      <td>RESUME WRITING Tips for resume formatting and ...</td>\n",
       "      <td>43255</td>\n",
       "    </tr>\n",
       "    <tr>\n",
       "      <th>491</th>\n",
       "      <td>Health &amp; Fitness</td>\n",
       "      <td>b\"Curriculum Vitae\\nScott E. Harrington\\nAlan ...</td>\n",
       "      <td>54619</td>\n",
       "      <td>Curriculum Vitae Scott Harrington Alan Miller ...</td>\n",
       "      <td>46288</td>\n",
       "    </tr>\n",
       "    <tr>\n",
       "      <th>1188</th>\n",
       "      <td>Arts</td>\n",
       "      <td>b'MAGGIE BICKFORD\\nProfessor of the History of...</td>\n",
       "      <td>60958</td>\n",
       "      <td>MAGGIE BICKFORD Professor of the History of Ar...</td>\n",
       "      <td>46415</td>\n",
       "    </tr>\n",
       "    <tr>\n",
       "      <th>1070</th>\n",
       "      <td>Building &amp; Construction</td>\n",
       "      <td>b'Sample Resumes for CONSTRUCTION &amp; TRADES\\nDi...</td>\n",
       "      <td>56600</td>\n",
       "      <td>Sample Resumes for CONSTRUCTION TRADES Disclai...</td>\n",
       "      <td>46434</td>\n",
       "    </tr>\n",
       "    <tr>\n",
       "      <th>742</th>\n",
       "      <td>Digital Media</td>\n",
       "      <td>b'Curriculum Vitae\\nGary King\\nApril 21, 2017\\...</td>\n",
       "      <td>65535</td>\n",
       "      <td>Curriculum Vitae Gary King April Contact Insti...</td>\n",
       "      <td>47220</td>\n",
       "    </tr>\n",
       "    <tr>\n",
       "      <th>915</th>\n",
       "      <td>Engineering</td>\n",
       "      <td>b'RESUMES/COVER LETTERS\\nRESUMES\\n\\nA resume i...</td>\n",
       "      <td>65535</td>\n",
       "      <td>RESUMES COVER LETTERS RESUMES resume is brief ...</td>\n",
       "      <td>47444</td>\n",
       "    </tr>\n",
       "    <tr>\n",
       "      <th>34</th>\n",
       "      <td>HR</td>\n",
       "      <td>b'Creating an\\nEffective R\\xc3\\xa9sum\\xc3\\xa9\\...</td>\n",
       "      <td>65535</td>\n",
       "      <td>Creating an Effective sum Alumni Career Servic...</td>\n",
       "      <td>48243</td>\n",
       "    </tr>\n",
       "    <tr>\n",
       "      <th>328</th>\n",
       "      <td>Education</td>\n",
       "      <td>b\"Educational\\nAdministration\\nEmployment Guid...</td>\n",
       "      <td>62380</td>\n",
       "      <td>Educational Administration Employment Guide NO...</td>\n",
       "      <td>48725</td>\n",
       "    </tr>\n",
       "    <tr>\n",
       "      <th>965</th>\n",
       "      <td>Engineering</td>\n",
       "      <td>b'CURRICULUM VITAE\\n1. NAME:\\n\\nAnoop Chawla\\n...</td>\n",
       "      <td>60823</td>\n",
       "      <td>CURRICULUM VITAE Anoop Chawla CURRENT POSITION...</td>\n",
       "      <td>49620</td>\n",
       "    </tr>\n",
       "    <tr>\n",
       "      <th>914</th>\n",
       "      <td>Engineering</td>\n",
       "      <td>b'your resume and try to determine if they hav...</td>\n",
       "      <td>61381</td>\n",
       "      <td>your resume and try to determine if they have ...</td>\n",
       "      <td>50864</td>\n",
       "    </tr>\n",
       "    <tr>\n",
       "      <th>992</th>\n",
       "      <td>Engineering</td>\n",
       "      <td>b'your resume and try to determine if they hav...</td>\n",
       "      <td>61381</td>\n",
       "      <td>your resume and try to determine if they have ...</td>\n",
       "      <td>50864</td>\n",
       "    </tr>\n",
       "    <tr>\n",
       "      <th>501</th>\n",
       "      <td>Health &amp; Fitness</td>\n",
       "      <td>b'Rev. 05/31/06\\n\\nCURRICULUM VITAE\\nNEAL VON ...</td>\n",
       "      <td>65535</td>\n",
       "      <td>Rev CURRICULUM VITAE NEAL VON DAWSON OFFICE Ce...</td>\n",
       "      <td>52641</td>\n",
       "    </tr>\n",
       "    <tr>\n",
       "      <th>489</th>\n",
       "      <td>Health &amp; Fitness</td>\n",
       "      <td>b'CURRICULUM VITAE\\nNAME:\\n\\nLouise Mary Burke...</td>\n",
       "      <td>65535</td>\n",
       "      <td>CURRICULUM VITAE Louise Mary Burke OAM Departm...</td>\n",
       "      <td>52741</td>\n",
       "    </tr>\n",
       "    <tr>\n",
       "      <th>347</th>\n",
       "      <td>Education</td>\n",
       "      <td>b'Resumes and Cover Letters\\nWith Samples\\n\\xe...</td>\n",
       "      <td>65535</td>\n",
       "      <td>Resumes and Cover Letters With Samples Resume ...</td>\n",
       "      <td>54156</td>\n",
       "    </tr>\n",
       "    <tr>\n",
       "      <th>900</th>\n",
       "      <td>Engineering</td>\n",
       "      <td>b'Resumes and Cover Letters\\nWith Samples\\n\\xe...</td>\n",
       "      <td>65535</td>\n",
       "      <td>Resumes and Cover Letters With Samples Resume ...</td>\n",
       "      <td>54156</td>\n",
       "    </tr>\n",
       "  </tbody>\n",
       "</table>\n",
       "<p>1204 rows × 5 columns</p>\n",
       "</div>"
      ],
      "text/plain": [
       "                     Category  \\\n",
       "949               Engineering   \n",
       "310                 Education   \n",
       "972               Engineering   \n",
       "753                Automobile   \n",
       "1171                     Arts   \n",
       "851                   Finance   \n",
       "755                Automobile   \n",
       "1129                  Banking   \n",
       "768                Automobile   \n",
       "601                       BPO   \n",
       "148                 Managment   \n",
       "712             Digital Media   \n",
       "756                Automobile   \n",
       "1189                     Arts   \n",
       "1035               Accountant   \n",
       "58                  Designing   \n",
       "706             Digital Media   \n",
       "726             Digital Media   \n",
       "751                Automobile   \n",
       "477          Health & Fitness   \n",
       "595                       BPO   \n",
       "774          Food & Beverages   \n",
       "1023               Accountant   \n",
       "257    Information Technology   \n",
       "261    Information Technology   \n",
       "1068  Building & Construction   \n",
       "592                       BPO   \n",
       "1177                     Arts   \n",
       "242    Information Technology   \n",
       "661                     Sales   \n",
       "...                       ...   \n",
       "909               Engineering   \n",
       "677                Consultant   \n",
       "1166                     Arts   \n",
       "1208                 Aviation   \n",
       "910               Engineering   \n",
       "28                         HR   \n",
       "515          Health & Fitness   \n",
       "488          Health & Fitness   \n",
       "189    Information Technology   \n",
       "512          Health & Fitness   \n",
       "324                 Education   \n",
       "671                Consultant   \n",
       "404                  Advocate   \n",
       "287                 Education   \n",
       "921               Engineering   \n",
       "947               Engineering   \n",
       "491          Health & Fitness   \n",
       "1188                     Arts   \n",
       "1070  Building & Construction   \n",
       "742             Digital Media   \n",
       "915               Engineering   \n",
       "34                         HR   \n",
       "328                 Education   \n",
       "965               Engineering   \n",
       "914               Engineering   \n",
       "992               Engineering   \n",
       "501          Health & Fitness   \n",
       "489          Health & Fitness   \n",
       "347                 Education   \n",
       "900               Engineering   \n",
       "\n",
       "                                                 Resume  char_num  \\\n",
       "949   b'Engineering Fresher Resume\\n\\n\\x0c\\xef\\x82\\x...       209   \n",
       "310   b'Resume for Sample Purposes Only\\n\\nby \\xc3\\x...        82   \n",
       "972   b'N\\n\\name\\n\\nName\\nAddress\\nPhone :\\nE-mail:\\...       500   \n",
       "753   b'\\xef\\x82\\xb7 Salesperson\\n\\xef\\x82\\xb7 Aircr...       598   \n",
       "1171  b'Mitch Myers\\nHeight:\\nWeight:\\nHair:\\nEyes:\\...       591   \n",
       "851   b\"Assistant Finance Director Resume\\nWork Expe...       641   \n",
       "755   b'Richard Bay\\nFrontier Road\\nGermany\\nPhone: ...       768   \n",
       "1129  b'Cashier Resume Templates\\n\\nMonica Gill\\nFro...       853   \n",
       "768   b'Dean Perry\\nWork shire Road\\nLondon\\nPhone: ...       834   \n",
       "601   b'Call Center Manager Resume Template\\nGary Hi...       996   \n",
       "148   b\"Senior Marketing Manager Resume sample\\nWork...       881   \n",
       "712   b'Newsreader Resume Template\\nGary Stone\\nMelv...       954   \n",
       "756   b'Edward Joseph\\nMarksyor Road\\nDenmark\\nPhone...      1066   \n",
       "1189  b'Joseph Andrade\\nACTOR\\nEmail: Jfandrade192@o...       900   \n",
       "1035  b'Olivia Wilson\\n1 Main Street\\nNew Cityland, ...       958   \n",
       "58    b'Hannah Oyler\\n21 Balsom St\\nVentura, CA 9412...       852   \n",
       "706   b'Editor Resume Template\\nDebby Dell\\nFrancis ...      1075   \n",
       "726   b'Advertiser Resume Template\\nJoe Rooney\\nJust...      1114   \n",
       "751   b'Melvin Clarke\\nReverie Road\\nLondon\\nPhone: ...      1176   \n",
       "477   b'Doctor Assistant Resume Template\\nXXXXX\\nPho...       991   \n",
       "595   b'Joe Fawn\\nWall Street\\nFinland\\nPhone: 28-64...       997   \n",
       "774   b'Resume\\n\\nJanice Nguyen\\nRathausstra\\xc3\\x9f...      1439   \n",
       "1023  b\"Clinical Account Manager \\xe2\\x80\\x93 Canada...      1018   \n",
       "257   b'SAS Programmer\\n\\nTo provide technical suppo...      1202   \n",
       "261   b'Harold Hotelling\\nUniversity of North Caroli...      1244   \n",
       "1068  b'John Applicant\\n1 23 Main Street\\nAlbany, NY...      1074   \n",
       "592   b'Sample BPO CV Template\\n\\nVikas Singh\\n#210,...      1233   \n",
       "1177  b\"John D. Newton\\n4101 Hickman Street\\nChicago...      1142   \n",
       "242   b'Your Name\\nCurriculum Vitae\\n\\nPERSONAL DETA...      1269   \n",
       "661   b'SAMPLE RESUME FOR A\\nRETAIL SALES ASSOCIATE ...      1320   \n",
       "...                                                 ...       ...   \n",
       "909   b\"Resumes\\n\\nfor Engineers\\n\\nWhat is a resume...     38588   \n",
       "677   b'EUGEN SPIVAK, MBA, PMP, CISA, CGEIT, CRISC, ...     35139   \n",
       "1166  b'Creator of Unique, Hand Stitched Artworks\\nT...     44317   \n",
       "1208  b'Flight Attendant Resumes\\nFlight-Attendant-C...     42006   \n",
       "910   b'HOW TO WRITE A PROFESSIONAL RESUME\\n\\n\\x0c\\x...     39980   \n",
       "28    b'HOW TO WRITE A PROFESSIONAL RESUME\\n\\n\\x0c\\x...     39980   \n",
       "515   b'Farokh J Master\\nMobile: +91 98210 69197 ~ T...     44616   \n",
       "488   b'Aldo Leopardi, BDS, DDS, MS\\nCurriculum Vita...     42922   \n",
       "189   b'Resume\\nGuide\\nBOSTON UNIVERSITY\\nCOLLEGE OF...     48789   \n",
       "512   b\"CURRICULUM VITAE\\nNAME:\\n\\nJeffrey A. Dean\\n...     48981   \n",
       "324   b'Job & Internship Guide \\xe2\\x80\\xa2 16-17\\n\\...     48774   \n",
       "671   b\"OFFICE OF CAREER DEVELOPMENT\\nRESUME SAMPLES...     53135   \n",
       "404   b'CURRICULUM VITAE\\nHillel Rapoport, February ...     51859   \n",
       "287   b'VITA\\nI.\\n\\nNAME AND TITLE\\n\\nThomas J. Simm...     48694   \n",
       "921   b'RESUME WRITING\\nTips for resume formatting a...     51760   \n",
       "947   b'RESUME WRITING\\nTips for resume formatting a...     51760   \n",
       "491   b\"Curriculum Vitae\\nScott E. Harrington\\nAlan ...     54619   \n",
       "1188  b'MAGGIE BICKFORD\\nProfessor of the History of...     60958   \n",
       "1070  b'Sample Resumes for CONSTRUCTION & TRADES\\nDi...     56600   \n",
       "742   b'Curriculum Vitae\\nGary King\\nApril 21, 2017\\...     65535   \n",
       "915   b'RESUMES/COVER LETTERS\\nRESUMES\\n\\nA resume i...     65535   \n",
       "34    b'Creating an\\nEffective R\\xc3\\xa9sum\\xc3\\xa9\\...     65535   \n",
       "328   b\"Educational\\nAdministration\\nEmployment Guid...     62380   \n",
       "965   b'CURRICULUM VITAE\\n1. NAME:\\n\\nAnoop Chawla\\n...     60823   \n",
       "914   b'your resume and try to determine if they hav...     61381   \n",
       "992   b'your resume and try to determine if they hav...     61381   \n",
       "501   b'Rev. 05/31/06\\n\\nCURRICULUM VITAE\\nNEAL VON ...     65535   \n",
       "489   b'CURRICULUM VITAE\\nNAME:\\n\\nLouise Mary Burke...     65535   \n",
       "347   b'Resumes and Cover Letters\\nWith Samples\\n\\xe...     65535   \n",
       "900   b'Resumes and Cover Letters\\nWith Samples\\n\\xe...     65535   \n",
       "\n",
       "                                                Cleaned  char_num_cleaned  \n",
       "949                         Engineering Fresher Resume                 27  \n",
       "310   Resume for Sample Purposes Only by Resumes For...                55  \n",
       "972    ame Objectives To pursue challenging career i...               357  \n",
       "753    Salesperson Aircraft Mechanic Satellite TV In...               383  \n",
       "1171  Mitch Myers Height Weight Hair Eyes lbs Brown ...               413  \n",
       "851   Assistant Finance Director Resume Work Experie...               434  \n",
       "755   Richard Bay Frontier Road Germany Possess skil...               450  \n",
       "1129  Cashier Resume Templates Monica Gill Frost Roa...               533  \n",
       "768   Dean Perry Work shire Road London Efficient wo...               538  \n",
       "601   Call Center Manager Resume Template Gary Hicks...               620  \n",
       "148   Senior Marketing Manager Resume sample Work Ex...               629  \n",
       "712   Newsreader Resume Template Gary Stone Melvin S...               639  \n",
       "756   Edward Joseph Marksyor Road Denmark Skilled in...               648  \n",
       "1189  Joseph Andrade ACTOR Eyes Dark Brown Hazel Hei...               664  \n",
       "1035  Olivia Wilson Main Street New Cityland CA Cell...               693  \n",
       "58    Hannah Oyler Balsom St Ventura CA Objective to...               696  \n",
       "706   Editor Resume Template Debby Dell Francis Road...               721  \n",
       "726   Advertiser Resume Template Joe Rooney Justin S...               759  \n",
       "751   Melvin Clarke Reverie Road London Kept good co...               778  \n",
       "477   Doctor Assistant Resume Template XXXXX Career ...               799  \n",
       "595   Joe Fawn Wall Street Finland efficient and wor...               803  \n",
       "774    Campingplatz Wetzlar Seasonal Receptionist We...               805  \n",
       "1023  Clinical Account Manager Canada Primary Respon...               824  \n",
       "257   SAS Programmer To provide technical support fo...               851  \n",
       "261   Harold Hotelling University of North Carolina ...               856  \n",
       "1068  John Applicant Main Street Albany NY Albany Co...               869  \n",
       "592   Sample BPO CV Template Vikas Singh cross rd Bl...               882  \n",
       "1177  John Newton Hickman Street Chicago IL Height W...               888  \n",
       "242   Your Curriculum Vitae PERSONAL DETAILS Birth M...               906  \n",
       "661    present Lead Teller Provide training and empl...               922  \n",
       "...                                                 ...               ...  \n",
       "909   Resumes for Engineers What is resume resume is...             31939  \n",
       "677   EUGEN SPIVAK MBA PMP CISA CGEIT CRISC BSc Prog...             32010  \n",
       "1166  Creator of Unique Hand Stitched Artworks Texti...             32374  \n",
       "1208  Flight Attendant Resumes Flight Attendant Care...             32750  \n",
       "910   HOW TO WRITE PROFESSIONAL RESUME RESUME TIPS T...             33551  \n",
       "28    HOW TO WRITE PROFESSIONAL RESUME RESUME TIPS T...             33551  \n",
       "515   Farokh Master Tel Web site DISTINGUISHED PROFE...             34037  \n",
       "488   Aldo Leopardi BDS DDS MS Curriculum Vitae OFFI...             36698  \n",
       "189   Resume Guide BOSTON UNIVERSITY COLLEGE OF ENGI...             37627  \n",
       "512   CURRICULUM VITAE Jeffrey Dean EDUCATION Underg...             38396  \n",
       "324   Job Internship Guide Resume Cover Letters well...             38814  \n",
       "671   OFFICE OF CAREER DEVELOPMENT RESUME SAMPLES TA...             39161  \n",
       "404   CURRICULUM VITAE Hillel Rapoport February RAPO...             39764  \n",
       "287   VITA AND TITLE Thomas Simmons Ph CRC Associate...             40123  \n",
       "921   RESUME WRITING Tips for resume formatting and ...             43255  \n",
       "947   RESUME WRITING Tips for resume formatting and ...             43255  \n",
       "491   Curriculum Vitae Scott Harrington Alan Miller ...             46288  \n",
       "1188  MAGGIE BICKFORD Professor of the History of Ar...             46415  \n",
       "1070  Sample Resumes for CONSTRUCTION TRADES Disclai...             46434  \n",
       "742   Curriculum Vitae Gary King April Contact Insti...             47220  \n",
       "915   RESUMES COVER LETTERS RESUMES resume is brief ...             47444  \n",
       "34    Creating an Effective sum Alumni Career Servic...             48243  \n",
       "328   Educational Administration Employment Guide NO...             48725  \n",
       "965   CURRICULUM VITAE Anoop Chawla CURRENT POSITION...             49620  \n",
       "914   your resume and try to determine if they have ...             50864  \n",
       "992   your resume and try to determine if they have ...             50864  \n",
       "501   Rev CURRICULUM VITAE NEAL VON DAWSON OFFICE Ce...             52641  \n",
       "489   CURRICULUM VITAE Louise Mary Burke OAM Departm...             52741  \n",
       "347   Resumes and Cover Letters With Samples Resume ...             54156  \n",
       "900   Resumes and Cover Letters With Samples Resume ...             54156  \n",
       "\n",
       "[1204 rows x 5 columns]"
      ]
     },
     "execution_count": 38,
     "metadata": {},
     "output_type": "execute_result"
    }
   ],
   "source": [
    "data.sort_values(by=\"char_num_cleaned\")"
   ]
  },
  {
   "cell_type": "raw",
   "metadata": {},
   "source": [
    "Следва да пробвам лематизация"
   ]
  },
  {
   "cell_type": "code",
   "execution_count": 41,
   "metadata": {},
   "outputs": [],
   "source": [
    "data[\"Lemmatized\"] = data.Cleaned.apply(lemmatize_text)"
   ]
  },
  {
   "cell_type": "code",
   "execution_count": 42,
   "metadata": {},
   "outputs": [],
   "source": [
    "doc = data.iloc[0].Cleaned\n",
    "lematized = data.iloc[0].Lemmatized"
   ]
  },
  {
   "cell_type": "raw",
   "metadata": {},
   "source": [
    "Да видим например в първият текст какво е успяла да направи лематизацията"
   ]
  },
  {
   "cell_type": "code",
   "execution_count": 156,
   "metadata": {},
   "outputs": [],
   "source": [
    "lemmas = differences(doc, lematized)"
   ]
  },
  {
   "cell_type": "code",
   "execution_count": 157,
   "metadata": {
    "scrolled": true
   },
   "outputs": [
    {
     "name": "stdout",
     "output_type": "stream",
     "text": [
      "Number of lemmatized words 133\n"
     ]
    },
    {
     "data": {
      "text/plain": [
       "[('working', 'work'),\n",
       " ('professionals', 'professional'),\n",
       " ('based', 'base'),\n",
       " ('settings', 'setting'),\n",
       " ('analyzing', 'analyze'),\n",
       " ('alternatives', 'alternative'),\n",
       " ('identifying', 'identify'),\n",
       " ('choices', 'choice'),\n",
       " ('communicating', 'communicate'),\n",
       " ('packages', 'package'),\n",
       " ('executives', 'executive'),\n",
       " ('employees', 'employee'),\n",
       " ('contracting', 'contract'),\n",
       " ('services', 'service'),\n",
       " ('employees', 'employee'),\n",
       " ('benefits', 'benefit'),\n",
       " ('programs', 'program'),\n",
       " ('smaller', 'small'),\n",
       " ('clients', 'client'),\n",
       " ('services', 'service'),\n",
       " ('leveraging', 'leverage'),\n",
       " ('skills', 'skill'),\n",
       " ('members', 'member'),\n",
       " ('claims', 'claim'),\n",
       " ('smaller', 'small'),\n",
       " ('plans', 'plan'),\n",
       " ('projections', 'projection'),\n",
       " ('forecasts', 'forecast'),\n",
       " ('trends', 'trend'),\n",
       " ('meetings', 'meeting'),\n",
       " ('specialists', 'specialist'),\n",
       " ('analyzing', 'analyze'),\n",
       " ('changes', 'change'),\n",
       " ('developing', 'develop'),\n",
       " ('plans', 'plan'),\n",
       " ('decisions', 'decision'),\n",
       " ('deadlines', 'deadline'),\n",
       " ('changes', 'change'),\n",
       " ('benefits', 'benefit'),\n",
       " ('employees', 'employee'),\n",
       " ('researched', 'research'),\n",
       " ('implemented', 'implement'),\n",
       " ('sheltered', 'shelter'),\n",
       " ('benefits', 'benefit'),\n",
       " ('physicians', 'physician'),\n",
       " ('professionals', 'professional'),\n",
       " ('leveraging', 'leverage'),\n",
       " ('existing', 'exist'),\n",
       " ('partners', 'partner'),\n",
       " ('better', 'well'),\n",
       " ('lower', 'low'),\n",
       " ('employees', 'employee'),\n",
       " ('needs', 'need'),\n",
       " ('goals', 'goal'),\n",
       " ('controls', 'control'),\n",
       " ('requirements', 'requirement'),\n",
       " ('implementing', 'implement'),\n",
       " ('benefits', 'benefit'),\n",
       " ('packages', 'package'),\n",
       " ('communicating', 'communicate'),\n",
       " ('members', 'member'),\n",
       " ('costs', 'cost'),\n",
       " ('collaborating', 'collaborate'),\n",
       " ('including', 'include'),\n",
       " ('implications', 'implication'),\n",
       " ('taxes', 'tax'),\n",
       " ('produced', 'produce'),\n",
       " ('better', 'well'),\n",
       " ('lower', 'low'),\n",
       " ('costs', 'cost'),\n",
       " ('consulting', 'consult'),\n",
       " ('employees', 'employee'),\n",
       " ('functions', 'function'),\n",
       " ('administered', 'administer'),\n",
       " ('benefits', 'benefit'),\n",
       " ('led', 'lead'),\n",
       " ('projects', 'project'),\n",
       " ('updated', 'update'),\n",
       " ('policies', 'policy'),\n",
       " ('collaborated', 'collaborate'),\n",
       " ('programs', 'program'),\n",
       " ('hired', 'hire'),\n",
       " ('employees', 'employee'),\n",
       " ('delivered', 'deliver'),\n",
       " ('formats', 'format'),\n",
       " ('teleconferences', 'teleconference'),\n",
       " ('meetings', 'meeting'),\n",
       " ('tours', 'tour'),\n",
       " ('conversations', 'conversation'),\n",
       " ('calls', 'call'),\n",
       " ('specialists', 'specialist'),\n",
       " ('handling', 'handle'),\n",
       " ('periods', 'period'),\n",
       " ('as', 'a'),\n",
       " ('integrated', 'integrate'),\n",
       " ('benefits', 'benefit'),\n",
       " ('plans', 'plan'),\n",
       " ('acquired', 'acquire'),\n",
       " ('employees', 'employee'),\n",
       " ('encompassing', 'encompass'),\n",
       " ('reports', 'report'),\n",
       " ('plans', 'plan'),\n",
       " ('meetings', 'meeting'),\n",
       " ('benefits', 'benefit'),\n",
       " ('employees', 'employee'),\n",
       " ('reductions', 'reduction'),\n",
       " ('maintained', 'maintain'),\n",
       " ('rankings', 'ranking'),\n",
       " ('cutbacks', 'cutback'),\n",
       " ('costs', 'cost'),\n",
       " ('including', 'include'),\n",
       " ('benefits', 'benefit'),\n",
       " ('procured', 'procure'),\n",
       " ('benefits', 'benefit'),\n",
       " ('contractors', 'contractor'),\n",
       " ('traveling', 'travel'),\n",
       " ('areas', 'area'),\n",
       " ('including', 'include'),\n",
       " ('increased', 'increase'),\n",
       " ('implemented', 'implement'),\n",
       " ('plans', 'plan'),\n",
       " ('employees', 'employee'),\n",
       " ('plans', 'plan'),\n",
       " ('including', 'include'),\n",
       " ('defined', 'define'),\n",
       " ('plans', 'plan'),\n",
       " ('consulting', 'consult'),\n",
       " ('employees', 'employee'),\n",
       " ('services', 'service'),\n",
       " ('consulting', 'consult'),\n",
       " ('employees', 'employee'),\n",
       " ('consulting', 'consult'),\n",
       " ('employees', 'employee')]"
      ]
     },
     "execution_count": 157,
     "metadata": {},
     "output_type": "execute_result"
    }
   ],
   "source": [
    "print(\"Number of lemmatized words {}\".format(len(lemmas)))\n",
    "lemmas"
   ]
  },
  {
   "cell_type": "markdown",
   "metadata": {},
   "source": [
    "Да разделим данните 90/10, като с 10% ще се провери колко добре генерализират моделите, а на 90-те ще се прави \"hyperparameter tuning\"."
   ]
  },
  {
   "cell_type": "code",
   "execution_count": 65,
   "metadata": {},
   "outputs": [],
   "source": [
    "X_train, X_test, y_train, y_test = train_test_split(data.Lemmatized, data.Category, test_size=0.10, random_state=42)"
   ]
  },
  {
   "cell_type": "markdown",
   "metadata": {},
   "source": [
    "Да разгледаме baseline модел, който предсказва най-често срещания клас, който ще служи за отправна точка."
   ]
  },
  {
   "cell_type": "code",
   "execution_count": 29,
   "metadata": {},
   "outputs": [
    {
     "name": "stdout",
     "output_type": "stream",
     "text": [
      "Baseline модел: 6.6115702479338845\n"
     ]
    }
   ],
   "source": [
    "\n",
    "pipeline_dummy = Pipeline([\n",
    "    (\"vect\", CountVectorizer()),\n",
    "    (\"clf\", DummyClassifier(strategy=\"most_frequent\"))\n",
    "])\n",
    "pipeline_dummy.fit(X_train, y_train)\n",
    "dummy_predict = pipeline_dummy.predict(X_test)\n",
    "print(\"Baseline модел: {}\".format(accuracy_score(y_test, dummy_predict) * 100))"
   ]
  },
  {
   "cell_type": "code",
   "execution_count": 63,
   "metadata": {},
   "outputs": [],
   "source": [
    "data = pd.read_csv(\"resumes_final.csv\")"
   ]
  },
  {
   "cell_type": "code",
   "execution_count": 64,
   "metadata": {},
   "outputs": [],
   "source": [
    "data.drop(columns=['Unnamed: 0'], inplace=True)"
   ]
  },
  {
   "cell_type": "markdown",
   "metadata": {},
   "source": [
    "Отдолу са дефинирани хиперпараметрите, който ще бъдат използвани в RandomizedGridSearch за да се намери оптимален модел. Първо са представени тези, които ще бъдат използвани при векторизацията на текста съответно но CountVectorizer/TfidfVectorizer в sklern"
   ]
  },
  {
   "cell_type": "code",
   "execution_count": 13,
   "metadata": {},
   "outputs": [],
   "source": [
    "#  Dictionary containing parameter grids for vectorizers\n",
    "params_dict = {\n",
    "    \"params_vect\" : {\n",
    "    \"vect__max_df\": [1.0, 0.9, 0.8, 0.7, 0.6, 0.5],\n",
    "    \"vect__min_df\": [2, 3, 5, 10],\n",
    "    \"vect__lowercase\": [True, False],\n",
    "    },\n",
    "\n",
    "    \"params_vect_tfidt\": {\n",
    "        \"vect__use_idf\": [True, False],\n",
    "        \"vect__norm\": ['l1', 'l2']\n",
    "    },\n",
    "\n",
    "    \"params_vect_word\": {\n",
    "        \"vect__ngram_range\": [(1, 1), (1, 2), (1, 3)],\n",
    "        \"vect__analyzer\": [\"word\"],\n",
    "    },\n",
    "    \"params_vect_char\": {\n",
    "    \"vect__ngram_range\": [(3, 5)],\n",
    "    \"vect__analyzer\": [\"char\"],\n",
    "    }\n",
    "\n",
    "}\n"
   ]
  },
  {
   "cell_type": "markdown",
   "metadata": {},
   "source": [
    "и хиперпараметрите на класификаторите, който ще се оптимизират"
   ]
  },
  {
   "cell_type": "code",
   "execution_count": 14,
   "metadata": {},
   "outputs": [],
   "source": [
    "clfs_dict = {\n",
    "    \"LogisticRegression\": {\n",
    "        \"clf__penalty\": ['l2'],\n",
    "        \"clf__max_iter\": [4000],\n",
    "        \"clf__C\": [0.001, 0.01, 0.1, 1, 10],\n",
    "        \"clf__solver\": [\"sag\"],\n",
    "        \"clf__multi_class\": [\"ovr\", \"multinomial\"],\n",
    "        \"clf__class_weight\": [None, \"balanced\"]\n",
    "    },\n",
    "\"LinearSVC\": {\n",
    "    \"clf__penalty\": [\"l2\", \"l1\"],\n",
    "    \"clf__dual\": [False],\n",
    "    \"clf__C\": [0.1, 1, 10, 100, 1000],\n",
    "    \"clf__class_weight\": [None, \"balanced\"]\n",
    "},\n",
    "\"SVC\" :{\n",
    "    \"clf__kernel\": [\"rbf\"],\n",
    "    \"clf__gamma\": [0.001, 0.01, 0,1, 1],\n",
    "    \"clf__C\": [0.1, 1, 10, 100, 1000],\n",
    "    \"clf__class_weight\": [None, \"balanced\"]\n",
    "},\n",
    "\"RandomForest\": {\n",
    "    \"clf__criterion\": [\"gini\", \"entropy\"],\n",
    "    \"clf__bootstrap\": [True, False],\n",
    "    \"clf__max_depth\": [10, 20, 30, 40, 50, 60, 70, 80, 90, 100, None],\n",
    "    \"clf__max_features\": [\"sqrt\", \"auto\"],\n",
    "    \"clf__min_samples_leaf\": [1, 2, 4],\n",
    "    \"clf__min_samples_split\": [2, 5, 10], \n",
    "    \"clf__n_estimators\": [200, 400, 600, 800, 1000, 1200, 1400, 1600, 1800, 2000]\n",
    "},\n",
    "\"MultinomialNB\": {\n",
    "    \"clf__alpha\": [0.001, 0.01, 0.1, 0.5, 1, 5, 10]\n",
    "},\n",
    "\"Xgboost\": {\n",
    "    \"clf__max_depth\": range(3, 10, 2),\n",
    "    \"clf__min_child_weight\": range(1, 6, 2),\n",
    "    \"clf__gamma\": [0.0, 0.1, 0.2, 0.3, 0.4],\n",
    "    \"clf__reg_alpha\": [1e-5, 1e-2, 0.1, 1, 100],\n",
    "    \"clf__subsample\": [0.6, 0.7, 0.8, 0.9],\n",
    "    \"clf__colsample_bytree\": [0.6, 0.7, 0.8, 0.9]\n",
    "}\n",
    "}\n"
   ]
  },
  {
   "cell_type": "markdown",
   "metadata": {},
   "source": [
    "До сега разгледаните модели с тунинговани хиперпараметри ще бъдат сравнени и с тяхните с по подразбиране"
   ]
  },
  {
   "cell_type": "markdown",
   "metadata": {},
   "source": [
    "Тъй, като за всеки класификатор ще се направи сравнение на неговата точност със и без оптимизирани хиперпараметри следва да дефинираме класификаторите със техните параметри по подразбиране."
   ]
  },
  {
   "cell_type": "code",
   "execution_count": 12,
   "metadata": {},
   "outputs": [],
   "source": [
    "clfs = {\n",
    "    \"LogisticRegression\": LogisticRegression(random_state=42),\n",
    "    \"LinearSVC\": LinearSVC(random_state=42),\n",
    "    \"SVC\": SVC(random_state=42),\n",
    "    \"RandomForest\": RandomForestClassifier(random_state=42),\n",
    "    \"MultinomialNB\": MultinomialNB(),\n",
    "    \"Xgboost\": XGBClassifier(random_state=42)\n",
    "}\n"
   ]
  },
  {
   "cell_type": "code",
   "execution_count": 13,
   "metadata": {},
   "outputs": [],
   "source": [
    "grids = {}\n",
    "pipelines = {}"
   ]
  },
  {
   "cell_type": "markdown",
   "metadata": {},
   "source": [
    "При оптимизацията на хиперпараметрите са разгледани двата метода за векторизация на текста - bag of words и tf-idf. Като при тях са рагледани случайте, когато елементите в речника който се образува са букви или думи.   "
   ]
  },
  {
   "cell_type": "code",
   "execution_count": 29,
   "metadata": {},
   "outputs": [],
   "source": [
    "\n",
    "for v in [None, \"tfidf\"]:\n",
    "    for (name, word_params, char_params) in combine_param_grids(params_dict, clfs_dict, v):\n",
    "        pipeline = make_pipeline(clfs[name], v)\n",
    "        pipelines[name] = {}\n",
    "        pipelines[name][\"word\"] = [pipeline, word_params]\n",
    "        pipelines[name][\"char\"] = [pipeline, char_params]\n",
    "                "
   ]
  },
  {
   "cell_type": "markdown",
   "metadata": {},
   "source": [
    "Надолу ще видим пример за това какви feature-и се побучават след прилагаето та bag of words или tf-idf"
   ]
  },
  {
   "cell_type": "markdown",
   "metadata": {},
   "source": [
    "Сега за всеки класификатор ще се изпълни RandomizedGridSearch. За него е показана комбинацията на хиперпараметрите за които той е оптимален(когато използа feature който са думи и когато са  букви). При крос валидацията, данните се делят на 3 приблизително равни части като на 2 от тях се тренира модела със съответната пройзволна комбинация от хирепараметри, а на останалата част се тества неговата точност на предсказване "
   ]
  },
  {
   "cell_type": "code",
   "execution_count": 177,
   "metadata": {
    "scrolled": true
   },
   "outputs": [
    {
     "name": "stdout",
     "output_type": "stream",
     "text": [
      "Hyperparameters tuning for LinearSVC on word basis\n",
      "\n",
      "Fitting 3 folds for each of 20 candidates, totalling 60 fits\n"
     ]
    },
    {
     "name": "stderr",
     "output_type": "stream",
     "text": [
      "[Parallel(n_jobs=4)]: Done  42 tasks      | elapsed:  3.6min\n",
      "[Parallel(n_jobs=4)]: Done  60 out of  60 | elapsed:  5.2min finished\n"
     ]
    },
    {
     "name": "stdout",
     "output_type": "stream",
     "text": [
      "\n",
      " LinearSVC\n",
      "Best parameters\n",
      "\n",
      "{'vect__use_idf': True, 'vect__norm': 'l2', 'vect__ngram_range': (1, 2), 'vect__min_df': 3, 'vect__max_df': 0.5, 'vect__lowercase': True, 'vect__analyzer': 'word', 'clf__penalty': 'l2', 'clf__dual': False, 'clf__class_weight': 'balanced', 'clf__C': 100} \n",
      "\n",
      "Best score 0.7072945521698984\n",
      "\n",
      "Hyperparameters tuning for LinearSVC on char basis\n",
      "\n",
      "Fitting 3 folds for each of 20 candidates, totalling 60 fits\n"
     ]
    },
    {
     "name": "stderr",
     "output_type": "stream",
     "text": [
      "[Parallel(n_jobs=4)]: Done  42 tasks      | elapsed: 30.6min\n",
      "[Parallel(n_jobs=4)]: Done  60 out of  60 | elapsed: 47.9min finished\n"
     ]
    },
    {
     "name": "stdout",
     "output_type": "stream",
     "text": [
      "\n",
      " LinearSVC\n",
      "Best parameters\n",
      "\n",
      "{'vect__use_idf': True, 'vect__norm': 'l1', 'vect__ngram_range': (3, 5), 'vect__min_df': 3, 'vect__max_df': 0.9, 'vect__lowercase': True, 'vect__analyzer': 'char', 'clf__penalty': 'l2', 'clf__dual': False, 'clf__class_weight': None, 'clf__C': 1000} \n",
      "\n",
      "Best score 0.7119113573407202\n",
      "\n",
      "Hyperparameters tuning for MultinomialNB on word basis\n",
      "\n",
      "Fitting 3 folds for each of 20 candidates, totalling 60 fits\n"
     ]
    },
    {
     "name": "stderr",
     "output_type": "stream",
     "text": [
      "[Parallel(n_jobs=4)]: Done  42 tasks      | elapsed:  1.2min\n",
      "[Parallel(n_jobs=4)]: Done  60 out of  60 | elapsed:  1.6min finished\n"
     ]
    },
    {
     "name": "stdout",
     "output_type": "stream",
     "text": [
      "\n",
      " MultinomialNB\n",
      "Best parameters\n",
      "\n",
      "{'vect__use_idf': True, 'vect__norm': 'l2', 'vect__ngram_range': (1, 1), 'vect__min_df': 10, 'vect__max_df': 0.9, 'vect__lowercase': True, 'vect__analyzer': 'word', 'clf__alpha': 0.1} \n",
      "\n",
      "Best score 0.6555863342566943\n",
      "\n",
      "Hyperparameters tuning for MultinomialNB on char basis\n",
      "\n",
      "Fitting 3 folds for each of 20 candidates, totalling 60 fits\n"
     ]
    },
    {
     "name": "stderr",
     "output_type": "stream",
     "text": [
      "[Parallel(n_jobs=4)]: Done  42 tasks      | elapsed:  8.2min\n",
      "[Parallel(n_jobs=4)]: Done  60 out of  60 | elapsed: 11.1min finished\n"
     ]
    },
    {
     "name": "stdout",
     "output_type": "stream",
     "text": [
      "\n",
      " MultinomialNB\n",
      "Best parameters\n",
      "\n",
      "{'vect__use_idf': True, 'vect__norm': 'l2', 'vect__ngram_range': (3, 5), 'vect__min_df': 10, 'vect__max_df': 0.5, 'vect__lowercase': True, 'vect__analyzer': 'char', 'clf__alpha': 0.01} \n",
      "\n",
      "Best score 0.6611265004616805\n",
      "\n"
     ]
    }
   ],
   "source": [
    "# train(\"LinearSVC\")\n",
    "# train(\"MultinomialNB\")\n"
   ]
  },
  {
   "cell_type": "code",
   "execution_count": 185,
   "metadata": {
    "scrolled": true
   },
   "outputs": [
    {
     "name": "stdout",
     "output_type": "stream",
     "text": [
      "Hyperparameters tuning for SVC on word basis\n",
      "\n",
      "Fitting 3 folds for each of 20 candidates, totalling 60 fits\n"
     ]
    },
    {
     "name": "stderr",
     "output_type": "stream",
     "text": [
      "[Parallel(n_jobs=4)]: Done  42 tasks      | elapsed:  2.0min\n",
      "[Parallel(n_jobs=4)]: Done  60 out of  60 | elapsed:  2.8min finished\n"
     ]
    },
    {
     "name": "stdout",
     "output_type": "stream",
     "text": [
      "\n",
      " SVC\n",
      "Best parameters\n",
      "\n",
      "{'vect__use_idf': True, 'vect__norm': 'l2', 'vect__ngram_range': (1, 1), 'vect__min_df': 10, 'vect__max_df': 1.0, 'vect__lowercase': True, 'vect__analyzer': 'word', 'clf__kernel': 'rbf', 'clf__gamma': 0.01, 'clf__class_weight': None, 'clf__C': 1000} \n",
      "\n",
      "Best score 0.6795937211449676\n",
      "\n",
      "Hyperparameters tuning for SVC on char basis\n",
      "\n",
      "Fitting 3 folds for each of 20 candidates, totalling 60 fits\n"
     ]
    },
    {
     "name": "stderr",
     "output_type": "stream",
     "text": [
      "[Parallel(n_jobs=4)]: Done  42 tasks      | elapsed: 23.7min\n",
      "[Parallel(n_jobs=4)]: Done  60 out of  60 | elapsed: 33.2min finished\n"
     ]
    },
    {
     "name": "stdout",
     "output_type": "stream",
     "text": [
      "\n",
      " SVC\n",
      "Best parameters\n",
      "\n",
      "{'vect__use_idf': True, 'vect__norm': 'l2', 'vect__ngram_range': (3, 5), 'vect__min_df': 10, 'vect__max_df': 1.0, 'vect__lowercase': True, 'vect__analyzer': 'char', 'clf__kernel': 'rbf', 'clf__gamma': 1, 'clf__class_weight': 'balanced', 'clf__C': 10} \n",
      "\n",
      "Best score 0.6565096952908587\n",
      "\n"
     ]
    }
   ],
   "source": [
    "# train(\"SVC\")"
   ]
  },
  {
   "cell_type": "code",
   "execution_count": 188,
   "metadata": {},
   "outputs": [
    {
     "name": "stdout",
     "output_type": "stream",
     "text": [
      "Hyperparameters tuning for LogisticRegression on word basis\n",
      "\n",
      "Fitting 3 folds for each of 20 candidates, totalling 60 fits\n"
     ]
    },
    {
     "name": "stderr",
     "output_type": "stream",
     "text": [
      "/home/kosio/anaconda3/lib/python3.6/site-packages/sklearn/linear_model/sag.py:326: ConvergenceWarning: The max_iter was reached which means the coef_ did not converge\n",
      "  \"the coef_ did not converge\", ConvergenceWarning)\n",
      "/home/kosio/anaconda3/lib/python3.6/site-packages/sklearn/linear_model/sag.py:326: ConvergenceWarning: The max_iter was reached which means the coef_ did not converge\n",
      "  \"the coef_ did not converge\", ConvergenceWarning)\n",
      "/home/kosio/anaconda3/lib/python3.6/site-packages/sklearn/linear_model/sag.py:326: ConvergenceWarning: The max_iter was reached which means the coef_ did not converge\n",
      "  \"the coef_ did not converge\", ConvergenceWarning)\n",
      "/home/kosio/anaconda3/lib/python3.6/site-packages/sklearn/linear_model/sag.py:326: ConvergenceWarning: The max_iter was reached which means the coef_ did not converge\n",
      "  \"the coef_ did not converge\", ConvergenceWarning)\n",
      "/home/kosio/anaconda3/lib/python3.6/site-packages/sklearn/linear_model/sag.py:326: ConvergenceWarning: The max_iter was reached which means the coef_ did not converge\n",
      "  \"the coef_ did not converge\", ConvergenceWarning)\n",
      "/home/kosio/anaconda3/lib/python3.6/site-packages/sklearn/linear_model/sag.py:326: ConvergenceWarning: The max_iter was reached which means the coef_ did not converge\n",
      "  \"the coef_ did not converge\", ConvergenceWarning)\n",
      "/home/kosio/anaconda3/lib/python3.6/site-packages/sklearn/linear_model/sag.py:326: ConvergenceWarning: The max_iter was reached which means the coef_ did not converge\n",
      "  \"the coef_ did not converge\", ConvergenceWarning)\n",
      "/home/kosio/anaconda3/lib/python3.6/site-packages/sklearn/linear_model/sag.py:326: ConvergenceWarning: The max_iter was reached which means the coef_ did not converge\n",
      "  \"the coef_ did not converge\", ConvergenceWarning)\n",
      "/home/kosio/anaconda3/lib/python3.6/site-packages/sklearn/linear_model/sag.py:326: ConvergenceWarning: The max_iter was reached which means the coef_ did not converge\n",
      "  \"the coef_ did not converge\", ConvergenceWarning)\n",
      "/home/kosio/anaconda3/lib/python3.6/site-packages/sklearn/linear_model/sag.py:326: ConvergenceWarning: The max_iter was reached which means the coef_ did not converge\n",
      "  \"the coef_ did not converge\", ConvergenceWarning)\n",
      "/home/kosio/anaconda3/lib/python3.6/site-packages/sklearn/linear_model/sag.py:326: ConvergenceWarning: The max_iter was reached which means the coef_ did not converge\n",
      "  \"the coef_ did not converge\", ConvergenceWarning)\n",
      "[Parallel(n_jobs=4)]: Done  42 tasks      | elapsed:  6.0min\n",
      "/home/kosio/anaconda3/lib/python3.6/site-packages/sklearn/linear_model/sag.py:326: ConvergenceWarning: The max_iter was reached which means the coef_ did not converge\n",
      "  \"the coef_ did not converge\", ConvergenceWarning)\n",
      "/home/kosio/anaconda3/lib/python3.6/site-packages/sklearn/linear_model/sag.py:326: ConvergenceWarning: The max_iter was reached which means the coef_ did not converge\n",
      "  \"the coef_ did not converge\", ConvergenceWarning)\n",
      "/home/kosio/anaconda3/lib/python3.6/site-packages/sklearn/linear_model/sag.py:326: ConvergenceWarning: The max_iter was reached which means the coef_ did not converge\n",
      "  \"the coef_ did not converge\", ConvergenceWarning)\n",
      "/home/kosio/anaconda3/lib/python3.6/site-packages/sklearn/linear_model/sag.py:326: ConvergenceWarning: The max_iter was reached which means the coef_ did not converge\n",
      "  \"the coef_ did not converge\", ConvergenceWarning)\n",
      "/home/kosio/anaconda3/lib/python3.6/site-packages/sklearn/linear_model/sag.py:326: ConvergenceWarning: The max_iter was reached which means the coef_ did not converge\n",
      "  \"the coef_ did not converge\", ConvergenceWarning)\n",
      "/home/kosio/anaconda3/lib/python3.6/site-packages/sklearn/linear_model/sag.py:326: ConvergenceWarning: The max_iter was reached which means the coef_ did not converge\n",
      "  \"the coef_ did not converge\", ConvergenceWarning)\n",
      "/home/kosio/anaconda3/lib/python3.6/site-packages/sklearn/linear_model/sag.py:326: ConvergenceWarning: The max_iter was reached which means the coef_ did not converge\n",
      "  \"the coef_ did not converge\", ConvergenceWarning)\n",
      "/home/kosio/anaconda3/lib/python3.6/site-packages/sklearn/linear_model/sag.py:326: ConvergenceWarning: The max_iter was reached which means the coef_ did not converge\n",
      "  \"the coef_ did not converge\", ConvergenceWarning)\n",
      "/home/kosio/anaconda3/lib/python3.6/site-packages/sklearn/linear_model/sag.py:326: ConvergenceWarning: The max_iter was reached which means the coef_ did not converge\n",
      "  \"the coef_ did not converge\", ConvergenceWarning)\n",
      "/home/kosio/anaconda3/lib/python3.6/site-packages/sklearn/linear_model/sag.py:326: ConvergenceWarning: The max_iter was reached which means the coef_ did not converge\n",
      "  \"the coef_ did not converge\", ConvergenceWarning)\n",
      "/home/kosio/anaconda3/lib/python3.6/site-packages/sklearn/linear_model/sag.py:326: ConvergenceWarning: The max_iter was reached which means the coef_ did not converge\n",
      "  \"the coef_ did not converge\", ConvergenceWarning)\n",
      "/home/kosio/anaconda3/lib/python3.6/site-packages/sklearn/linear_model/sag.py:326: ConvergenceWarning: The max_iter was reached which means the coef_ did not converge\n",
      "  \"the coef_ did not converge\", ConvergenceWarning)\n",
      "/home/kosio/anaconda3/lib/python3.6/site-packages/sklearn/linear_model/sag.py:326: ConvergenceWarning: The max_iter was reached which means the coef_ did not converge\n",
      "  \"the coef_ did not converge\", ConvergenceWarning)\n",
      "/home/kosio/anaconda3/lib/python3.6/site-packages/sklearn/linear_model/sag.py:326: ConvergenceWarning: The max_iter was reached which means the coef_ did not converge\n",
      "  \"the coef_ did not converge\", ConvergenceWarning)\n",
      "/home/kosio/anaconda3/lib/python3.6/site-packages/sklearn/linear_model/sag.py:326: ConvergenceWarning: The max_iter was reached which means the coef_ did not converge\n",
      "  \"the coef_ did not converge\", ConvergenceWarning)\n",
      "/home/kosio/anaconda3/lib/python3.6/site-packages/sklearn/linear_model/sag.py:326: ConvergenceWarning: The max_iter was reached which means the coef_ did not converge\n",
      "  \"the coef_ did not converge\", ConvergenceWarning)\n",
      "/home/kosio/anaconda3/lib/python3.6/site-packages/sklearn/linear_model/sag.py:326: ConvergenceWarning: The max_iter was reached which means the coef_ did not converge\n",
      "  \"the coef_ did not converge\", ConvergenceWarning)\n",
      "/home/kosio/anaconda3/lib/python3.6/site-packages/sklearn/linear_model/sag.py:326: ConvergenceWarning: The max_iter was reached which means the coef_ did not converge\n",
      "  \"the coef_ did not converge\", ConvergenceWarning)\n",
      "/home/kosio/anaconda3/lib/python3.6/site-packages/sklearn/linear_model/sag.py:326: ConvergenceWarning: The max_iter was reached which means the coef_ did not converge\n",
      "  \"the coef_ did not converge\", ConvergenceWarning)\n",
      "/home/kosio/anaconda3/lib/python3.6/site-packages/sklearn/linear_model/sag.py:326: ConvergenceWarning: The max_iter was reached which means the coef_ did not converge\n",
      "  \"the coef_ did not converge\", ConvergenceWarning)\n",
      "/home/kosio/anaconda3/lib/python3.6/site-packages/sklearn/linear_model/sag.py:326: ConvergenceWarning: The max_iter was reached which means the coef_ did not converge\n",
      "  \"the coef_ did not converge\", ConvergenceWarning)\n",
      "/home/kosio/anaconda3/lib/python3.6/site-packages/sklearn/linear_model/sag.py:326: ConvergenceWarning: The max_iter was reached which means the coef_ did not converge\n",
      "  \"the coef_ did not converge\", ConvergenceWarning)\n",
      "/home/kosio/anaconda3/lib/python3.6/site-packages/sklearn/linear_model/sag.py:326: ConvergenceWarning: The max_iter was reached which means the coef_ did not converge\n",
      "  \"the coef_ did not converge\", ConvergenceWarning)\n",
      "/home/kosio/anaconda3/lib/python3.6/site-packages/sklearn/linear_model/sag.py:326: ConvergenceWarning: The max_iter was reached which means the coef_ did not converge\n",
      "  \"the coef_ did not converge\", ConvergenceWarning)\n",
      "/home/kosio/anaconda3/lib/python3.6/site-packages/sklearn/linear_model/sag.py:326: ConvergenceWarning: The max_iter was reached which means the coef_ did not converge\n",
      "  \"the coef_ did not converge\", ConvergenceWarning)\n",
      "/home/kosio/anaconda3/lib/python3.6/site-packages/sklearn/linear_model/sag.py:326: ConvergenceWarning: The max_iter was reached which means the coef_ did not converge\n",
      "  \"the coef_ did not converge\", ConvergenceWarning)\n",
      "/home/kosio/anaconda3/lib/python3.6/site-packages/sklearn/linear_model/sag.py:326: ConvergenceWarning: The max_iter was reached which means the coef_ did not converge\n",
      "  \"the coef_ did not converge\", ConvergenceWarning)\n"
     ]
    },
    {
     "name": "stderr",
     "output_type": "stream",
     "text": [
      "/home/kosio/anaconda3/lib/python3.6/site-packages/sklearn/linear_model/sag.py:326: ConvergenceWarning: The max_iter was reached which means the coef_ did not converge\n",
      "  \"the coef_ did not converge\", ConvergenceWarning)\n",
      "/home/kosio/anaconda3/lib/python3.6/site-packages/sklearn/linear_model/sag.py:326: ConvergenceWarning: The max_iter was reached which means the coef_ did not converge\n",
      "  \"the coef_ did not converge\", ConvergenceWarning)\n",
      "/home/kosio/anaconda3/lib/python3.6/site-packages/sklearn/linear_model/sag.py:326: ConvergenceWarning: The max_iter was reached which means the coef_ did not converge\n",
      "  \"the coef_ did not converge\", ConvergenceWarning)\n",
      "/home/kosio/anaconda3/lib/python3.6/site-packages/sklearn/linear_model/sag.py:326: ConvergenceWarning: The max_iter was reached which means the coef_ did not converge\n",
      "  \"the coef_ did not converge\", ConvergenceWarning)\n",
      "/home/kosio/anaconda3/lib/python3.6/site-packages/sklearn/linear_model/sag.py:326: ConvergenceWarning: The max_iter was reached which means the coef_ did not converge\n",
      "  \"the coef_ did not converge\", ConvergenceWarning)\n",
      "/home/kosio/anaconda3/lib/python3.6/site-packages/sklearn/linear_model/sag.py:326: ConvergenceWarning: The max_iter was reached which means the coef_ did not converge\n",
      "  \"the coef_ did not converge\", ConvergenceWarning)\n",
      "/home/kosio/anaconda3/lib/python3.6/site-packages/sklearn/linear_model/sag.py:326: ConvergenceWarning: The max_iter was reached which means the coef_ did not converge\n",
      "  \"the coef_ did not converge\", ConvergenceWarning)\n",
      "/home/kosio/anaconda3/lib/python3.6/site-packages/sklearn/linear_model/sag.py:326: ConvergenceWarning: The max_iter was reached which means the coef_ did not converge\n",
      "  \"the coef_ did not converge\", ConvergenceWarning)\n",
      "/home/kosio/anaconda3/lib/python3.6/site-packages/sklearn/linear_model/sag.py:326: ConvergenceWarning: The max_iter was reached which means the coef_ did not converge\n",
      "  \"the coef_ did not converge\", ConvergenceWarning)\n",
      "/home/kosio/anaconda3/lib/python3.6/site-packages/sklearn/linear_model/sag.py:326: ConvergenceWarning: The max_iter was reached which means the coef_ did not converge\n",
      "  \"the coef_ did not converge\", ConvergenceWarning)\n",
      "/home/kosio/anaconda3/lib/python3.6/site-packages/sklearn/linear_model/sag.py:326: ConvergenceWarning: The max_iter was reached which means the coef_ did not converge\n",
      "  \"the coef_ did not converge\", ConvergenceWarning)\n",
      "/home/kosio/anaconda3/lib/python3.6/site-packages/sklearn/linear_model/sag.py:326: ConvergenceWarning: The max_iter was reached which means the coef_ did not converge\n",
      "  \"the coef_ did not converge\", ConvergenceWarning)\n",
      "/home/kosio/anaconda3/lib/python3.6/site-packages/sklearn/linear_model/sag.py:326: ConvergenceWarning: The max_iter was reached which means the coef_ did not converge\n",
      "  \"the coef_ did not converge\", ConvergenceWarning)\n",
      "/home/kosio/anaconda3/lib/python3.6/site-packages/sklearn/linear_model/sag.py:326: ConvergenceWarning: The max_iter was reached which means the coef_ did not converge\n",
      "  \"the coef_ did not converge\", ConvergenceWarning)\n",
      "/home/kosio/anaconda3/lib/python3.6/site-packages/sklearn/linear_model/sag.py:326: ConvergenceWarning: The max_iter was reached which means the coef_ did not converge\n",
      "  \"the coef_ did not converge\", ConvergenceWarning)\n",
      "/home/kosio/anaconda3/lib/python3.6/site-packages/sklearn/linear_model/sag.py:326: ConvergenceWarning: The max_iter was reached which means the coef_ did not converge\n",
      "  \"the coef_ did not converge\", ConvergenceWarning)\n",
      "/home/kosio/anaconda3/lib/python3.6/site-packages/sklearn/linear_model/sag.py:326: ConvergenceWarning: The max_iter was reached which means the coef_ did not converge\n",
      "  \"the coef_ did not converge\", ConvergenceWarning)\n",
      "/home/kosio/anaconda3/lib/python3.6/site-packages/sklearn/linear_model/sag.py:326: ConvergenceWarning: The max_iter was reached which means the coef_ did not converge\n",
      "  \"the coef_ did not converge\", ConvergenceWarning)\n",
      "/home/kosio/anaconda3/lib/python3.6/site-packages/sklearn/linear_model/sag.py:326: ConvergenceWarning: The max_iter was reached which means the coef_ did not converge\n",
      "  \"the coef_ did not converge\", ConvergenceWarning)\n",
      "/home/kosio/anaconda3/lib/python3.6/site-packages/sklearn/linear_model/sag.py:326: ConvergenceWarning: The max_iter was reached which means the coef_ did not converge\n",
      "  \"the coef_ did not converge\", ConvergenceWarning)\n",
      "/home/kosio/anaconda3/lib/python3.6/site-packages/sklearn/linear_model/sag.py:326: ConvergenceWarning: The max_iter was reached which means the coef_ did not converge\n",
      "  \"the coef_ did not converge\", ConvergenceWarning)\n",
      "/home/kosio/anaconda3/lib/python3.6/site-packages/sklearn/linear_model/sag.py:326: ConvergenceWarning: The max_iter was reached which means the coef_ did not converge\n",
      "  \"the coef_ did not converge\", ConvergenceWarning)\n",
      "/home/kosio/anaconda3/lib/python3.6/site-packages/sklearn/linear_model/sag.py:326: ConvergenceWarning: The max_iter was reached which means the coef_ did not converge\n",
      "  \"the coef_ did not converge\", ConvergenceWarning)\n",
      "/home/kosio/anaconda3/lib/python3.6/site-packages/sklearn/linear_model/sag.py:326: ConvergenceWarning: The max_iter was reached which means the coef_ did not converge\n",
      "  \"the coef_ did not converge\", ConvergenceWarning)\n",
      "[Parallel(n_jobs=4)]: Done  60 out of  60 | elapsed: 18.4min finished\n",
      "/home/kosio/anaconda3/lib/python3.6/site-packages/sklearn/linear_model/sag.py:326: ConvergenceWarning: The max_iter was reached which means the coef_ did not converge\n",
      "  \"the coef_ did not converge\", ConvergenceWarning)\n",
      "/home/kosio/anaconda3/lib/python3.6/site-packages/sklearn/linear_model/sag.py:326: ConvergenceWarning: The max_iter was reached which means the coef_ did not converge\n",
      "  \"the coef_ did not converge\", ConvergenceWarning)\n",
      "/home/kosio/anaconda3/lib/python3.6/site-packages/sklearn/linear_model/sag.py:326: ConvergenceWarning: The max_iter was reached which means the coef_ did not converge\n",
      "  \"the coef_ did not converge\", ConvergenceWarning)\n",
      "/home/kosio/anaconda3/lib/python3.6/site-packages/sklearn/linear_model/sag.py:326: ConvergenceWarning: The max_iter was reached which means the coef_ did not converge\n",
      "  \"the coef_ did not converge\", ConvergenceWarning)\n",
      "/home/kosio/anaconda3/lib/python3.6/site-packages/sklearn/linear_model/sag.py:326: ConvergenceWarning: The max_iter was reached which means the coef_ did not converge\n",
      "  \"the coef_ did not converge\", ConvergenceWarning)\n",
      "/home/kosio/anaconda3/lib/python3.6/site-packages/sklearn/linear_model/sag.py:326: ConvergenceWarning: The max_iter was reached which means the coef_ did not converge\n",
      "  \"the coef_ did not converge\", ConvergenceWarning)\n",
      "/home/kosio/anaconda3/lib/python3.6/site-packages/sklearn/linear_model/sag.py:326: ConvergenceWarning: The max_iter was reached which means the coef_ did not converge\n",
      "  \"the coef_ did not converge\", ConvergenceWarning)\n",
      "/home/kosio/anaconda3/lib/python3.6/site-packages/sklearn/linear_model/sag.py:326: ConvergenceWarning: The max_iter was reached which means the coef_ did not converge\n",
      "  \"the coef_ did not converge\", ConvergenceWarning)\n"
     ]
    },
    {
     "name": "stdout",
     "output_type": "stream",
     "text": [
      "\n",
      " LogisticRegression\n",
      "Best parameters\n",
      "\n",
      "{'vect__use_idf': False, 'vect__norm': 'l2', 'vect__ngram_range': (1, 3), 'vect__min_df': 3, 'vect__max_df': 0.6, 'vect__lowercase': True, 'vect__analyzer': 'word', 'clf__solver': 'sag', 'clf__penalty': 'l2', 'clf__multi_class': 'ovr', 'clf__max_iter': 4000, 'clf__class_weight': 'balanced', 'clf__C': 10} \n",
      "\n",
      "Best score 0.7017543859649122\n",
      "\n",
      "Hyperparameters tuning for LogisticRegression on char basis\n",
      "\n",
      "Fitting 3 folds for each of 20 candidates, totalling 60 fits\n"
     ]
    },
    {
     "name": "stderr",
     "output_type": "stream",
     "text": [
      "/home/kosio/anaconda3/lib/python3.6/site-packages/sklearn/linear_model/sag.py:326: ConvergenceWarning: The max_iter was reached which means the coef_ did not converge\n",
      "  \"the coef_ did not converge\", ConvergenceWarning)\n",
      "/home/kosio/anaconda3/lib/python3.6/site-packages/sklearn/linear_model/sag.py:326: ConvergenceWarning: The max_iter was reached which means the coef_ did not converge\n",
      "  \"the coef_ did not converge\", ConvergenceWarning)\n",
      "/home/kosio/anaconda3/lib/python3.6/site-packages/sklearn/linear_model/sag.py:326: ConvergenceWarning: The max_iter was reached which means the coef_ did not converge\n",
      "  \"the coef_ did not converge\", ConvergenceWarning)\n",
      "/home/kosio/anaconda3/lib/python3.6/site-packages/sklearn/linear_model/sag.py:326: ConvergenceWarning: The max_iter was reached which means the coef_ did not converge\n",
      "  \"the coef_ did not converge\", ConvergenceWarning)\n",
      "/home/kosio/anaconda3/lib/python3.6/site-packages/sklearn/linear_model/sag.py:326: ConvergenceWarning: The max_iter was reached which means the coef_ did not converge\n",
      "  \"the coef_ did not converge\", ConvergenceWarning)\n",
      "/home/kosio/anaconda3/lib/python3.6/site-packages/sklearn/linear_model/sag.py:326: ConvergenceWarning: The max_iter was reached which means the coef_ did not converge\n",
      "  \"the coef_ did not converge\", ConvergenceWarning)\n",
      "/home/kosio/anaconda3/lib/python3.6/site-packages/sklearn/linear_model/sag.py:326: ConvergenceWarning: The max_iter was reached which means the coef_ did not converge\n",
      "  \"the coef_ did not converge\", ConvergenceWarning)\n",
      "/home/kosio/anaconda3/lib/python3.6/site-packages/sklearn/linear_model/sag.py:326: ConvergenceWarning: The max_iter was reached which means the coef_ did not converge\n",
      "  \"the coef_ did not converge\", ConvergenceWarning)\n",
      "/home/kosio/anaconda3/lib/python3.6/site-packages/sklearn/linear_model/sag.py:326: ConvergenceWarning: The max_iter was reached which means the coef_ did not converge\n",
      "  \"the coef_ did not converge\", ConvergenceWarning)\n",
      "/home/kosio/anaconda3/lib/python3.6/site-packages/sklearn/linear_model/sag.py:326: ConvergenceWarning: The max_iter was reached which means the coef_ did not converge\n",
      "  \"the coef_ did not converge\", ConvergenceWarning)\n",
      "/home/kosio/anaconda3/lib/python3.6/site-packages/sklearn/linear_model/sag.py:326: ConvergenceWarning: The max_iter was reached which means the coef_ did not converge\n",
      "  \"the coef_ did not converge\", ConvergenceWarning)\n",
      "/home/kosio/anaconda3/lib/python3.6/site-packages/sklearn/linear_model/sag.py:326: ConvergenceWarning: The max_iter was reached which means the coef_ did not converge\n",
      "  \"the coef_ did not converge\", ConvergenceWarning)\n",
      "/home/kosio/anaconda3/lib/python3.6/site-packages/sklearn/linear_model/sag.py:326: ConvergenceWarning: The max_iter was reached which means the coef_ did not converge\n",
      "  \"the coef_ did not converge\", ConvergenceWarning)\n",
      "[Parallel(n_jobs=4)]: Done  42 tasks      | elapsed: 158.9min\n",
      "/home/kosio/anaconda3/lib/python3.6/site-packages/sklearn/linear_model/sag.py:326: ConvergenceWarning: The max_iter was reached which means the coef_ did not converge\n",
      "  \"the coef_ did not converge\", ConvergenceWarning)\n"
     ]
    },
    {
     "ename": "KeyboardInterrupt",
     "evalue": "",
     "output_type": "error",
     "traceback": [
      "\u001b[0;31m---------------------------------------------------------------------------\u001b[0m",
      "\u001b[0;31mKeyboardInterrupt\u001b[0m                         Traceback (most recent call last)",
      "\u001b[0;32m<ipython-input-188-328781777820>\u001b[0m in \u001b[0;36m<module>\u001b[0;34m()\u001b[0m\n\u001b[0;32m----> 1\u001b[0;31m \u001b[0mtrain\u001b[0m\u001b[0;34m(\u001b[0m\u001b[0;34m\"LogisticRegression\"\u001b[0m\u001b[0;34m)\u001b[0m\u001b[0;34m\u001b[0m\u001b[0m\n\u001b[0m",
      "\u001b[0;32m<ipython-input-175-f055a10b112a>\u001b[0m in \u001b[0;36mtrain\u001b[0;34m(clf_name)\u001b[0m\n\u001b[1;32m      4\u001b[0m     \u001b[0;32mfor\u001b[0m \u001b[0mk\u001b[0m\u001b[0;34m,\u001b[0m \u001b[0mv\u001b[0m \u001b[0;32min\u001b[0m \u001b[0mpipelines\u001b[0m\u001b[0;34m[\u001b[0m\u001b[0mclf_name\u001b[0m\u001b[0;34m]\u001b[0m\u001b[0;34m.\u001b[0m\u001b[0mitems\u001b[0m\u001b[0;34m(\u001b[0m\u001b[0;34m)\u001b[0m\u001b[0;34m:\u001b[0m\u001b[0;34m\u001b[0m\u001b[0m\n\u001b[1;32m      5\u001b[0m         \u001b[0mprint\u001b[0m\u001b[0;34m(\u001b[0m\u001b[0;34m\"Hyperparameters tuning for {} on {} basis\\n\"\u001b[0m\u001b[0;34m.\u001b[0m\u001b[0mformat\u001b[0m\u001b[0;34m(\u001b[0m\u001b[0mclf_name\u001b[0m\u001b[0;34m,\u001b[0m \u001b[0mk\u001b[0m\u001b[0;34m)\u001b[0m\u001b[0;34m)\u001b[0m\u001b[0;34m\u001b[0m\u001b[0m\n\u001b[0;32m----> 6\u001b[0;31m         \u001b[0mgs\u001b[0m \u001b[0;34m=\u001b[0m \u001b[0mrandom_grid_search\u001b[0m\u001b[0;34m(\u001b[0m\u001b[0;34m*\u001b[0m\u001b[0mv\u001b[0m\u001b[0;34m)\u001b[0m\u001b[0;34m\u001b[0m\u001b[0m\n\u001b[0m\u001b[1;32m      7\u001b[0m         \u001b[0mgrids\u001b[0m\u001b[0;34m[\u001b[0m\u001b[0mclf_name\u001b[0m\u001b[0;34m]\u001b[0m\u001b[0;34m[\u001b[0m\u001b[0mk\u001b[0m\u001b[0;34m]\u001b[0m \u001b[0;34m=\u001b[0m \u001b[0mgs\u001b[0m\u001b[0;34m\u001b[0m\u001b[0m\n\u001b[1;32m      8\u001b[0m         \u001b[0mjoblib\u001b[0m\u001b[0;34m.\u001b[0m\u001b[0mdump\u001b[0m\u001b[0;34m(\u001b[0m\u001b[0mgs\u001b[0m\u001b[0;34m,\u001b[0m \u001b[0;34m\"./grids/Last/{}_{}.pkl\"\u001b[0m\u001b[0;34m.\u001b[0m\u001b[0mformat\u001b[0m\u001b[0;34m(\u001b[0m\u001b[0mclf_name\u001b[0m\u001b[0;34m,\u001b[0m \u001b[0mk\u001b[0m\u001b[0;34m)\u001b[0m\u001b[0;34m,\u001b[0m \u001b[0mcompress\u001b[0m\u001b[0;34m=\u001b[0m\u001b[0;36m1\u001b[0m\u001b[0;34m)\u001b[0m\u001b[0;34m\u001b[0m\u001b[0m\n",
      "\u001b[0;32m<ipython-input-174-6640e816ceb3>\u001b[0m in \u001b[0;36mrandom_grid_search\u001b[0;34m(pipeline, params, cv, n_iter)\u001b[0m\n\u001b[1;32m      2\u001b[0m \u001b[0;34m\u001b[0m\u001b[0m\n\u001b[1;32m      3\u001b[0m   \u001b[0mrgs\u001b[0m \u001b[0;34m=\u001b[0m \u001b[0mRandomizedSearchCV\u001b[0m\u001b[0;34m(\u001b[0m\u001b[0mpipeline\u001b[0m\u001b[0;34m,\u001b[0m \u001b[0mparam_distributions\u001b[0m\u001b[0;34m=\u001b[0m\u001b[0mparams\u001b[0m\u001b[0;34m,\u001b[0m \u001b[0mcv\u001b[0m\u001b[0;34m=\u001b[0m\u001b[0mcv\u001b[0m\u001b[0;34m,\u001b[0m \u001b[0mn_jobs\u001b[0m\u001b[0;34m=\u001b[0m\u001b[0;36m4\u001b[0m\u001b[0;34m,\u001b[0m \u001b[0mn_iter\u001b[0m\u001b[0;34m=\u001b[0m\u001b[0mn_iter\u001b[0m\u001b[0;34m,\u001b[0m \u001b[0mverbose\u001b[0m\u001b[0;34m=\u001b[0m\u001b[0;36m1\u001b[0m\u001b[0;34m,\u001b[0m \u001b[0mrandom_state\u001b[0m\u001b[0;34m=\u001b[0m\u001b[0;36m42\u001b[0m\u001b[0;34m)\u001b[0m\u001b[0;34m\u001b[0m\u001b[0m\n\u001b[0;32m----> 4\u001b[0;31m   \u001b[0mrgs\u001b[0m\u001b[0;34m.\u001b[0m\u001b[0mfit\u001b[0m\u001b[0;34m(\u001b[0m\u001b[0mX_train\u001b[0m\u001b[0;34m,\u001b[0m \u001b[0my_train\u001b[0m\u001b[0;34m)\u001b[0m\u001b[0;34m\u001b[0m\u001b[0m\n\u001b[0m\u001b[1;32m      5\u001b[0m \u001b[0;34m\u001b[0m\u001b[0m\n\u001b[1;32m      6\u001b[0m   \u001b[0mprint\u001b[0m\u001b[0;34m(\u001b[0m\u001b[0;34m\"\\n\"\u001b[0m\u001b[0;34m,\u001b[0m\u001b[0mrgs\u001b[0m\u001b[0;34m.\u001b[0m\u001b[0mbest_estimator_\u001b[0m\u001b[0;34m.\u001b[0m\u001b[0msteps\u001b[0m\u001b[0;34m[\u001b[0m\u001b[0;36m1\u001b[0m\u001b[0;34m]\u001b[0m\u001b[0;34m[\u001b[0m\u001b[0;36m1\u001b[0m\u001b[0;34m]\u001b[0m\u001b[0;34m.\u001b[0m\u001b[0m__class__\u001b[0m\u001b[0;34m.\u001b[0m\u001b[0m__name__\u001b[0m\u001b[0;34m)\u001b[0m\u001b[0;34m\u001b[0m\u001b[0m\n",
      "\u001b[0;32m~/anaconda3/lib/python3.6/site-packages/sklearn/model_selection/_search.py\u001b[0m in \u001b[0;36mfit\u001b[0;34m(self, X, y, groups, **fit_params)\u001b[0m\n\u001b[1;32m    638\u001b[0m                                   error_score=self.error_score)\n\u001b[1;32m    639\u001b[0m           for parameters, (train, test) in product(candidate_params,\n\u001b[0;32m--> 640\u001b[0;31m                                                    cv.split(X, y, groups)))\n\u001b[0m\u001b[1;32m    641\u001b[0m \u001b[0;34m\u001b[0m\u001b[0m\n\u001b[1;32m    642\u001b[0m         \u001b[0;31m# if one choose to see train score, \"out\" will contain train score info\u001b[0m\u001b[0;34m\u001b[0m\u001b[0;34m\u001b[0m\u001b[0m\n",
      "\u001b[0;32m~/anaconda3/lib/python3.6/site-packages/sklearn/externals/joblib/parallel.py\u001b[0m in \u001b[0;36m__call__\u001b[0;34m(self, iterable)\u001b[0m\n\u001b[1;32m    787\u001b[0m                 \u001b[0;31m# consumption.\u001b[0m\u001b[0;34m\u001b[0m\u001b[0;34m\u001b[0m\u001b[0m\n\u001b[1;32m    788\u001b[0m                 \u001b[0mself\u001b[0m\u001b[0;34m.\u001b[0m\u001b[0m_iterating\u001b[0m \u001b[0;34m=\u001b[0m \u001b[0;32mFalse\u001b[0m\u001b[0;34m\u001b[0m\u001b[0m\n\u001b[0;32m--> 789\u001b[0;31m             \u001b[0mself\u001b[0m\u001b[0;34m.\u001b[0m\u001b[0mretrieve\u001b[0m\u001b[0;34m(\u001b[0m\u001b[0;34m)\u001b[0m\u001b[0;34m\u001b[0m\u001b[0m\n\u001b[0m\u001b[1;32m    790\u001b[0m             \u001b[0;31m# Make sure that we get a last message telling us we are done\u001b[0m\u001b[0;34m\u001b[0m\u001b[0;34m\u001b[0m\u001b[0m\n\u001b[1;32m    791\u001b[0m             \u001b[0melapsed_time\u001b[0m \u001b[0;34m=\u001b[0m \u001b[0mtime\u001b[0m\u001b[0;34m.\u001b[0m\u001b[0mtime\u001b[0m\u001b[0;34m(\u001b[0m\u001b[0;34m)\u001b[0m \u001b[0;34m-\u001b[0m \u001b[0mself\u001b[0m\u001b[0;34m.\u001b[0m\u001b[0m_start_time\u001b[0m\u001b[0;34m\u001b[0m\u001b[0m\n",
      "\u001b[0;32m~/anaconda3/lib/python3.6/site-packages/sklearn/externals/joblib/parallel.py\u001b[0m in \u001b[0;36mretrieve\u001b[0;34m(self)\u001b[0m\n\u001b[1;32m    697\u001b[0m             \u001b[0;32mtry\u001b[0m\u001b[0;34m:\u001b[0m\u001b[0;34m\u001b[0m\u001b[0m\n\u001b[1;32m    698\u001b[0m                 \u001b[0;32mif\u001b[0m \u001b[0mgetattr\u001b[0m\u001b[0;34m(\u001b[0m\u001b[0mself\u001b[0m\u001b[0;34m.\u001b[0m\u001b[0m_backend\u001b[0m\u001b[0;34m,\u001b[0m \u001b[0;34m'supports_timeout'\u001b[0m\u001b[0;34m,\u001b[0m \u001b[0;32mFalse\u001b[0m\u001b[0;34m)\u001b[0m\u001b[0;34m:\u001b[0m\u001b[0;34m\u001b[0m\u001b[0m\n\u001b[0;32m--> 699\u001b[0;31m                     \u001b[0mself\u001b[0m\u001b[0;34m.\u001b[0m\u001b[0m_output\u001b[0m\u001b[0;34m.\u001b[0m\u001b[0mextend\u001b[0m\u001b[0;34m(\u001b[0m\u001b[0mjob\u001b[0m\u001b[0;34m.\u001b[0m\u001b[0mget\u001b[0m\u001b[0;34m(\u001b[0m\u001b[0mtimeout\u001b[0m\u001b[0;34m=\u001b[0m\u001b[0mself\u001b[0m\u001b[0;34m.\u001b[0m\u001b[0mtimeout\u001b[0m\u001b[0;34m)\u001b[0m\u001b[0;34m)\u001b[0m\u001b[0;34m\u001b[0m\u001b[0m\n\u001b[0m\u001b[1;32m    700\u001b[0m                 \u001b[0;32melse\u001b[0m\u001b[0;34m:\u001b[0m\u001b[0;34m\u001b[0m\u001b[0m\n\u001b[1;32m    701\u001b[0m                     \u001b[0mself\u001b[0m\u001b[0;34m.\u001b[0m\u001b[0m_output\u001b[0m\u001b[0;34m.\u001b[0m\u001b[0mextend\u001b[0m\u001b[0;34m(\u001b[0m\u001b[0mjob\u001b[0m\u001b[0;34m.\u001b[0m\u001b[0mget\u001b[0m\u001b[0;34m(\u001b[0m\u001b[0;34m)\u001b[0m\u001b[0;34m)\u001b[0m\u001b[0;34m\u001b[0m\u001b[0m\n",
      "\u001b[0;32m~/anaconda3/lib/python3.6/multiprocessing/pool.py\u001b[0m in \u001b[0;36mget\u001b[0;34m(self, timeout)\u001b[0m\n\u001b[1;32m    636\u001b[0m \u001b[0;34m\u001b[0m\u001b[0m\n\u001b[1;32m    637\u001b[0m     \u001b[0;32mdef\u001b[0m \u001b[0mget\u001b[0m\u001b[0;34m(\u001b[0m\u001b[0mself\u001b[0m\u001b[0;34m,\u001b[0m \u001b[0mtimeout\u001b[0m\u001b[0;34m=\u001b[0m\u001b[0;32mNone\u001b[0m\u001b[0;34m)\u001b[0m\u001b[0;34m:\u001b[0m\u001b[0;34m\u001b[0m\u001b[0m\n\u001b[0;32m--> 638\u001b[0;31m         \u001b[0mself\u001b[0m\u001b[0;34m.\u001b[0m\u001b[0mwait\u001b[0m\u001b[0;34m(\u001b[0m\u001b[0mtimeout\u001b[0m\u001b[0;34m)\u001b[0m\u001b[0;34m\u001b[0m\u001b[0m\n\u001b[0m\u001b[1;32m    639\u001b[0m         \u001b[0;32mif\u001b[0m \u001b[0;32mnot\u001b[0m \u001b[0mself\u001b[0m\u001b[0;34m.\u001b[0m\u001b[0mready\u001b[0m\u001b[0;34m(\u001b[0m\u001b[0;34m)\u001b[0m\u001b[0;34m:\u001b[0m\u001b[0;34m\u001b[0m\u001b[0m\n\u001b[1;32m    640\u001b[0m             \u001b[0;32mraise\u001b[0m \u001b[0mTimeoutError\u001b[0m\u001b[0;34m\u001b[0m\u001b[0m\n",
      "\u001b[0;32m~/anaconda3/lib/python3.6/multiprocessing/pool.py\u001b[0m in \u001b[0;36mwait\u001b[0;34m(self, timeout)\u001b[0m\n\u001b[1;32m    633\u001b[0m \u001b[0;34m\u001b[0m\u001b[0m\n\u001b[1;32m    634\u001b[0m     \u001b[0;32mdef\u001b[0m \u001b[0mwait\u001b[0m\u001b[0;34m(\u001b[0m\u001b[0mself\u001b[0m\u001b[0;34m,\u001b[0m \u001b[0mtimeout\u001b[0m\u001b[0;34m=\u001b[0m\u001b[0;32mNone\u001b[0m\u001b[0;34m)\u001b[0m\u001b[0;34m:\u001b[0m\u001b[0;34m\u001b[0m\u001b[0m\n\u001b[0;32m--> 635\u001b[0;31m         \u001b[0mself\u001b[0m\u001b[0;34m.\u001b[0m\u001b[0m_event\u001b[0m\u001b[0;34m.\u001b[0m\u001b[0mwait\u001b[0m\u001b[0;34m(\u001b[0m\u001b[0mtimeout\u001b[0m\u001b[0;34m)\u001b[0m\u001b[0;34m\u001b[0m\u001b[0m\n\u001b[0m\u001b[1;32m    636\u001b[0m \u001b[0;34m\u001b[0m\u001b[0m\n\u001b[1;32m    637\u001b[0m     \u001b[0;32mdef\u001b[0m \u001b[0mget\u001b[0m\u001b[0;34m(\u001b[0m\u001b[0mself\u001b[0m\u001b[0;34m,\u001b[0m \u001b[0mtimeout\u001b[0m\u001b[0;34m=\u001b[0m\u001b[0;32mNone\u001b[0m\u001b[0;34m)\u001b[0m\u001b[0;34m:\u001b[0m\u001b[0;34m\u001b[0m\u001b[0m\n",
      "\u001b[0;32m~/anaconda3/lib/python3.6/threading.py\u001b[0m in \u001b[0;36mwait\u001b[0;34m(self, timeout)\u001b[0m\n\u001b[1;32m    549\u001b[0m             \u001b[0msignaled\u001b[0m \u001b[0;34m=\u001b[0m \u001b[0mself\u001b[0m\u001b[0;34m.\u001b[0m\u001b[0m_flag\u001b[0m\u001b[0;34m\u001b[0m\u001b[0m\n\u001b[1;32m    550\u001b[0m             \u001b[0;32mif\u001b[0m \u001b[0;32mnot\u001b[0m \u001b[0msignaled\u001b[0m\u001b[0;34m:\u001b[0m\u001b[0;34m\u001b[0m\u001b[0m\n\u001b[0;32m--> 551\u001b[0;31m                 \u001b[0msignaled\u001b[0m \u001b[0;34m=\u001b[0m \u001b[0mself\u001b[0m\u001b[0;34m.\u001b[0m\u001b[0m_cond\u001b[0m\u001b[0;34m.\u001b[0m\u001b[0mwait\u001b[0m\u001b[0;34m(\u001b[0m\u001b[0mtimeout\u001b[0m\u001b[0;34m)\u001b[0m\u001b[0;34m\u001b[0m\u001b[0m\n\u001b[0m\u001b[1;32m    552\u001b[0m             \u001b[0;32mreturn\u001b[0m \u001b[0msignaled\u001b[0m\u001b[0;34m\u001b[0m\u001b[0m\n\u001b[1;32m    553\u001b[0m \u001b[0;34m\u001b[0m\u001b[0m\n",
      "\u001b[0;32m~/anaconda3/lib/python3.6/threading.py\u001b[0m in \u001b[0;36mwait\u001b[0;34m(self, timeout)\u001b[0m\n\u001b[1;32m    293\u001b[0m         \u001b[0;32mtry\u001b[0m\u001b[0;34m:\u001b[0m    \u001b[0;31m# restore state no matter what (e.g., KeyboardInterrupt)\u001b[0m\u001b[0;34m\u001b[0m\u001b[0m\n\u001b[1;32m    294\u001b[0m             \u001b[0;32mif\u001b[0m \u001b[0mtimeout\u001b[0m \u001b[0;32mis\u001b[0m \u001b[0;32mNone\u001b[0m\u001b[0;34m:\u001b[0m\u001b[0;34m\u001b[0m\u001b[0m\n\u001b[0;32m--> 295\u001b[0;31m                 \u001b[0mwaiter\u001b[0m\u001b[0;34m.\u001b[0m\u001b[0macquire\u001b[0m\u001b[0;34m(\u001b[0m\u001b[0;34m)\u001b[0m\u001b[0;34m\u001b[0m\u001b[0m\n\u001b[0m\u001b[1;32m    296\u001b[0m                 \u001b[0mgotit\u001b[0m \u001b[0;34m=\u001b[0m \u001b[0;32mTrue\u001b[0m\u001b[0;34m\u001b[0m\u001b[0m\n\u001b[1;32m    297\u001b[0m             \u001b[0;32melse\u001b[0m\u001b[0;34m:\u001b[0m\u001b[0;34m\u001b[0m\u001b[0m\n",
      "\u001b[0;31mKeyboardInterrupt\u001b[0m: "
     ]
    }
   ],
   "source": [
    "# train(\"LogisticRegression\")"
   ]
  },
  {
   "cell_type": "code",
   "execution_count": 27,
   "metadata": {},
   "outputs": [
    {
     "name": "stdout",
     "output_type": "stream",
     "text": [
      "Hyperparameters tuning for RandomForest on word basis\n",
      "\n",
      "Fitting 3 folds for each of 20 candidates, totalling 60 fits\n"
     ]
    },
    {
     "name": "stderr",
     "output_type": "stream",
     "text": [
      "[Parallel(n_jobs=4)]: Done  42 tasks      | elapsed: 13.9min\n",
      "[Parallel(n_jobs=4)]: Done  60 out of  60 | elapsed: 15.8min finished\n"
     ]
    },
    {
     "name": "stdout",
     "output_type": "stream",
     "text": [
      "\n",
      " RandomForestClassifier\n",
      "Best parameters\n",
      "\n",
      "{'vect__use_idf': False, 'vect__norm': 'l1', 'vect__ngram_range': (1, 3), 'vect__min_df': 5, 'vect__max_df': 0.6, 'vect__lowercase': False, 'vect__analyzer': 'word', 'clf__n_estimators': 1400, 'clf__min_samples_split': 5, 'clf__min_samples_leaf': 2, 'clf__max_features': 'sqrt', 'clf__max_depth': None, 'clf__criterion': 'gini', 'clf__bootstrap': False} \n",
      "\n",
      "Best score 0.6768236380424746\n",
      "\n",
      "Hyperparameters tuning for RandomForest on char basis\n",
      "\n",
      "Fitting 3 folds for each of 20 candidates, totalling 60 fits\n"
     ]
    },
    {
     "name": "stderr",
     "output_type": "stream",
     "text": [
      "[Parallel(n_jobs=4)]: Done  42 tasks      | elapsed: 43.7min\n",
      "[Parallel(n_jobs=4)]: Done  60 out of  60 | elapsed: 73.5min finished\n"
     ]
    },
    {
     "name": "stdout",
     "output_type": "stream",
     "text": [
      "\n",
      " RandomForestClassifier\n",
      "Best parameters\n",
      "\n",
      "{'vect__use_idf': True, 'vect__norm': 'l1', 'vect__ngram_range': (3, 5), 'vect__min_df': 3, 'vect__max_df': 0.5, 'vect__lowercase': False, 'vect__analyzer': 'char', 'clf__n_estimators': 1800, 'clf__min_samples_split': 2, 'clf__min_samples_leaf': 2, 'clf__max_features': 'sqrt', 'clf__max_depth': None, 'clf__criterion': 'gini', 'clf__bootstrap': False} \n",
      "\n",
      "Best score 0.6777469990766389\n",
      "\n"
     ]
    }
   ],
   "source": [
    "# train(\"RandomForest\")"
   ]
  },
  {
   "cell_type": "code",
   "execution_count": 33,
   "metadata": {
    "scrolled": true
   },
   "outputs": [
    {
     "name": "stdout",
     "output_type": "stream",
     "text": [
      "Hyperparameters tuning for Xgboost on word basis\n",
      "\n",
      "Fitting 3 folds for each of 20 candidates, totalling 60 fits\n"
     ]
    },
    {
     "name": "stderr",
     "output_type": "stream",
     "text": [
      "/home/kosio/anaconda3/lib/python3.6/site-packages/sklearn/preprocessing/label.py:151: DeprecationWarning: The truth value of an empty array is ambiguous. Returning False, but in future this will result in an error. Use `array.size > 0` to check that an array is not empty.\n",
      "  if diff:\n",
      "/home/kosio/anaconda3/lib/python3.6/site-packages/sklearn/preprocessing/label.py:151: DeprecationWarning: The truth value of an empty array is ambiguous. Returning False, but in future this will result in an error. Use `array.size > 0` to check that an array is not empty.\n",
      "  if diff:\n",
      "/home/kosio/anaconda3/lib/python3.6/site-packages/sklearn/preprocessing/label.py:151: DeprecationWarning: The truth value of an empty array is ambiguous. Returning False, but in future this will result in an error. Use `array.size > 0` to check that an array is not empty.\n",
      "  if diff:\n",
      "/home/kosio/anaconda3/lib/python3.6/site-packages/sklearn/preprocessing/label.py:151: DeprecationWarning: The truth value of an empty array is ambiguous. Returning False, but in future this will result in an error. Use `array.size > 0` to check that an array is not empty.\n",
      "  if diff:\n",
      "/home/kosio/anaconda3/lib/python3.6/site-packages/sklearn/preprocessing/label.py:151: DeprecationWarning: The truth value of an empty array is ambiguous. Returning False, but in future this will result in an error. Use `array.size > 0` to check that an array is not empty.\n",
      "  if diff:\n",
      "/home/kosio/anaconda3/lib/python3.6/site-packages/sklearn/preprocessing/label.py:151: DeprecationWarning: The truth value of an empty array is ambiguous. Returning False, but in future this will result in an error. Use `array.size > 0` to check that an array is not empty.\n",
      "  if diff:\n",
      "/home/kosio/anaconda3/lib/python3.6/site-packages/sklearn/preprocessing/label.py:151: DeprecationWarning: The truth value of an empty array is ambiguous. Returning False, but in future this will result in an error. Use `array.size > 0` to check that an array is not empty.\n",
      "  if diff:\n",
      "/home/kosio/anaconda3/lib/python3.6/site-packages/sklearn/preprocessing/label.py:151: DeprecationWarning: The truth value of an empty array is ambiguous. Returning False, but in future this will result in an error. Use `array.size > 0` to check that an array is not empty.\n",
      "  if diff:\n",
      "/home/kosio/anaconda3/lib/python3.6/site-packages/sklearn/preprocessing/label.py:151: DeprecationWarning: The truth value of an empty array is ambiguous. Returning False, but in future this will result in an error. Use `array.size > 0` to check that an array is not empty.\n",
      "  if diff:\n",
      "/home/kosio/anaconda3/lib/python3.6/site-packages/sklearn/preprocessing/label.py:151: DeprecationWarning: The truth value of an empty array is ambiguous. Returning False, but in future this will result in an error. Use `array.size > 0` to check that an array is not empty.\n",
      "  if diff:\n",
      "/home/kosio/anaconda3/lib/python3.6/site-packages/sklearn/preprocessing/label.py:151: DeprecationWarning: The truth value of an empty array is ambiguous. Returning False, but in future this will result in an error. Use `array.size > 0` to check that an array is not empty.\n",
      "  if diff:\n",
      "/home/kosio/anaconda3/lib/python3.6/site-packages/sklearn/preprocessing/label.py:151: DeprecationWarning: The truth value of an empty array is ambiguous. Returning False, but in future this will result in an error. Use `array.size > 0` to check that an array is not empty.\n",
      "  if diff:\n",
      "/home/kosio/anaconda3/lib/python3.6/site-packages/sklearn/preprocessing/label.py:151: DeprecationWarning: The truth value of an empty array is ambiguous. Returning False, but in future this will result in an error. Use `array.size > 0` to check that an array is not empty.\n",
      "  if diff:\n",
      "/home/kosio/anaconda3/lib/python3.6/site-packages/sklearn/preprocessing/label.py:151: DeprecationWarning: The truth value of an empty array is ambiguous. Returning False, but in future this will result in an error. Use `array.size > 0` to check that an array is not empty.\n",
      "  if diff:\n",
      "/home/kosio/anaconda3/lib/python3.6/site-packages/sklearn/preprocessing/label.py:151: DeprecationWarning: The truth value of an empty array is ambiguous. Returning False, but in future this will result in an error. Use `array.size > 0` to check that an array is not empty.\n",
      "  if diff:\n",
      "/home/kosio/anaconda3/lib/python3.6/site-packages/sklearn/preprocessing/label.py:151: DeprecationWarning: The truth value of an empty array is ambiguous. Returning False, but in future this will result in an error. Use `array.size > 0` to check that an array is not empty.\n",
      "  if diff:\n",
      "/home/kosio/anaconda3/lib/python3.6/site-packages/sklearn/preprocessing/label.py:151: DeprecationWarning: The truth value of an empty array is ambiguous. Returning False, but in future this will result in an error. Use `array.size > 0` to check that an array is not empty.\n",
      "  if diff:\n",
      "/home/kosio/anaconda3/lib/python3.6/site-packages/sklearn/preprocessing/label.py:151: DeprecationWarning: The truth value of an empty array is ambiguous. Returning False, but in future this will result in an error. Use `array.size > 0` to check that an array is not empty.\n",
      "  if diff:\n",
      "/home/kosio/anaconda3/lib/python3.6/site-packages/sklearn/preprocessing/label.py:151: DeprecationWarning: The truth value of an empty array is ambiguous. Returning False, but in future this will result in an error. Use `array.size > 0` to check that an array is not empty.\n",
      "  if diff:\n",
      "/home/kosio/anaconda3/lib/python3.6/site-packages/sklearn/preprocessing/label.py:151: DeprecationWarning: The truth value of an empty array is ambiguous. Returning False, but in future this will result in an error. Use `array.size > 0` to check that an array is not empty.\n",
      "  if diff:\n",
      "/home/kosio/anaconda3/lib/python3.6/site-packages/sklearn/preprocessing/label.py:151: DeprecationWarning: The truth value of an empty array is ambiguous. Returning False, but in future this will result in an error. Use `array.size > 0` to check that an array is not empty.\n",
      "  if diff:\n",
      "/home/kosio/anaconda3/lib/python3.6/site-packages/sklearn/preprocessing/label.py:151: DeprecationWarning: The truth value of an empty array is ambiguous. Returning False, but in future this will result in an error. Use `array.size > 0` to check that an array is not empty.\n",
      "  if diff:\n",
      "/home/kosio/anaconda3/lib/python3.6/site-packages/sklearn/preprocessing/label.py:151: DeprecationWarning: The truth value of an empty array is ambiguous. Returning False, but in future this will result in an error. Use `array.size > 0` to check that an array is not empty.\n",
      "  if diff:\n",
      "/home/kosio/anaconda3/lib/python3.6/site-packages/sklearn/preprocessing/label.py:151: DeprecationWarning: The truth value of an empty array is ambiguous. Returning False, but in future this will result in an error. Use `array.size > 0` to check that an array is not empty.\n",
      "  if diff:\n",
      "/home/kosio/anaconda3/lib/python3.6/site-packages/sklearn/preprocessing/label.py:151: DeprecationWarning: The truth value of an empty array is ambiguous. Returning False, but in future this will result in an error. Use `array.size > 0` to check that an array is not empty.\n",
      "  if diff:\n",
      "/home/kosio/anaconda3/lib/python3.6/site-packages/sklearn/preprocessing/label.py:151: DeprecationWarning: The truth value of an empty array is ambiguous. Returning False, but in future this will result in an error. Use `array.size > 0` to check that an array is not empty.\n",
      "  if diff:\n",
      "/home/kosio/anaconda3/lib/python3.6/site-packages/sklearn/preprocessing/label.py:151: DeprecationWarning: The truth value of an empty array is ambiguous. Returning False, but in future this will result in an error. Use `array.size > 0` to check that an array is not empty.\n",
      "  if diff:\n",
      "/home/kosio/anaconda3/lib/python3.6/site-packages/sklearn/preprocessing/label.py:151: DeprecationWarning: The truth value of an empty array is ambiguous. Returning False, but in future this will result in an error. Use `array.size > 0` to check that an array is not empty.\n",
      "  if diff:\n",
      "/home/kosio/anaconda3/lib/python3.6/site-packages/sklearn/preprocessing/label.py:151: DeprecationWarning: The truth value of an empty array is ambiguous. Returning False, but in future this will result in an error. Use `array.size > 0` to check that an array is not empty.\n",
      "  if diff:\n"
     ]
    },
    {
     "name": "stderr",
     "output_type": "stream",
     "text": [
      "/home/kosio/anaconda3/lib/python3.6/site-packages/sklearn/preprocessing/label.py:151: DeprecationWarning: The truth value of an empty array is ambiguous. Returning False, but in future this will result in an error. Use `array.size > 0` to check that an array is not empty.\n",
      "  if diff:\n",
      "/home/kosio/anaconda3/lib/python3.6/site-packages/sklearn/preprocessing/label.py:151: DeprecationWarning: The truth value of an empty array is ambiguous. Returning False, but in future this will result in an error. Use `array.size > 0` to check that an array is not empty.\n",
      "  if diff:\n",
      "/home/kosio/anaconda3/lib/python3.6/site-packages/sklearn/preprocessing/label.py:151: DeprecationWarning: The truth value of an empty array is ambiguous. Returning False, but in future this will result in an error. Use `array.size > 0` to check that an array is not empty.\n",
      "  if diff:\n",
      "/home/kosio/anaconda3/lib/python3.6/site-packages/sklearn/preprocessing/label.py:151: DeprecationWarning: The truth value of an empty array is ambiguous. Returning False, but in future this will result in an error. Use `array.size > 0` to check that an array is not empty.\n",
      "  if diff:\n",
      "/home/kosio/anaconda3/lib/python3.6/site-packages/sklearn/preprocessing/label.py:151: DeprecationWarning: The truth value of an empty array is ambiguous. Returning False, but in future this will result in an error. Use `array.size > 0` to check that an array is not empty.\n",
      "  if diff:\n",
      "/home/kosio/anaconda3/lib/python3.6/site-packages/sklearn/preprocessing/label.py:151: DeprecationWarning: The truth value of an empty array is ambiguous. Returning False, but in future this will result in an error. Use `array.size > 0` to check that an array is not empty.\n",
      "  if diff:\n",
      "/home/kosio/anaconda3/lib/python3.6/site-packages/sklearn/preprocessing/label.py:151: DeprecationWarning: The truth value of an empty array is ambiguous. Returning False, but in future this will result in an error. Use `array.size > 0` to check that an array is not empty.\n",
      "  if diff:\n",
      "/home/kosio/anaconda3/lib/python3.6/site-packages/sklearn/preprocessing/label.py:151: DeprecationWarning: The truth value of an empty array is ambiguous. Returning False, but in future this will result in an error. Use `array.size > 0` to check that an array is not empty.\n",
      "  if diff:\n",
      "/home/kosio/anaconda3/lib/python3.6/site-packages/sklearn/preprocessing/label.py:151: DeprecationWarning: The truth value of an empty array is ambiguous. Returning False, but in future this will result in an error. Use `array.size > 0` to check that an array is not empty.\n",
      "  if diff:\n",
      "/home/kosio/anaconda3/lib/python3.6/site-packages/sklearn/preprocessing/label.py:151: DeprecationWarning: The truth value of an empty array is ambiguous. Returning False, but in future this will result in an error. Use `array.size > 0` to check that an array is not empty.\n",
      "  if diff:\n",
      "/home/kosio/anaconda3/lib/python3.6/site-packages/sklearn/preprocessing/label.py:151: DeprecationWarning: The truth value of an empty array is ambiguous. Returning False, but in future this will result in an error. Use `array.size > 0` to check that an array is not empty.\n",
      "  if diff:\n",
      "/home/kosio/anaconda3/lib/python3.6/site-packages/sklearn/preprocessing/label.py:151: DeprecationWarning: The truth value of an empty array is ambiguous. Returning False, but in future this will result in an error. Use `array.size > 0` to check that an array is not empty.\n",
      "  if diff:\n",
      "/home/kosio/anaconda3/lib/python3.6/site-packages/sklearn/preprocessing/label.py:151: DeprecationWarning: The truth value of an empty array is ambiguous. Returning False, but in future this will result in an error. Use `array.size > 0` to check that an array is not empty.\n",
      "  if diff:\n",
      "/home/kosio/anaconda3/lib/python3.6/site-packages/sklearn/preprocessing/label.py:151: DeprecationWarning: The truth value of an empty array is ambiguous. Returning False, but in future this will result in an error. Use `array.size > 0` to check that an array is not empty.\n",
      "  if diff:\n",
      "/home/kosio/anaconda3/lib/python3.6/site-packages/sklearn/preprocessing/label.py:151: DeprecationWarning: The truth value of an empty array is ambiguous. Returning False, but in future this will result in an error. Use `array.size > 0` to check that an array is not empty.\n",
      "  if diff:\n",
      "/home/kosio/anaconda3/lib/python3.6/site-packages/sklearn/preprocessing/label.py:151: DeprecationWarning: The truth value of an empty array is ambiguous. Returning False, but in future this will result in an error. Use `array.size > 0` to check that an array is not empty.\n",
      "  if diff:\n",
      "/home/kosio/anaconda3/lib/python3.6/site-packages/sklearn/preprocessing/label.py:151: DeprecationWarning: The truth value of an empty array is ambiguous. Returning False, but in future this will result in an error. Use `array.size > 0` to check that an array is not empty.\n",
      "  if diff:\n",
      "/home/kosio/anaconda3/lib/python3.6/site-packages/sklearn/preprocessing/label.py:151: DeprecationWarning: The truth value of an empty array is ambiguous. Returning False, but in future this will result in an error. Use `array.size > 0` to check that an array is not empty.\n",
      "  if diff:\n",
      "/home/kosio/anaconda3/lib/python3.6/site-packages/sklearn/preprocessing/label.py:151: DeprecationWarning: The truth value of an empty array is ambiguous. Returning False, but in future this will result in an error. Use `array.size > 0` to check that an array is not empty.\n",
      "  if diff:\n",
      "/home/kosio/anaconda3/lib/python3.6/site-packages/sklearn/preprocessing/label.py:151: DeprecationWarning: The truth value of an empty array is ambiguous. Returning False, but in future this will result in an error. Use `array.size > 0` to check that an array is not empty.\n",
      "  if diff:\n",
      "/home/kosio/anaconda3/lib/python3.6/site-packages/sklearn/preprocessing/label.py:151: DeprecationWarning: The truth value of an empty array is ambiguous. Returning False, but in future this will result in an error. Use `array.size > 0` to check that an array is not empty.\n",
      "  if diff:\n",
      "/home/kosio/anaconda3/lib/python3.6/site-packages/sklearn/preprocessing/label.py:151: DeprecationWarning: The truth value of an empty array is ambiguous. Returning False, but in future this will result in an error. Use `array.size > 0` to check that an array is not empty.\n",
      "  if diff:\n",
      "/home/kosio/anaconda3/lib/python3.6/site-packages/sklearn/preprocessing/label.py:151: DeprecationWarning: The truth value of an empty array is ambiguous. Returning False, but in future this will result in an error. Use `array.size > 0` to check that an array is not empty.\n",
      "  if diff:\n",
      "/home/kosio/anaconda3/lib/python3.6/site-packages/sklearn/preprocessing/label.py:151: DeprecationWarning: The truth value of an empty array is ambiguous. Returning False, but in future this will result in an error. Use `array.size > 0` to check that an array is not empty.\n",
      "  if diff:\n",
      "/home/kosio/anaconda3/lib/python3.6/site-packages/sklearn/preprocessing/label.py:151: DeprecationWarning: The truth value of an empty array is ambiguous. Returning False, but in future this will result in an error. Use `array.size > 0` to check that an array is not empty.\n",
      "  if diff:\n",
      "/home/kosio/anaconda3/lib/python3.6/site-packages/sklearn/preprocessing/label.py:151: DeprecationWarning: The truth value of an empty array is ambiguous. Returning False, but in future this will result in an error. Use `array.size > 0` to check that an array is not empty.\n",
      "  if diff:\n",
      "/home/kosio/anaconda3/lib/python3.6/site-packages/sklearn/preprocessing/label.py:151: DeprecationWarning: The truth value of an empty array is ambiguous. Returning False, but in future this will result in an error. Use `array.size > 0` to check that an array is not empty.\n",
      "  if diff:\n",
      "/home/kosio/anaconda3/lib/python3.6/site-packages/sklearn/preprocessing/label.py:151: DeprecationWarning: The truth value of an empty array is ambiguous. Returning False, but in future this will result in an error. Use `array.size > 0` to check that an array is not empty.\n",
      "  if diff:\n",
      "/home/kosio/anaconda3/lib/python3.6/site-packages/sklearn/preprocessing/label.py:151: DeprecationWarning: The truth value of an empty array is ambiguous. Returning False, but in future this will result in an error. Use `array.size > 0` to check that an array is not empty.\n",
      "  if diff:\n"
     ]
    },
    {
     "name": "stderr",
     "output_type": "stream",
     "text": [
      "/home/kosio/anaconda3/lib/python3.6/site-packages/sklearn/preprocessing/label.py:151: DeprecationWarning: The truth value of an empty array is ambiguous. Returning False, but in future this will result in an error. Use `array.size > 0` to check that an array is not empty.\n",
      "  if diff:\n",
      "/home/kosio/anaconda3/lib/python3.6/site-packages/sklearn/preprocessing/label.py:151: DeprecationWarning: The truth value of an empty array is ambiguous. Returning False, but in future this will result in an error. Use `array.size > 0` to check that an array is not empty.\n",
      "  if diff:\n",
      "/home/kosio/anaconda3/lib/python3.6/site-packages/sklearn/preprocessing/label.py:151: DeprecationWarning: The truth value of an empty array is ambiguous. Returning False, but in future this will result in an error. Use `array.size > 0` to check that an array is not empty.\n",
      "  if diff:\n",
      "/home/kosio/anaconda3/lib/python3.6/site-packages/sklearn/preprocessing/label.py:151: DeprecationWarning: The truth value of an empty array is ambiguous. Returning False, but in future this will result in an error. Use `array.size > 0` to check that an array is not empty.\n",
      "  if diff:\n",
      "/home/kosio/anaconda3/lib/python3.6/site-packages/sklearn/preprocessing/label.py:151: DeprecationWarning: The truth value of an empty array is ambiguous. Returning False, but in future this will result in an error. Use `array.size > 0` to check that an array is not empty.\n",
      "  if diff:\n",
      "/home/kosio/anaconda3/lib/python3.6/site-packages/sklearn/preprocessing/label.py:151: DeprecationWarning: The truth value of an empty array is ambiguous. Returning False, but in future this will result in an error. Use `array.size > 0` to check that an array is not empty.\n",
      "  if diff:\n",
      "/home/kosio/anaconda3/lib/python3.6/site-packages/sklearn/preprocessing/label.py:151: DeprecationWarning: The truth value of an empty array is ambiguous. Returning False, but in future this will result in an error. Use `array.size > 0` to check that an array is not empty.\n",
      "  if diff:\n",
      "/home/kosio/anaconda3/lib/python3.6/site-packages/sklearn/preprocessing/label.py:151: DeprecationWarning: The truth value of an empty array is ambiguous. Returning False, but in future this will result in an error. Use `array.size > 0` to check that an array is not empty.\n",
      "  if diff:\n",
      "/home/kosio/anaconda3/lib/python3.6/site-packages/sklearn/preprocessing/label.py:151: DeprecationWarning: The truth value of an empty array is ambiguous. Returning False, but in future this will result in an error. Use `array.size > 0` to check that an array is not empty.\n",
      "  if diff:\n",
      "/home/kosio/anaconda3/lib/python3.6/site-packages/sklearn/preprocessing/label.py:151: DeprecationWarning: The truth value of an empty array is ambiguous. Returning False, but in future this will result in an error. Use `array.size > 0` to check that an array is not empty.\n",
      "  if diff:\n",
      "/home/kosio/anaconda3/lib/python3.6/site-packages/sklearn/preprocessing/label.py:151: DeprecationWarning: The truth value of an empty array is ambiguous. Returning False, but in future this will result in an error. Use `array.size > 0` to check that an array is not empty.\n",
      "  if diff:\n",
      "/home/kosio/anaconda3/lib/python3.6/site-packages/sklearn/preprocessing/label.py:151: DeprecationWarning: The truth value of an empty array is ambiguous. Returning False, but in future this will result in an error. Use `array.size > 0` to check that an array is not empty.\n",
      "  if diff:\n",
      "/home/kosio/anaconda3/lib/python3.6/site-packages/sklearn/preprocessing/label.py:151: DeprecationWarning: The truth value of an empty array is ambiguous. Returning False, but in future this will result in an error. Use `array.size > 0` to check that an array is not empty.\n",
      "  if diff:\n",
      "/home/kosio/anaconda3/lib/python3.6/site-packages/sklearn/preprocessing/label.py:151: DeprecationWarning: The truth value of an empty array is ambiguous. Returning False, but in future this will result in an error. Use `array.size > 0` to check that an array is not empty.\n",
      "  if diff:\n",
      "/home/kosio/anaconda3/lib/python3.6/site-packages/sklearn/preprocessing/label.py:151: DeprecationWarning: The truth value of an empty array is ambiguous. Returning False, but in future this will result in an error. Use `array.size > 0` to check that an array is not empty.\n",
      "  if diff:\n",
      "/home/kosio/anaconda3/lib/python3.6/site-packages/sklearn/preprocessing/label.py:151: DeprecationWarning: The truth value of an empty array is ambiguous. Returning False, but in future this will result in an error. Use `array.size > 0` to check that an array is not empty.\n",
      "  if diff:\n",
      "/home/kosio/anaconda3/lib/python3.6/site-packages/sklearn/preprocessing/label.py:151: DeprecationWarning: The truth value of an empty array is ambiguous. Returning False, but in future this will result in an error. Use `array.size > 0` to check that an array is not empty.\n",
      "  if diff:\n",
      "/home/kosio/anaconda3/lib/python3.6/site-packages/sklearn/preprocessing/label.py:151: DeprecationWarning: The truth value of an empty array is ambiguous. Returning False, but in future this will result in an error. Use `array.size > 0` to check that an array is not empty.\n",
      "  if diff:\n",
      "/home/kosio/anaconda3/lib/python3.6/site-packages/sklearn/preprocessing/label.py:151: DeprecationWarning: The truth value of an empty array is ambiguous. Returning False, but in future this will result in an error. Use `array.size > 0` to check that an array is not empty.\n",
      "  if diff:\n",
      "/home/kosio/anaconda3/lib/python3.6/site-packages/sklearn/preprocessing/label.py:151: DeprecationWarning: The truth value of an empty array is ambiguous. Returning False, but in future this will result in an error. Use `array.size > 0` to check that an array is not empty.\n",
      "  if diff:\n",
      "/home/kosio/anaconda3/lib/python3.6/site-packages/sklearn/preprocessing/label.py:151: DeprecationWarning: The truth value of an empty array is ambiguous. Returning False, but in future this will result in an error. Use `array.size > 0` to check that an array is not empty.\n",
      "  if diff:\n",
      "/home/kosio/anaconda3/lib/python3.6/site-packages/sklearn/preprocessing/label.py:151: DeprecationWarning: The truth value of an empty array is ambiguous. Returning False, but in future this will result in an error. Use `array.size > 0` to check that an array is not empty.\n",
      "  if diff:\n",
      "/home/kosio/anaconda3/lib/python3.6/site-packages/sklearn/preprocessing/label.py:151: DeprecationWarning: The truth value of an empty array is ambiguous. Returning False, but in future this will result in an error. Use `array.size > 0` to check that an array is not empty.\n",
      "  if diff:\n",
      "/home/kosio/anaconda3/lib/python3.6/site-packages/sklearn/preprocessing/label.py:151: DeprecationWarning: The truth value of an empty array is ambiguous. Returning False, but in future this will result in an error. Use `array.size > 0` to check that an array is not empty.\n",
      "  if diff:\n",
      "/home/kosio/anaconda3/lib/python3.6/site-packages/sklearn/preprocessing/label.py:151: DeprecationWarning: The truth value of an empty array is ambiguous. Returning False, but in future this will result in an error. Use `array.size > 0` to check that an array is not empty.\n",
      "  if diff:\n",
      "/home/kosio/anaconda3/lib/python3.6/site-packages/sklearn/preprocessing/label.py:151: DeprecationWarning: The truth value of an empty array is ambiguous. Returning False, but in future this will result in an error. Use `array.size > 0` to check that an array is not empty.\n",
      "  if diff:\n",
      "[Parallel(n_jobs=4)]: Done  42 tasks      | elapsed: 33.3min\n",
      "/home/kosio/anaconda3/lib/python3.6/site-packages/sklearn/preprocessing/label.py:151: DeprecationWarning: The truth value of an empty array is ambiguous. Returning False, but in future this will result in an error. Use `array.size > 0` to check that an array is not empty.\n",
      "  if diff:\n",
      "/home/kosio/anaconda3/lib/python3.6/site-packages/sklearn/preprocessing/label.py:151: DeprecationWarning: The truth value of an empty array is ambiguous. Returning False, but in future this will result in an error. Use `array.size > 0` to check that an array is not empty.\n",
      "  if diff:\n",
      "/home/kosio/anaconda3/lib/python3.6/site-packages/sklearn/preprocessing/label.py:151: DeprecationWarning: The truth value of an empty array is ambiguous. Returning False, but in future this will result in an error. Use `array.size > 0` to check that an array is not empty.\n",
      "  if diff:\n"
     ]
    },
    {
     "name": "stderr",
     "output_type": "stream",
     "text": [
      "/home/kosio/anaconda3/lib/python3.6/site-packages/sklearn/preprocessing/label.py:151: DeprecationWarning: The truth value of an empty array is ambiguous. Returning False, but in future this will result in an error. Use `array.size > 0` to check that an array is not empty.\n",
      "  if diff:\n",
      "/home/kosio/anaconda3/lib/python3.6/site-packages/sklearn/preprocessing/label.py:151: DeprecationWarning: The truth value of an empty array is ambiguous. Returning False, but in future this will result in an error. Use `array.size > 0` to check that an array is not empty.\n",
      "  if diff:\n",
      "/home/kosio/anaconda3/lib/python3.6/site-packages/sklearn/preprocessing/label.py:151: DeprecationWarning: The truth value of an empty array is ambiguous. Returning False, but in future this will result in an error. Use `array.size > 0` to check that an array is not empty.\n",
      "  if diff:\n",
      "/home/kosio/anaconda3/lib/python3.6/site-packages/sklearn/preprocessing/label.py:151: DeprecationWarning: The truth value of an empty array is ambiguous. Returning False, but in future this will result in an error. Use `array.size > 0` to check that an array is not empty.\n",
      "  if diff:\n",
      "/home/kosio/anaconda3/lib/python3.6/site-packages/sklearn/preprocessing/label.py:151: DeprecationWarning: The truth value of an empty array is ambiguous. Returning False, but in future this will result in an error. Use `array.size > 0` to check that an array is not empty.\n",
      "  if diff:\n",
      "/home/kosio/anaconda3/lib/python3.6/site-packages/sklearn/preprocessing/label.py:151: DeprecationWarning: The truth value of an empty array is ambiguous. Returning False, but in future this will result in an error. Use `array.size > 0` to check that an array is not empty.\n",
      "  if diff:\n",
      "/home/kosio/anaconda3/lib/python3.6/site-packages/sklearn/preprocessing/label.py:151: DeprecationWarning: The truth value of an empty array is ambiguous. Returning False, but in future this will result in an error. Use `array.size > 0` to check that an array is not empty.\n",
      "  if diff:\n",
      "/home/kosio/anaconda3/lib/python3.6/site-packages/sklearn/preprocessing/label.py:151: DeprecationWarning: The truth value of an empty array is ambiguous. Returning False, but in future this will result in an error. Use `array.size > 0` to check that an array is not empty.\n",
      "  if diff:\n",
      "/home/kosio/anaconda3/lib/python3.6/site-packages/sklearn/preprocessing/label.py:151: DeprecationWarning: The truth value of an empty array is ambiguous. Returning False, but in future this will result in an error. Use `array.size > 0` to check that an array is not empty.\n",
      "  if diff:\n",
      "/home/kosio/anaconda3/lib/python3.6/site-packages/sklearn/preprocessing/label.py:151: DeprecationWarning: The truth value of an empty array is ambiguous. Returning False, but in future this will result in an error. Use `array.size > 0` to check that an array is not empty.\n",
      "  if diff:\n",
      "/home/kosio/anaconda3/lib/python3.6/site-packages/sklearn/preprocessing/label.py:151: DeprecationWarning: The truth value of an empty array is ambiguous. Returning False, but in future this will result in an error. Use `array.size > 0` to check that an array is not empty.\n",
      "  if diff:\n",
      "/home/kosio/anaconda3/lib/python3.6/site-packages/sklearn/preprocessing/label.py:151: DeprecationWarning: The truth value of an empty array is ambiguous. Returning False, but in future this will result in an error. Use `array.size > 0` to check that an array is not empty.\n",
      "  if diff:\n",
      "/home/kosio/anaconda3/lib/python3.6/site-packages/sklearn/preprocessing/label.py:151: DeprecationWarning: The truth value of an empty array is ambiguous. Returning False, but in future this will result in an error. Use `array.size > 0` to check that an array is not empty.\n",
      "  if diff:\n",
      "/home/kosio/anaconda3/lib/python3.6/site-packages/sklearn/preprocessing/label.py:151: DeprecationWarning: The truth value of an empty array is ambiguous. Returning False, but in future this will result in an error. Use `array.size > 0` to check that an array is not empty.\n",
      "  if diff:\n",
      "/home/kosio/anaconda3/lib/python3.6/site-packages/sklearn/preprocessing/label.py:151: DeprecationWarning: The truth value of an empty array is ambiguous. Returning False, but in future this will result in an error. Use `array.size > 0` to check that an array is not empty.\n",
      "  if diff:\n",
      "/home/kosio/anaconda3/lib/python3.6/site-packages/sklearn/preprocessing/label.py:151: DeprecationWarning: The truth value of an empty array is ambiguous. Returning False, but in future this will result in an error. Use `array.size > 0` to check that an array is not empty.\n",
      "  if diff:\n",
      "/home/kosio/anaconda3/lib/python3.6/site-packages/sklearn/preprocessing/label.py:151: DeprecationWarning: The truth value of an empty array is ambiguous. Returning False, but in future this will result in an error. Use `array.size > 0` to check that an array is not empty.\n",
      "  if diff:\n",
      "/home/kosio/anaconda3/lib/python3.6/site-packages/sklearn/preprocessing/label.py:151: DeprecationWarning: The truth value of an empty array is ambiguous. Returning False, but in future this will result in an error. Use `array.size > 0` to check that an array is not empty.\n",
      "  if diff:\n",
      "/home/kosio/anaconda3/lib/python3.6/site-packages/sklearn/preprocessing/label.py:151: DeprecationWarning: The truth value of an empty array is ambiguous. Returning False, but in future this will result in an error. Use `array.size > 0` to check that an array is not empty.\n",
      "  if diff:\n",
      "/home/kosio/anaconda3/lib/python3.6/site-packages/sklearn/preprocessing/label.py:151: DeprecationWarning: The truth value of an empty array is ambiguous. Returning False, but in future this will result in an error. Use `array.size > 0` to check that an array is not empty.\n",
      "  if diff:\n",
      "/home/kosio/anaconda3/lib/python3.6/site-packages/sklearn/preprocessing/label.py:151: DeprecationWarning: The truth value of an empty array is ambiguous. Returning False, but in future this will result in an error. Use `array.size > 0` to check that an array is not empty.\n",
      "  if diff:\n",
      "/home/kosio/anaconda3/lib/python3.6/site-packages/sklearn/preprocessing/label.py:151: DeprecationWarning: The truth value of an empty array is ambiguous. Returning False, but in future this will result in an error. Use `array.size > 0` to check that an array is not empty.\n",
      "  if diff:\n",
      "/home/kosio/anaconda3/lib/python3.6/site-packages/sklearn/preprocessing/label.py:151: DeprecationWarning: The truth value of an empty array is ambiguous. Returning False, but in future this will result in an error. Use `array.size > 0` to check that an array is not empty.\n",
      "  if diff:\n",
      "/home/kosio/anaconda3/lib/python3.6/site-packages/sklearn/preprocessing/label.py:151: DeprecationWarning: The truth value of an empty array is ambiguous. Returning False, but in future this will result in an error. Use `array.size > 0` to check that an array is not empty.\n",
      "  if diff:\n",
      "/home/kosio/anaconda3/lib/python3.6/site-packages/sklearn/preprocessing/label.py:151: DeprecationWarning: The truth value of an empty array is ambiguous. Returning False, but in future this will result in an error. Use `array.size > 0` to check that an array is not empty.\n",
      "  if diff:\n",
      "/home/kosio/anaconda3/lib/python3.6/site-packages/sklearn/preprocessing/label.py:151: DeprecationWarning: The truth value of an empty array is ambiguous. Returning False, but in future this will result in an error. Use `array.size > 0` to check that an array is not empty.\n",
      "  if diff:\n",
      "/home/kosio/anaconda3/lib/python3.6/site-packages/sklearn/preprocessing/label.py:151: DeprecationWarning: The truth value of an empty array is ambiguous. Returning False, but in future this will result in an error. Use `array.size > 0` to check that an array is not empty.\n",
      "  if diff:\n",
      "/home/kosio/anaconda3/lib/python3.6/site-packages/sklearn/preprocessing/label.py:151: DeprecationWarning: The truth value of an empty array is ambiguous. Returning False, but in future this will result in an error. Use `array.size > 0` to check that an array is not empty.\n",
      "  if diff:\n",
      "/home/kosio/anaconda3/lib/python3.6/site-packages/sklearn/preprocessing/label.py:151: DeprecationWarning: The truth value of an empty array is ambiguous. Returning False, but in future this will result in an error. Use `array.size > 0` to check that an array is not empty.\n",
      "  if diff:\n"
     ]
    },
    {
     "name": "stderr",
     "output_type": "stream",
     "text": [
      "/home/kosio/anaconda3/lib/python3.6/site-packages/sklearn/preprocessing/label.py:151: DeprecationWarning: The truth value of an empty array is ambiguous. Returning False, but in future this will result in an error. Use `array.size > 0` to check that an array is not empty.\n",
      "  if diff:\n",
      "/home/kosio/anaconda3/lib/python3.6/site-packages/sklearn/preprocessing/label.py:151: DeprecationWarning: The truth value of an empty array is ambiguous. Returning False, but in future this will result in an error. Use `array.size > 0` to check that an array is not empty.\n",
      "  if diff:\n",
      "/home/kosio/anaconda3/lib/python3.6/site-packages/sklearn/preprocessing/label.py:151: DeprecationWarning: The truth value of an empty array is ambiguous. Returning False, but in future this will result in an error. Use `array.size > 0` to check that an array is not empty.\n",
      "  if diff:\n",
      "/home/kosio/anaconda3/lib/python3.6/site-packages/sklearn/preprocessing/label.py:151: DeprecationWarning: The truth value of an empty array is ambiguous. Returning False, but in future this will result in an error. Use `array.size > 0` to check that an array is not empty.\n",
      "  if diff:\n",
      "[Parallel(n_jobs=4)]: Done  60 out of  60 | elapsed: 47.7min finished\n"
     ]
    },
    {
     "name": "stdout",
     "output_type": "stream",
     "text": [
      "\n",
      " XGBClassifier\n",
      "Best parameters\n",
      "\n",
      "{'vect__use_idf': False, 'vect__norm': 'l2', 'vect__ngram_range': (1, 2), 'vect__min_df': 2, 'vect__max_df': 0.5, 'vect__lowercase': False, 'vect__analyzer': 'word', 'clf__subsample': 0.8, 'clf__reg_alpha': 1e-05, 'clf__min_child_weight': 1, 'clf__max_depth': 3, 'clf__gamma': 0.2, 'clf__colsample_bytree': 0.6} \n",
      "\n",
      "Best score 0.6648199445983379\n",
      "\n",
      "Hyperparameters tuning for Xgboost on char basis\n",
      "\n",
      "Fitting 3 folds for each of 20 candidates, totalling 60 fits\n"
     ]
    },
    {
     "name": "stderr",
     "output_type": "stream",
     "text": [
      "/home/kosio/anaconda3/lib/python3.6/site-packages/sklearn/preprocessing/label.py:151: DeprecationWarning: The truth value of an empty array is ambiguous. Returning False, but in future this will result in an error. Use `array.size > 0` to check that an array is not empty.\n",
      "  if diff:\n",
      "/home/kosio/anaconda3/lib/python3.6/site-packages/sklearn/preprocessing/label.py:151: DeprecationWarning: The truth value of an empty array is ambiguous. Returning False, but in future this will result in an error. Use `array.size > 0` to check that an array is not empty.\n",
      "  if diff:\n",
      "/home/kosio/anaconda3/lib/python3.6/site-packages/sklearn/preprocessing/label.py:151: DeprecationWarning: The truth value of an empty array is ambiguous. Returning False, but in future this will result in an error. Use `array.size > 0` to check that an array is not empty.\n",
      "  if diff:\n",
      "/home/kosio/anaconda3/lib/python3.6/site-packages/sklearn/preprocessing/label.py:151: DeprecationWarning: The truth value of an empty array is ambiguous. Returning False, but in future this will result in an error. Use `array.size > 0` to check that an array is not empty.\n",
      "  if diff:\n",
      "/home/kosio/anaconda3/lib/python3.6/site-packages/sklearn/preprocessing/label.py:151: DeprecationWarning: The truth value of an empty array is ambiguous. Returning False, but in future this will result in an error. Use `array.size > 0` to check that an array is not empty.\n",
      "  if diff:\n",
      "/home/kosio/anaconda3/lib/python3.6/site-packages/sklearn/preprocessing/label.py:151: DeprecationWarning: The truth value of an empty array is ambiguous. Returning False, but in future this will result in an error. Use `array.size > 0` to check that an array is not empty.\n",
      "  if diff:\n",
      "/home/kosio/anaconda3/lib/python3.6/site-packages/sklearn/preprocessing/label.py:151: DeprecationWarning: The truth value of an empty array is ambiguous. Returning False, but in future this will result in an error. Use `array.size > 0` to check that an array is not empty.\n",
      "  if diff:\n",
      "/home/kosio/anaconda3/lib/python3.6/site-packages/sklearn/preprocessing/label.py:151: DeprecationWarning: The truth value of an empty array is ambiguous. Returning False, but in future this will result in an error. Use `array.size > 0` to check that an array is not empty.\n",
      "  if diff:\n",
      "/home/kosio/anaconda3/lib/python3.6/site-packages/sklearn/preprocessing/label.py:151: DeprecationWarning: The truth value of an empty array is ambiguous. Returning False, but in future this will result in an error. Use `array.size > 0` to check that an array is not empty.\n",
      "  if diff:\n",
      "/home/kosio/anaconda3/lib/python3.6/site-packages/sklearn/preprocessing/label.py:151: DeprecationWarning: The truth value of an empty array is ambiguous. Returning False, but in future this will result in an error. Use `array.size > 0` to check that an array is not empty.\n",
      "  if diff:\n",
      "/home/kosio/anaconda3/lib/python3.6/site-packages/sklearn/preprocessing/label.py:151: DeprecationWarning: The truth value of an empty array is ambiguous. Returning False, but in future this will result in an error. Use `array.size > 0` to check that an array is not empty.\n",
      "  if diff:\n",
      "/home/kosio/anaconda3/lib/python3.6/site-packages/sklearn/preprocessing/label.py:151: DeprecationWarning: The truth value of an empty array is ambiguous. Returning False, but in future this will result in an error. Use `array.size > 0` to check that an array is not empty.\n",
      "  if diff:\n",
      "/home/kosio/anaconda3/lib/python3.6/site-packages/sklearn/preprocessing/label.py:151: DeprecationWarning: The truth value of an empty array is ambiguous. Returning False, but in future this will result in an error. Use `array.size > 0` to check that an array is not empty.\n",
      "  if diff:\n",
      "/home/kosio/anaconda3/lib/python3.6/site-packages/sklearn/preprocessing/label.py:151: DeprecationWarning: The truth value of an empty array is ambiguous. Returning False, but in future this will result in an error. Use `array.size > 0` to check that an array is not empty.\n",
      "  if diff:\n",
      "/home/kosio/anaconda3/lib/python3.6/site-packages/sklearn/preprocessing/label.py:151: DeprecationWarning: The truth value of an empty array is ambiguous. Returning False, but in future this will result in an error. Use `array.size > 0` to check that an array is not empty.\n",
      "  if diff:\n",
      "/home/kosio/anaconda3/lib/python3.6/site-packages/sklearn/preprocessing/label.py:151: DeprecationWarning: The truth value of an empty array is ambiguous. Returning False, but in future this will result in an error. Use `array.size > 0` to check that an array is not empty.\n",
      "  if diff:\n",
      "/home/kosio/anaconda3/lib/python3.6/site-packages/sklearn/preprocessing/label.py:151: DeprecationWarning: The truth value of an empty array is ambiguous. Returning False, but in future this will result in an error. Use `array.size > 0` to check that an array is not empty.\n",
      "  if diff:\n",
      "/home/kosio/anaconda3/lib/python3.6/site-packages/sklearn/preprocessing/label.py:151: DeprecationWarning: The truth value of an empty array is ambiguous. Returning False, but in future this will result in an error. Use `array.size > 0` to check that an array is not empty.\n",
      "  if diff:\n",
      "/home/kosio/anaconda3/lib/python3.6/site-packages/sklearn/preprocessing/label.py:151: DeprecationWarning: The truth value of an empty array is ambiguous. Returning False, but in future this will result in an error. Use `array.size > 0` to check that an array is not empty.\n",
      "  if diff:\n",
      "/home/kosio/anaconda3/lib/python3.6/site-packages/sklearn/preprocessing/label.py:151: DeprecationWarning: The truth value of an empty array is ambiguous. Returning False, but in future this will result in an error. Use `array.size > 0` to check that an array is not empty.\n",
      "  if diff:\n",
      "/home/kosio/anaconda3/lib/python3.6/site-packages/sklearn/preprocessing/label.py:151: DeprecationWarning: The truth value of an empty array is ambiguous. Returning False, but in future this will result in an error. Use `array.size > 0` to check that an array is not empty.\n",
      "  if diff:\n",
      "/home/kosio/anaconda3/lib/python3.6/site-packages/sklearn/preprocessing/label.py:151: DeprecationWarning: The truth value of an empty array is ambiguous. Returning False, but in future this will result in an error. Use `array.size > 0` to check that an array is not empty.\n",
      "  if diff:\n",
      "/home/kosio/anaconda3/lib/python3.6/site-packages/sklearn/preprocessing/label.py:151: DeprecationWarning: The truth value of an empty array is ambiguous. Returning False, but in future this will result in an error. Use `array.size > 0` to check that an array is not empty.\n",
      "  if diff:\n",
      "/home/kosio/anaconda3/lib/python3.6/site-packages/sklearn/preprocessing/label.py:151: DeprecationWarning: The truth value of an empty array is ambiguous. Returning False, but in future this will result in an error. Use `array.size > 0` to check that an array is not empty.\n",
      "  if diff:\n",
      "/home/kosio/anaconda3/lib/python3.6/site-packages/sklearn/preprocessing/label.py:151: DeprecationWarning: The truth value of an empty array is ambiguous. Returning False, but in future this will result in an error. Use `array.size > 0` to check that an array is not empty.\n",
      "  if diff:\n",
      "/home/kosio/anaconda3/lib/python3.6/site-packages/sklearn/preprocessing/label.py:151: DeprecationWarning: The truth value of an empty array is ambiguous. Returning False, but in future this will result in an error. Use `array.size > 0` to check that an array is not empty.\n",
      "  if diff:\n",
      "/home/kosio/anaconda3/lib/python3.6/site-packages/sklearn/preprocessing/label.py:151: DeprecationWarning: The truth value of an empty array is ambiguous. Returning False, but in future this will result in an error. Use `array.size > 0` to check that an array is not empty.\n",
      "  if diff:\n",
      "/home/kosio/anaconda3/lib/python3.6/site-packages/sklearn/preprocessing/label.py:151: DeprecationWarning: The truth value of an empty array is ambiguous. Returning False, but in future this will result in an error. Use `array.size > 0` to check that an array is not empty.\n",
      "  if diff:\n",
      "/home/kosio/anaconda3/lib/python3.6/site-packages/sklearn/preprocessing/label.py:151: DeprecationWarning: The truth value of an empty array is ambiguous. Returning False, but in future this will result in an error. Use `array.size > 0` to check that an array is not empty.\n",
      "  if diff:\n"
     ]
    },
    {
     "name": "stderr",
     "output_type": "stream",
     "text": [
      "/home/kosio/anaconda3/lib/python3.6/site-packages/sklearn/preprocessing/label.py:151: DeprecationWarning: The truth value of an empty array is ambiguous. Returning False, but in future this will result in an error. Use `array.size > 0` to check that an array is not empty.\n",
      "  if diff:\n",
      "/home/kosio/anaconda3/lib/python3.6/site-packages/sklearn/preprocessing/label.py:151: DeprecationWarning: The truth value of an empty array is ambiguous. Returning False, but in future this will result in an error. Use `array.size > 0` to check that an array is not empty.\n",
      "  if diff:\n",
      "/home/kosio/anaconda3/lib/python3.6/site-packages/sklearn/preprocessing/label.py:151: DeprecationWarning: The truth value of an empty array is ambiguous. Returning False, but in future this will result in an error. Use `array.size > 0` to check that an array is not empty.\n",
      "  if diff:\n",
      "/home/kosio/anaconda3/lib/python3.6/site-packages/sklearn/preprocessing/label.py:151: DeprecationWarning: The truth value of an empty array is ambiguous. Returning False, but in future this will result in an error. Use `array.size > 0` to check that an array is not empty.\n",
      "  if diff:\n",
      "/home/kosio/anaconda3/lib/python3.6/site-packages/sklearn/preprocessing/label.py:151: DeprecationWarning: The truth value of an empty array is ambiguous. Returning False, but in future this will result in an error. Use `array.size > 0` to check that an array is not empty.\n",
      "  if diff:\n",
      "/home/kosio/anaconda3/lib/python3.6/site-packages/sklearn/preprocessing/label.py:151: DeprecationWarning: The truth value of an empty array is ambiguous. Returning False, but in future this will result in an error. Use `array.size > 0` to check that an array is not empty.\n",
      "  if diff:\n",
      "/home/kosio/anaconda3/lib/python3.6/site-packages/sklearn/preprocessing/label.py:151: DeprecationWarning: The truth value of an empty array is ambiguous. Returning False, but in future this will result in an error. Use `array.size > 0` to check that an array is not empty.\n",
      "  if diff:\n",
      "/home/kosio/anaconda3/lib/python3.6/site-packages/sklearn/preprocessing/label.py:151: DeprecationWarning: The truth value of an empty array is ambiguous. Returning False, but in future this will result in an error. Use `array.size > 0` to check that an array is not empty.\n",
      "  if diff:\n",
      "/home/kosio/anaconda3/lib/python3.6/site-packages/sklearn/preprocessing/label.py:151: DeprecationWarning: The truth value of an empty array is ambiguous. Returning False, but in future this will result in an error. Use `array.size > 0` to check that an array is not empty.\n",
      "  if diff:\n",
      "/home/kosio/anaconda3/lib/python3.6/site-packages/sklearn/preprocessing/label.py:151: DeprecationWarning: The truth value of an empty array is ambiguous. Returning False, but in future this will result in an error. Use `array.size > 0` to check that an array is not empty.\n",
      "  if diff:\n",
      "/home/kosio/anaconda3/lib/python3.6/site-packages/sklearn/preprocessing/label.py:151: DeprecationWarning: The truth value of an empty array is ambiguous. Returning False, but in future this will result in an error. Use `array.size > 0` to check that an array is not empty.\n",
      "  if diff:\n",
      "/home/kosio/anaconda3/lib/python3.6/site-packages/sklearn/preprocessing/label.py:151: DeprecationWarning: The truth value of an empty array is ambiguous. Returning False, but in future this will result in an error. Use `array.size > 0` to check that an array is not empty.\n",
      "  if diff:\n",
      "/home/kosio/anaconda3/lib/python3.6/site-packages/sklearn/preprocessing/label.py:151: DeprecationWarning: The truth value of an empty array is ambiguous. Returning False, but in future this will result in an error. Use `array.size > 0` to check that an array is not empty.\n",
      "  if diff:\n",
      "/home/kosio/anaconda3/lib/python3.6/site-packages/sklearn/preprocessing/label.py:151: DeprecationWarning: The truth value of an empty array is ambiguous. Returning False, but in future this will result in an error. Use `array.size > 0` to check that an array is not empty.\n",
      "  if diff:\n",
      "/home/kosio/anaconda3/lib/python3.6/site-packages/sklearn/preprocessing/label.py:151: DeprecationWarning: The truth value of an empty array is ambiguous. Returning False, but in future this will result in an error. Use `array.size > 0` to check that an array is not empty.\n",
      "  if diff:\n",
      "/home/kosio/anaconda3/lib/python3.6/site-packages/sklearn/preprocessing/label.py:151: DeprecationWarning: The truth value of an empty array is ambiguous. Returning False, but in future this will result in an error. Use `array.size > 0` to check that an array is not empty.\n",
      "  if diff:\n",
      "/home/kosio/anaconda3/lib/python3.6/site-packages/sklearn/preprocessing/label.py:151: DeprecationWarning: The truth value of an empty array is ambiguous. Returning False, but in future this will result in an error. Use `array.size > 0` to check that an array is not empty.\n",
      "  if diff:\n",
      "/home/kosio/anaconda3/lib/python3.6/site-packages/sklearn/preprocessing/label.py:151: DeprecationWarning: The truth value of an empty array is ambiguous. Returning False, but in future this will result in an error. Use `array.size > 0` to check that an array is not empty.\n",
      "  if diff:\n",
      "/home/kosio/anaconda3/lib/python3.6/site-packages/sklearn/preprocessing/label.py:151: DeprecationWarning: The truth value of an empty array is ambiguous. Returning False, but in future this will result in an error. Use `array.size > 0` to check that an array is not empty.\n",
      "  if diff:\n",
      "/home/kosio/anaconda3/lib/python3.6/site-packages/sklearn/preprocessing/label.py:151: DeprecationWarning: The truth value of an empty array is ambiguous. Returning False, but in future this will result in an error. Use `array.size > 0` to check that an array is not empty.\n",
      "  if diff:\n",
      "/home/kosio/anaconda3/lib/python3.6/site-packages/sklearn/preprocessing/label.py:151: DeprecationWarning: The truth value of an empty array is ambiguous. Returning False, but in future this will result in an error. Use `array.size > 0` to check that an array is not empty.\n",
      "  if diff:\n",
      "/home/kosio/anaconda3/lib/python3.6/site-packages/sklearn/preprocessing/label.py:151: DeprecationWarning: The truth value of an empty array is ambiguous. Returning False, but in future this will result in an error. Use `array.size > 0` to check that an array is not empty.\n",
      "  if diff:\n",
      "/home/kosio/anaconda3/lib/python3.6/site-packages/sklearn/preprocessing/label.py:151: DeprecationWarning: The truth value of an empty array is ambiguous. Returning False, but in future this will result in an error. Use `array.size > 0` to check that an array is not empty.\n",
      "  if diff:\n",
      "/home/kosio/anaconda3/lib/python3.6/site-packages/sklearn/preprocessing/label.py:151: DeprecationWarning: The truth value of an empty array is ambiguous. Returning False, but in future this will result in an error. Use `array.size > 0` to check that an array is not empty.\n",
      "  if diff:\n",
      "/home/kosio/anaconda3/lib/python3.6/site-packages/sklearn/preprocessing/label.py:151: DeprecationWarning: The truth value of an empty array is ambiguous. Returning False, but in future this will result in an error. Use `array.size > 0` to check that an array is not empty.\n",
      "  if diff:\n",
      "/home/kosio/anaconda3/lib/python3.6/site-packages/sklearn/preprocessing/label.py:151: DeprecationWarning: The truth value of an empty array is ambiguous. Returning False, but in future this will result in an error. Use `array.size > 0` to check that an array is not empty.\n",
      "  if diff:\n",
      "/home/kosio/anaconda3/lib/python3.6/site-packages/sklearn/preprocessing/label.py:151: DeprecationWarning: The truth value of an empty array is ambiguous. Returning False, but in future this will result in an error. Use `array.size > 0` to check that an array is not empty.\n",
      "  if diff:\n",
      "/home/kosio/anaconda3/lib/python3.6/site-packages/sklearn/preprocessing/label.py:151: DeprecationWarning: The truth value of an empty array is ambiguous. Returning False, but in future this will result in an error. Use `array.size > 0` to check that an array is not empty.\n",
      "  if diff:\n",
      "/home/kosio/anaconda3/lib/python3.6/site-packages/sklearn/preprocessing/label.py:151: DeprecationWarning: The truth value of an empty array is ambiguous. Returning False, but in future this will result in an error. Use `array.size > 0` to check that an array is not empty.\n",
      "  if diff:\n"
     ]
    },
    {
     "name": "stderr",
     "output_type": "stream",
     "text": [
      "/home/kosio/anaconda3/lib/python3.6/site-packages/sklearn/preprocessing/label.py:151: DeprecationWarning: The truth value of an empty array is ambiguous. Returning False, but in future this will result in an error. Use `array.size > 0` to check that an array is not empty.\n",
      "  if diff:\n",
      "/home/kosio/anaconda3/lib/python3.6/site-packages/sklearn/preprocessing/label.py:151: DeprecationWarning: The truth value of an empty array is ambiguous. Returning False, but in future this will result in an error. Use `array.size > 0` to check that an array is not empty.\n",
      "  if diff:\n",
      "/home/kosio/anaconda3/lib/python3.6/site-packages/sklearn/preprocessing/label.py:151: DeprecationWarning: The truth value of an empty array is ambiguous. Returning False, but in future this will result in an error. Use `array.size > 0` to check that an array is not empty.\n",
      "  if diff:\n",
      "/home/kosio/anaconda3/lib/python3.6/site-packages/sklearn/preprocessing/label.py:151: DeprecationWarning: The truth value of an empty array is ambiguous. Returning False, but in future this will result in an error. Use `array.size > 0` to check that an array is not empty.\n",
      "  if diff:\n",
      "/home/kosio/anaconda3/lib/python3.6/site-packages/sklearn/preprocessing/label.py:151: DeprecationWarning: The truth value of an empty array is ambiguous. Returning False, but in future this will result in an error. Use `array.size > 0` to check that an array is not empty.\n",
      "  if diff:\n",
      "/home/kosio/anaconda3/lib/python3.6/site-packages/sklearn/preprocessing/label.py:151: DeprecationWarning: The truth value of an empty array is ambiguous. Returning False, but in future this will result in an error. Use `array.size > 0` to check that an array is not empty.\n",
      "  if diff:\n",
      "/home/kosio/anaconda3/lib/python3.6/site-packages/sklearn/preprocessing/label.py:151: DeprecationWarning: The truth value of an empty array is ambiguous. Returning False, but in future this will result in an error. Use `array.size > 0` to check that an array is not empty.\n",
      "  if diff:\n",
      "/home/kosio/anaconda3/lib/python3.6/site-packages/sklearn/preprocessing/label.py:151: DeprecationWarning: The truth value of an empty array is ambiguous. Returning False, but in future this will result in an error. Use `array.size > 0` to check that an array is not empty.\n",
      "  if diff:\n",
      "/home/kosio/anaconda3/lib/python3.6/site-packages/sklearn/preprocessing/label.py:151: DeprecationWarning: The truth value of an empty array is ambiguous. Returning False, but in future this will result in an error. Use `array.size > 0` to check that an array is not empty.\n",
      "  if diff:\n",
      "/home/kosio/anaconda3/lib/python3.6/site-packages/sklearn/preprocessing/label.py:151: DeprecationWarning: The truth value of an empty array is ambiguous. Returning False, but in future this will result in an error. Use `array.size > 0` to check that an array is not empty.\n",
      "  if diff:\n",
      "/home/kosio/anaconda3/lib/python3.6/site-packages/sklearn/preprocessing/label.py:151: DeprecationWarning: The truth value of an empty array is ambiguous. Returning False, but in future this will result in an error. Use `array.size > 0` to check that an array is not empty.\n",
      "  if diff:\n",
      "/home/kosio/anaconda3/lib/python3.6/site-packages/sklearn/preprocessing/label.py:151: DeprecationWarning: The truth value of an empty array is ambiguous. Returning False, but in future this will result in an error. Use `array.size > 0` to check that an array is not empty.\n",
      "  if diff:\n",
      "/home/kosio/anaconda3/lib/python3.6/site-packages/sklearn/preprocessing/label.py:151: DeprecationWarning: The truth value of an empty array is ambiguous. Returning False, but in future this will result in an error. Use `array.size > 0` to check that an array is not empty.\n",
      "  if diff:\n",
      "/home/kosio/anaconda3/lib/python3.6/site-packages/sklearn/preprocessing/label.py:151: DeprecationWarning: The truth value of an empty array is ambiguous. Returning False, but in future this will result in an error. Use `array.size > 0` to check that an array is not empty.\n",
      "  if diff:\n",
      "/home/kosio/anaconda3/lib/python3.6/site-packages/sklearn/preprocessing/label.py:151: DeprecationWarning: The truth value of an empty array is ambiguous. Returning False, but in future this will result in an error. Use `array.size > 0` to check that an array is not empty.\n",
      "  if diff:\n",
      "/home/kosio/anaconda3/lib/python3.6/site-packages/sklearn/preprocessing/label.py:151: DeprecationWarning: The truth value of an empty array is ambiguous. Returning False, but in future this will result in an error. Use `array.size > 0` to check that an array is not empty.\n",
      "  if diff:\n",
      "/home/kosio/anaconda3/lib/python3.6/site-packages/sklearn/preprocessing/label.py:151: DeprecationWarning: The truth value of an empty array is ambiguous. Returning False, but in future this will result in an error. Use `array.size > 0` to check that an array is not empty.\n",
      "  if diff:\n",
      "/home/kosio/anaconda3/lib/python3.6/site-packages/sklearn/preprocessing/label.py:151: DeprecationWarning: The truth value of an empty array is ambiguous. Returning False, but in future this will result in an error. Use `array.size > 0` to check that an array is not empty.\n",
      "  if diff:\n",
      "/home/kosio/anaconda3/lib/python3.6/site-packages/sklearn/preprocessing/label.py:151: DeprecationWarning: The truth value of an empty array is ambiguous. Returning False, but in future this will result in an error. Use `array.size > 0` to check that an array is not empty.\n",
      "  if diff:\n",
      "/home/kosio/anaconda3/lib/python3.6/site-packages/sklearn/preprocessing/label.py:151: DeprecationWarning: The truth value of an empty array is ambiguous. Returning False, but in future this will result in an error. Use `array.size > 0` to check that an array is not empty.\n",
      "  if diff:\n",
      "/home/kosio/anaconda3/lib/python3.6/site-packages/sklearn/preprocessing/label.py:151: DeprecationWarning: The truth value of an empty array is ambiguous. Returning False, but in future this will result in an error. Use `array.size > 0` to check that an array is not empty.\n",
      "  if diff:\n",
      "/home/kosio/anaconda3/lib/python3.6/site-packages/sklearn/preprocessing/label.py:151: DeprecationWarning: The truth value of an empty array is ambiguous. Returning False, but in future this will result in an error. Use `array.size > 0` to check that an array is not empty.\n",
      "  if diff:\n",
      "/home/kosio/anaconda3/lib/python3.6/site-packages/sklearn/preprocessing/label.py:151: DeprecationWarning: The truth value of an empty array is ambiguous. Returning False, but in future this will result in an error. Use `array.size > 0` to check that an array is not empty.\n",
      "  if diff:\n",
      "/home/kosio/anaconda3/lib/python3.6/site-packages/sklearn/preprocessing/label.py:151: DeprecationWarning: The truth value of an empty array is ambiguous. Returning False, but in future this will result in an error. Use `array.size > 0` to check that an array is not empty.\n",
      "  if diff:\n",
      "/home/kosio/anaconda3/lib/python3.6/site-packages/sklearn/preprocessing/label.py:151: DeprecationWarning: The truth value of an empty array is ambiguous. Returning False, but in future this will result in an error. Use `array.size > 0` to check that an array is not empty.\n",
      "  if diff:\n",
      "/home/kosio/anaconda3/lib/python3.6/site-packages/sklearn/preprocessing/label.py:151: DeprecationWarning: The truth value of an empty array is ambiguous. Returning False, but in future this will result in an error. Use `array.size > 0` to check that an array is not empty.\n",
      "  if diff:\n",
      "[Parallel(n_jobs=4)]: Done  42 tasks      | elapsed: 240.5min\n",
      "/home/kosio/anaconda3/lib/python3.6/site-packages/sklearn/preprocessing/label.py:151: DeprecationWarning: The truth value of an empty array is ambiguous. Returning False, but in future this will result in an error. Use `array.size > 0` to check that an array is not empty.\n",
      "  if diff:\n",
      "/home/kosio/anaconda3/lib/python3.6/site-packages/sklearn/preprocessing/label.py:151: DeprecationWarning: The truth value of an empty array is ambiguous. Returning False, but in future this will result in an error. Use `array.size > 0` to check that an array is not empty.\n",
      "  if diff:\n",
      "/home/kosio/anaconda3/lib/python3.6/site-packages/sklearn/preprocessing/label.py:151: DeprecationWarning: The truth value of an empty array is ambiguous. Returning False, but in future this will result in an error. Use `array.size > 0` to check that an array is not empty.\n",
      "  if diff:\n"
     ]
    },
    {
     "name": "stderr",
     "output_type": "stream",
     "text": [
      "/home/kosio/anaconda3/lib/python3.6/site-packages/sklearn/preprocessing/label.py:151: DeprecationWarning: The truth value of an empty array is ambiguous. Returning False, but in future this will result in an error. Use `array.size > 0` to check that an array is not empty.\n",
      "  if diff:\n",
      "/home/kosio/anaconda3/lib/python3.6/site-packages/sklearn/preprocessing/label.py:151: DeprecationWarning: The truth value of an empty array is ambiguous. Returning False, but in future this will result in an error. Use `array.size > 0` to check that an array is not empty.\n",
      "  if diff:\n",
      "/home/kosio/anaconda3/lib/python3.6/site-packages/sklearn/preprocessing/label.py:151: DeprecationWarning: The truth value of an empty array is ambiguous. Returning False, but in future this will result in an error. Use `array.size > 0` to check that an array is not empty.\n",
      "  if diff:\n",
      "/home/kosio/anaconda3/lib/python3.6/site-packages/sklearn/preprocessing/label.py:151: DeprecationWarning: The truth value of an empty array is ambiguous. Returning False, but in future this will result in an error. Use `array.size > 0` to check that an array is not empty.\n",
      "  if diff:\n",
      "/home/kosio/anaconda3/lib/python3.6/site-packages/sklearn/preprocessing/label.py:151: DeprecationWarning: The truth value of an empty array is ambiguous. Returning False, but in future this will result in an error. Use `array.size > 0` to check that an array is not empty.\n",
      "  if diff:\n",
      "/home/kosio/anaconda3/lib/python3.6/site-packages/sklearn/preprocessing/label.py:151: DeprecationWarning: The truth value of an empty array is ambiguous. Returning False, but in future this will result in an error. Use `array.size > 0` to check that an array is not empty.\n",
      "  if diff:\n",
      "/home/kosio/anaconda3/lib/python3.6/site-packages/sklearn/preprocessing/label.py:151: DeprecationWarning: The truth value of an empty array is ambiguous. Returning False, but in future this will result in an error. Use `array.size > 0` to check that an array is not empty.\n",
      "  if diff:\n",
      "/home/kosio/anaconda3/lib/python3.6/site-packages/sklearn/preprocessing/label.py:151: DeprecationWarning: The truth value of an empty array is ambiguous. Returning False, but in future this will result in an error. Use `array.size > 0` to check that an array is not empty.\n",
      "  if diff:\n",
      "/home/kosio/anaconda3/lib/python3.6/site-packages/sklearn/preprocessing/label.py:151: DeprecationWarning: The truth value of an empty array is ambiguous. Returning False, but in future this will result in an error. Use `array.size > 0` to check that an array is not empty.\n",
      "  if diff:\n",
      "/home/kosio/anaconda3/lib/python3.6/site-packages/sklearn/preprocessing/label.py:151: DeprecationWarning: The truth value of an empty array is ambiguous. Returning False, but in future this will result in an error. Use `array.size > 0` to check that an array is not empty.\n",
      "  if diff:\n",
      "/home/kosio/anaconda3/lib/python3.6/site-packages/sklearn/preprocessing/label.py:151: DeprecationWarning: The truth value of an empty array is ambiguous. Returning False, but in future this will result in an error. Use `array.size > 0` to check that an array is not empty.\n",
      "  if diff:\n",
      "/home/kosio/anaconda3/lib/python3.6/site-packages/sklearn/preprocessing/label.py:151: DeprecationWarning: The truth value of an empty array is ambiguous. Returning False, but in future this will result in an error. Use `array.size > 0` to check that an array is not empty.\n",
      "  if diff:\n",
      "/home/kosio/anaconda3/lib/python3.6/site-packages/sklearn/preprocessing/label.py:151: DeprecationWarning: The truth value of an empty array is ambiguous. Returning False, but in future this will result in an error. Use `array.size > 0` to check that an array is not empty.\n",
      "  if diff:\n",
      "/home/kosio/anaconda3/lib/python3.6/site-packages/sklearn/preprocessing/label.py:151: DeprecationWarning: The truth value of an empty array is ambiguous. Returning False, but in future this will result in an error. Use `array.size > 0` to check that an array is not empty.\n",
      "  if diff:\n",
      "/home/kosio/anaconda3/lib/python3.6/site-packages/sklearn/preprocessing/label.py:151: DeprecationWarning: The truth value of an empty array is ambiguous. Returning False, but in future this will result in an error. Use `array.size > 0` to check that an array is not empty.\n",
      "  if diff:\n",
      "/home/kosio/anaconda3/lib/python3.6/site-packages/sklearn/preprocessing/label.py:151: DeprecationWarning: The truth value of an empty array is ambiguous. Returning False, but in future this will result in an error. Use `array.size > 0` to check that an array is not empty.\n",
      "  if diff:\n",
      "/home/kosio/anaconda3/lib/python3.6/site-packages/sklearn/preprocessing/label.py:151: DeprecationWarning: The truth value of an empty array is ambiguous. Returning False, but in future this will result in an error. Use `array.size > 0` to check that an array is not empty.\n",
      "  if diff:\n",
      "/home/kosio/anaconda3/lib/python3.6/site-packages/sklearn/preprocessing/label.py:151: DeprecationWarning: The truth value of an empty array is ambiguous. Returning False, but in future this will result in an error. Use `array.size > 0` to check that an array is not empty.\n",
      "  if diff:\n",
      "/home/kosio/anaconda3/lib/python3.6/site-packages/sklearn/preprocessing/label.py:151: DeprecationWarning: The truth value of an empty array is ambiguous. Returning False, but in future this will result in an error. Use `array.size > 0` to check that an array is not empty.\n",
      "  if diff:\n",
      "/home/kosio/anaconda3/lib/python3.6/site-packages/sklearn/preprocessing/label.py:151: DeprecationWarning: The truth value of an empty array is ambiguous. Returning False, but in future this will result in an error. Use `array.size > 0` to check that an array is not empty.\n",
      "  if diff:\n",
      "/home/kosio/anaconda3/lib/python3.6/site-packages/sklearn/preprocessing/label.py:151: DeprecationWarning: The truth value of an empty array is ambiguous. Returning False, but in future this will result in an error. Use `array.size > 0` to check that an array is not empty.\n",
      "  if diff:\n",
      "/home/kosio/anaconda3/lib/python3.6/site-packages/sklearn/preprocessing/label.py:151: DeprecationWarning: The truth value of an empty array is ambiguous. Returning False, but in future this will result in an error. Use `array.size > 0` to check that an array is not empty.\n",
      "  if diff:\n",
      "/home/kosio/anaconda3/lib/python3.6/site-packages/sklearn/preprocessing/label.py:151: DeprecationWarning: The truth value of an empty array is ambiguous. Returning False, but in future this will result in an error. Use `array.size > 0` to check that an array is not empty.\n",
      "  if diff:\n",
      "/home/kosio/anaconda3/lib/python3.6/site-packages/sklearn/preprocessing/label.py:151: DeprecationWarning: The truth value of an empty array is ambiguous. Returning False, but in future this will result in an error. Use `array.size > 0` to check that an array is not empty.\n",
      "  if diff:\n",
      "/home/kosio/anaconda3/lib/python3.6/site-packages/sklearn/preprocessing/label.py:151: DeprecationWarning: The truth value of an empty array is ambiguous. Returning False, but in future this will result in an error. Use `array.size > 0` to check that an array is not empty.\n",
      "  if diff:\n",
      "/home/kosio/anaconda3/lib/python3.6/site-packages/sklearn/preprocessing/label.py:151: DeprecationWarning: The truth value of an empty array is ambiguous. Returning False, but in future this will result in an error. Use `array.size > 0` to check that an array is not empty.\n",
      "  if diff:\n",
      "/home/kosio/anaconda3/lib/python3.6/site-packages/sklearn/preprocessing/label.py:151: DeprecationWarning: The truth value of an empty array is ambiguous. Returning False, but in future this will result in an error. Use `array.size > 0` to check that an array is not empty.\n",
      "  if diff:\n",
      "/home/kosio/anaconda3/lib/python3.6/site-packages/sklearn/preprocessing/label.py:151: DeprecationWarning: The truth value of an empty array is ambiguous. Returning False, but in future this will result in an error. Use `array.size > 0` to check that an array is not empty.\n",
      "  if diff:\n",
      "/home/kosio/anaconda3/lib/python3.6/site-packages/sklearn/preprocessing/label.py:151: DeprecationWarning: The truth value of an empty array is ambiguous. Returning False, but in future this will result in an error. Use `array.size > 0` to check that an array is not empty.\n",
      "  if diff:\n"
     ]
    },
    {
     "name": "stderr",
     "output_type": "stream",
     "text": [
      "/home/kosio/anaconda3/lib/python3.6/site-packages/sklearn/preprocessing/label.py:151: DeprecationWarning: The truth value of an empty array is ambiguous. Returning False, but in future this will result in an error. Use `array.size > 0` to check that an array is not empty.\n",
      "  if diff:\n",
      "/home/kosio/anaconda3/lib/python3.6/site-packages/sklearn/preprocessing/label.py:151: DeprecationWarning: The truth value of an empty array is ambiguous. Returning False, but in future this will result in an error. Use `array.size > 0` to check that an array is not empty.\n",
      "  if diff:\n",
      "/home/kosio/anaconda3/lib/python3.6/site-packages/sklearn/preprocessing/label.py:151: DeprecationWarning: The truth value of an empty array is ambiguous. Returning False, but in future this will result in an error. Use `array.size > 0` to check that an array is not empty.\n",
      "  if diff:\n",
      "/home/kosio/anaconda3/lib/python3.6/site-packages/sklearn/preprocessing/label.py:151: DeprecationWarning: The truth value of an empty array is ambiguous. Returning False, but in future this will result in an error. Use `array.size > 0` to check that an array is not empty.\n",
      "  if diff:\n",
      "[Parallel(n_jobs=4)]: Done  60 out of  60 | elapsed: 304.0min finished\n"
     ]
    },
    {
     "name": "stdout",
     "output_type": "stream",
     "text": [
      "\n",
      " XGBClassifier\n",
      "Best parameters\n",
      "\n",
      "{'vect__use_idf': True, 'vect__norm': 'l1', 'vect__ngram_range': (3, 5), 'vect__min_df': 3, 'vect__max_df': 0.5, 'vect__lowercase': True, 'vect__analyzer': 'char', 'clf__subsample': 0.7, 'clf__reg_alpha': 1, 'clf__min_child_weight': 3, 'clf__max_depth': 9, 'clf__gamma': 0.0, 'clf__colsample_bytree': 0.9} \n",
      "\n",
      "Best score 0.6694367497691598\n",
      "\n"
     ]
    }
   ],
   "source": [
    "train(\"Xgboost\")"
   ]
  },
  {
   "cell_type": "raw",
   "metadata": {},
   "source": [
    "За всеки "
   ]
  },
  {
   "cell_type": "code",
   "execution_count": 14,
   "metadata": {},
   "outputs": [
    {
     "name": "stdout",
     "output_type": "stream",
     "text": [
      "LogisticRegression_word.pkl\n",
      "RandomForest_char.pkl\n",
      "Xgboost_char.pkl\n",
      "SVC_char.pkl\n",
      "SVC_word.pkl\n",
      "MultinomialNB_word.pkl\n",
      "MultinomialNB_char.pkl\n",
      "LinearSVC_char.pkl\n",
      "LinearSVC_word.pkl\n",
      "RandomForest_word.pkl\n",
      "Xgboost_word.pkl\n"
     ]
    }
   ],
   "source": [
    "grids = load_grids()"
   ]
  },
  {
   "cell_type": "code",
   "execution_count": 15,
   "metadata": {},
   "outputs": [],
   "source": [
    "best_clf_default = select_best_clf_defaults(grids)\n"
   ]
  },
  {
   "cell_type": "markdown",
   "metadata": {},
   "source": [
    "Да видим например за логистична регресия какво е построил TfidfVectorizer"
   ]
  },
  {
   "cell_type": "code",
   "execution_count": 47,
   "metadata": {},
   "outputs": [
    {
     "name": "stdout",
     "output_type": "stream",
     "text": [
      "TfidfVectorizer\n"
     ]
    },
    {
     "data": {
      "text/html": [
       "<div>\n",
       "<style scoped>\n",
       "    .dataframe tbody tr th:only-of-type {\n",
       "        vertical-align: middle;\n",
       "    }\n",
       "\n",
       "    .dataframe tbody tr th {\n",
       "        vertical-align: top;\n",
       "    }\n",
       "\n",
       "    .dataframe thead th {\n",
       "        text-align: right;\n",
       "    }\n",
       "</style>\n",
       "<table border=\"1\" class=\"dataframe\">\n",
       "  <thead>\n",
       "    <tr style=\"text-align: right;\">\n",
       "      <th></th>\n",
       "      <th>word</th>\n",
       "      <th>occurrences</th>\n",
       "    </tr>\n",
       "  </thead>\n",
       "  <tbody>\n",
       "    <tr>\n",
       "      <th>12561</th>\n",
       "      <td>zurich switzerland</td>\n",
       "      <td>77184</td>\n",
       "    </tr>\n",
       "    <tr>\n",
       "      <th>12366</th>\n",
       "      <td>zurich</td>\n",
       "      <td>77183</td>\n",
       "    </tr>\n",
       "    <tr>\n",
       "      <th>45173</th>\n",
       "      <td>zta xi chapter</td>\n",
       "      <td>77182</td>\n",
       "    </tr>\n",
       "    <tr>\n",
       "      <th>42972</th>\n",
       "      <td>zta xi</td>\n",
       "      <td>77181</td>\n",
       "    </tr>\n",
       "    <tr>\n",
       "      <th>42343</th>\n",
       "      <td>zta</td>\n",
       "      <td>77180</td>\n",
       "    </tr>\n",
       "    <tr>\n",
       "      <th>15471</th>\n",
       "      <td>zoom</td>\n",
       "      <td>77179</td>\n",
       "    </tr>\n",
       "    <tr>\n",
       "      <th>22396</th>\n",
       "      <td>zoology university</td>\n",
       "      <td>77178</td>\n",
       "    </tr>\n",
       "    <tr>\n",
       "      <th>22175</th>\n",
       "      <td>zoology</td>\n",
       "      <td>77177</td>\n",
       "    </tr>\n",
       "    <tr>\n",
       "      <th>52683</th>\n",
       "      <td>zoo</td>\n",
       "      <td>77176</td>\n",
       "    </tr>\n",
       "    <tr>\n",
       "      <th>62480</th>\n",
       "      <td>zone research project</td>\n",
       "      <td>77175</td>\n",
       "    </tr>\n",
       "  </tbody>\n",
       "</table>\n",
       "</div>"
      ],
      "text/plain": [
       "                        word  occurrences\n",
       "12561     zurich switzerland        77184\n",
       "12366                 zurich        77183\n",
       "45173         zta xi chapter        77182\n",
       "42972                 zta xi        77181\n",
       "42343                    zta        77180\n",
       "15471                   zoom        77179\n",
       "22396     zoology university        77178\n",
       "22175                zoology        77177\n",
       "52683                    zoo        77176\n",
       "62480  zone research project        77175"
      ]
     },
     "execution_count": 47,
     "metadata": {},
     "output_type": "execute_result"
    }
   ],
   "source": [
    "print_vocab(best_clf_default[\"LogisticRegression\"].best_estimator_.steps[0][1]).head(10)"
   ]
  },
  {
   "cell_type": "code",
   "execution_count": 103,
   "metadata": {
    "scrolled": false
   },
   "outputs": [
    {
     "name": "stderr",
     "output_type": "stream",
     "text": [
      "/home/kosio/anaconda3/lib/python3.6/site-packages/sklearn/preprocessing/label.py:151: DeprecationWarning: The truth value of an empty array is ambiguous. Returning False, but in future this will result in an error. Use `array.size > 0` to check that an array is not empty.\n",
      "  if diff:\n"
     ]
    },
    {
     "name": "stdout",
     "output_type": "stream",
     "text": [
      "Classifier LogisticRegression\n",
      "\tParameters after hypertuning: solver: sag penalty: l2 multi_class: ovr max_iter: 4000 class_weight: balanced C: 10\n",
      "\tDefault parameters: C: 1.0 class_weight: None max_iter: 100 multi_class: ovr penalty: l2 solver: liblinear\n",
      "\n",
      "Classifier RandomForest\n",
      "\tParameters after hypertuning: n_estimators: 1800 min_samples_split: 2 min_samples_leaf: 2 max_features: sqrt max_depth: None criterion: gini bootstrap: False\n",
      "\tDefault parameters: bootstrap: True criterion: gini max_depth: None max_features: auto min_samples_leaf: 1 min_samples_split: 2 n_estimators: 10\n",
      "\n"
     ]
    },
    {
     "name": "stderr",
     "output_type": "stream",
     "text": [
      "/home/kosio/anaconda3/lib/python3.6/site-packages/sklearn/preprocessing/label.py:151: DeprecationWarning: The truth value of an empty array is ambiguous. Returning False, but in future this will result in an error. Use `array.size > 0` to check that an array is not empty.\n",
      "  if diff:\n"
     ]
    },
    {
     "name": "stdout",
     "output_type": "stream",
     "text": [
      "Classifier Xgboost\n",
      "\tParameters after hypertuning: subsample: 0.7 reg_alpha: 1 min_child_weight: 3 max_depth: 9 gamma: 0.0 colsample_bytree: 0.9\n",
      "\tDefault parameters: colsample_bytree: 1 gamma: 0 max_depth: 3 min_child_weight: 1 reg_alpha: 0 subsample: 1\n",
      "\n",
      "Classifier SVC\n",
      "\tParameters after hypertuning: kernel: rbf gamma: 0.01 class_weight: None C: 1000\n",
      "\tDefault parameters: C: 1.0 class_weight: None gamma: auto kernel: rbf\n",
      "\n",
      "Classifier MultinomialNB\n",
      "\tParameters after hypertuning: alpha: 0.01\n",
      "\tDefault parameters: alpha: 1.0\n",
      "\n",
      "Classifier LinearSVC\n",
      "\tParameters after hypertuning: penalty: l2 dual: False class_weight: None C: 1000\n",
      "\tDefault parameters: C: 1.0 class_weight: None dual: True penalty: l2\n",
      "\n"
     ]
    }
   ],
   "source": [
    "table = make_table(best_clf_default, clfs_defaults)"
   ]
  },
  {
   "cell_type": "markdown",
   "metadata": {},
   "source": [
    "Следващата таблица показва съпоставка на резултатите на класификаторите със оптимизирани хипер параметри и с тези по подразбиране. СЪщо така хиперпараметрите са показани отгоре."
   ]
  },
  {
   "cell_type": "code",
   "execution_count": 127,
   "metadata": {},
   "outputs": [],
   "source": [
    "d = pd.DataFrame(table)"
   ]
  },
  {
   "cell_type": "code",
   "execution_count": 129,
   "metadata": {},
   "outputs": [],
   "source": [
    "d.columns=[\"Classifier\", \"score with default parameters\", \"score with tuned parameters\"]"
   ]
  },
  {
   "cell_type": "code",
   "execution_count": 130,
   "metadata": {},
   "outputs": [
    {
     "data": {
      "text/html": [
       "<div>\n",
       "<style scoped>\n",
       "    .dataframe tbody tr th:only-of-type {\n",
       "        vertical-align: middle;\n",
       "    }\n",
       "\n",
       "    .dataframe tbody tr th {\n",
       "        vertical-align: top;\n",
       "    }\n",
       "\n",
       "    .dataframe thead th {\n",
       "        text-align: right;\n",
       "    }\n",
       "</style>\n",
       "<table border=\"1\" class=\"dataframe\">\n",
       "  <thead>\n",
       "    <tr style=\"text-align: right;\">\n",
       "      <th></th>\n",
       "      <th>Classifier</th>\n",
       "      <th>score with default parameters</th>\n",
       "      <th>score with tuned parameters</th>\n",
       "    </tr>\n",
       "  </thead>\n",
       "  <tbody>\n",
       "    <tr>\n",
       "      <th>0</th>\n",
       "      <td>LogisticRegression</td>\n",
       "      <td>0.652893</td>\n",
       "      <td>0.735537</td>\n",
       "    </tr>\n",
       "    <tr>\n",
       "      <th>1</th>\n",
       "      <td>RandomForest</td>\n",
       "      <td>0.528926</td>\n",
       "      <td>0.669421</td>\n",
       "    </tr>\n",
       "    <tr>\n",
       "      <th>2</th>\n",
       "      <td>Xgboost</td>\n",
       "      <td>0.727273</td>\n",
       "      <td>0.719008</td>\n",
       "    </tr>\n",
       "    <tr>\n",
       "      <th>3</th>\n",
       "      <td>SVC</td>\n",
       "      <td>0.157025</td>\n",
       "      <td>0.677686</td>\n",
       "    </tr>\n",
       "    <tr>\n",
       "      <th>4</th>\n",
       "      <td>MultinomialNB</td>\n",
       "      <td>0.487603</td>\n",
       "      <td>0.636364</td>\n",
       "    </tr>\n",
       "    <tr>\n",
       "      <th>5</th>\n",
       "      <td>LinearSVC</td>\n",
       "      <td>0.694215</td>\n",
       "      <td>0.719008</td>\n",
       "    </tr>\n",
       "  </tbody>\n",
       "</table>\n",
       "</div>"
      ],
      "text/plain": [
       "           Classifier  score with default parameters  \\\n",
       "0  LogisticRegression                       0.652893   \n",
       "1        RandomForest                       0.528926   \n",
       "2             Xgboost                       0.727273   \n",
       "3                 SVC                       0.157025   \n",
       "4       MultinomialNB                       0.487603   \n",
       "5           LinearSVC                       0.694215   \n",
       "\n",
       "   score with tuned parameters  \n",
       "0                     0.735537  \n",
       "1                     0.669421  \n",
       "2                     0.719008  \n",
       "3                     0.677686  \n",
       "4                     0.636364  \n",
       "5                     0.719008  "
      ]
     },
     "execution_count": 130,
     "metadata": {},
     "output_type": "execute_result"
    }
   ],
   "source": [
    "d"
   ]
  },
  {
   "cell_type": "code",
   "execution_count": 68,
   "metadata": {},
   "outputs": [],
   "source": [
    "clf_list = [(k, v.best_estimator_) for k,v  in best_clf_default.items()]"
   ]
  },
  {
   "cell_type": "markdown",
   "metadata": {},
   "source": [
    "Накрая да накрая да разгледаме още един ансамблов метод Max Voting"
   ]
  },
  {
   "cell_type": "code",
   "execution_count": 71,
   "metadata": {},
   "outputs": [],
   "source": [
    "from sklearn.ensemble import VotingClassifier\n",
    "model = VotingClassifier(estimators=clf_list, voting=\"hard\") "
   ]
  },
  {
   "cell_type": "code",
   "execution_count": 72,
   "metadata": {
    "scrolled": true
   },
   "outputs": [
    {
     "name": "stderr",
     "output_type": "stream",
     "text": [
      "/home/kosio/anaconda3/lib/python3.6/site-packages/sklearn/linear_model/sag.py:326: ConvergenceWarning: The max_iter was reached which means the coef_ did not converge\n",
      "  \"the coef_ did not converge\", ConvergenceWarning)\n",
      "/home/kosio/anaconda3/lib/python3.6/site-packages/sklearn/linear_model/sag.py:326: ConvergenceWarning: The max_iter was reached which means the coef_ did not converge\n",
      "  \"the coef_ did not converge\", ConvergenceWarning)\n",
      "/home/kosio/anaconda3/lib/python3.6/site-packages/sklearn/linear_model/sag.py:326: ConvergenceWarning: The max_iter was reached which means the coef_ did not converge\n",
      "  \"the coef_ did not converge\", ConvergenceWarning)\n",
      "/home/kosio/anaconda3/lib/python3.6/site-packages/sklearn/linear_model/sag.py:326: ConvergenceWarning: The max_iter was reached which means the coef_ did not converge\n",
      "  \"the coef_ did not converge\", ConvergenceWarning)\n",
      "/home/kosio/anaconda3/lib/python3.6/site-packages/sklearn/linear_model/sag.py:326: ConvergenceWarning: The max_iter was reached which means the coef_ did not converge\n",
      "  \"the coef_ did not converge\", ConvergenceWarning)\n",
      "/home/kosio/anaconda3/lib/python3.6/site-packages/sklearn/linear_model/sag.py:326: ConvergenceWarning: The max_iter was reached which means the coef_ did not converge\n",
      "  \"the coef_ did not converge\", ConvergenceWarning)\n",
      "/home/kosio/anaconda3/lib/python3.6/site-packages/sklearn/linear_model/sag.py:326: ConvergenceWarning: The max_iter was reached which means the coef_ did not converge\n",
      "  \"the coef_ did not converge\", ConvergenceWarning)\n",
      "/home/kosio/anaconda3/lib/python3.6/site-packages/sklearn/linear_model/sag.py:326: ConvergenceWarning: The max_iter was reached which means the coef_ did not converge\n",
      "  \"the coef_ did not converge\", ConvergenceWarning)\n"
     ]
    },
    {
     "data": {
      "text/plain": [
       "VotingClassifier(estimators=[('LogisticRegression', Pipeline(memory=None,\n",
       "     steps=[('vect', TfidfVectorizer(analyzer='word', binary=False, decode_error='strict',\n",
       "        dtype=<class 'numpy.int64'>, encoding='utf-8', input='content',\n",
       "        lowercase=True, max_df=0.6, max_features=None, min_df=3,\n",
       "        ngram_r...iter=1000,\n",
       "     multi_class='ovr', penalty='l2', random_state=None, tol=0.0001,\n",
       "     verbose=0))]))],\n",
       "         flatten_transform=None, n_jobs=1, voting='hard', weights=None)"
      ]
     },
     "execution_count": 72,
     "metadata": {},
     "output_type": "execute_result"
    }
   ],
   "source": [
    "model.fit(X_train, y_train)\n"
   ]
  },
  {
   "cell_type": "code",
   "execution_count": 73,
   "metadata": {},
   "outputs": [
    {
     "name": "stderr",
     "output_type": "stream",
     "text": [
      "/home/kosio/anaconda3/lib/python3.6/site-packages/sklearn/preprocessing/label.py:151: DeprecationWarning: The truth value of an empty array is ambiguous. Returning False, but in future this will result in an error. Use `array.size > 0` to check that an array is not empty.\n",
      "  if diff:\n",
      "/home/kosio/anaconda3/lib/python3.6/site-packages/sklearn/preprocessing/label.py:151: DeprecationWarning: The truth value of an empty array is ambiguous. Returning False, but in future this will result in an error. Use `array.size > 0` to check that an array is not empty.\n",
      "  if diff:\n"
     ]
    },
    {
     "data": {
      "text/plain": [
       "0.7272727272727273"
      ]
     },
     "execution_count": 73,
     "metadata": {},
     "output_type": "execute_result"
    }
   ],
   "source": [
    "model.score(X_test, y_test)"
   ]
  },
  {
   "cell_type": "code",
   "execution_count": null,
   "metadata": {},
   "outputs": [],
   "source": []
  }
 ],
 "metadata": {
  "kernelspec": {
   "display_name": "Python 3",
   "language": "python",
   "name": "python3"
  },
  "language_info": {
   "codemirror_mode": {
    "name": "ipython",
    "version": 3
   },
   "file_extension": ".py",
   "mimetype": "text/x-python",
   "name": "python",
   "nbconvert_exporter": "python",
   "pygments_lexer": "ipython3",
   "version": "3.6.6"
  }
 },
 "nbformat": 4,
 "nbformat_minor": 2
}
